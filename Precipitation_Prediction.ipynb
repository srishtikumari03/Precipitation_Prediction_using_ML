{
  "nbformat": 4,
  "nbformat_minor": 0,
  "metadata": {
    "colab": {
      "name": "Precipitation_Prediction.ipynb",
      "provenance": [],
      "collapsed_sections": [
        "j7ToNvKvElQz",
        "_E9KCCG_ERZ-",
        "2CxHjdFERpOS",
        "2WsIvEU7RVIj",
        "j115k0EUp8Wu",
        "eAW1eZzGp8Wz",
        "dwG1jdXOp8W4",
        "17CrMXshp8XA",
        "f7AwPHrxp8XB",
        "xJ2LUNpBqgwO",
        "Q-sBSlqQquQP",
        "n40QBBk6qZsz",
        "8G-HsECtq1qO"
      ]
    },
    "kernelspec": {
      "name": "python3",
      "display_name": "Python 3"
    },
    "language_info": {
      "name": "python"
    }
  },
  "cells": [
    {
      "cell_type": "markdown",
      "source": [
        "#Import Libraries\n",
        "\n"
      ],
      "metadata": {
        "id": "j7ToNvKvElQz"
      }
    },
    {
      "cell_type": "code",
      "source": [
        "import pandas as pd\n",
        "import numpy as np\n",
        "import matplotlib.pyplot as plt\n",
        "import seaborn as sns\n",
        "import datetime as dt\n",
        "from sklearn.metrics import roc_auc_score\n",
        "from sklearn.preprocessing import MinMaxScaler\n",
        "scaler = MinMaxScaler()"
      ],
      "metadata": {
        "id": "I49iB4krErFP"
      },
      "execution_count": 1,
      "outputs": []
    },
    {
      "cell_type": "markdown",
      "source": [
        "#Data Importing and Exploration"
      ],
      "metadata": {
        "id": "_E9KCCG_ERZ-"
      }
    },
    {
      "cell_type": "markdown",
      "source": [
        "### Pre-Processing Data"
      ],
      "metadata": {
        "id": "2CxHjdFERpOS"
      }
    },
    {
      "cell_type": "code",
      "source": [
        "df = pd.read_csv('dataset.csv')\n",
        "df.head()"
      ],
      "metadata": {
        "colab": {
          "base_uri": "https://localhost:8080/",
          "height": 0
        },
        "id": "fSnl1HbKgTam",
        "outputId": "30d02988-af74-436c-ca5b-d41fb3094416"
      },
      "execution_count": 2,
      "outputs": [
        {
          "output_type": "execute_result",
          "data": {
            "text/html": [
              "\n",
              "  <div id=\"df-e4eccfa0-025c-4386-bc9e-af5612243db7\">\n",
              "    <div class=\"colab-df-container\">\n",
              "      <div>\n",
              "<style scoped>\n",
              "    .dataframe tbody tr th:only-of-type {\n",
              "        vertical-align: middle;\n",
              "    }\n",
              "\n",
              "    .dataframe tbody tr th {\n",
              "        vertical-align: top;\n",
              "    }\n",
              "\n",
              "    .dataframe thead th {\n",
              "        text-align: right;\n",
              "    }\n",
              "</style>\n",
              "<table border=\"1\" class=\"dataframe\">\n",
              "  <thead>\n",
              "    <tr style=\"text-align: right;\">\n",
              "      <th></th>\n",
              "      <th>STATION</th>\n",
              "      <th>NAME</th>\n",
              "      <th>DATE</th>\n",
              "      <th>AWND</th>\n",
              "      <th>PGTM</th>\n",
              "      <th>PRCP</th>\n",
              "      <th>TAVG</th>\n",
              "      <th>TMAX</th>\n",
              "      <th>TMIN</th>\n",
              "      <th>WDF2</th>\n",
              "      <th>WDF5</th>\n",
              "      <th>WSF2</th>\n",
              "      <th>WSF5</th>\n",
              "      <th>WT01</th>\n",
              "      <th>WT02</th>\n",
              "      <th>WT08</th>\n",
              "    </tr>\n",
              "  </thead>\n",
              "  <tbody>\n",
              "    <tr>\n",
              "      <th>0</th>\n",
              "      <td>USW00093134</td>\n",
              "      <td>LOS ANGELES DOWNTOWN USC, CA US</td>\n",
              "      <td>2016-01-01</td>\n",
              "      <td>2.46</td>\n",
              "      <td>NaN</td>\n",
              "      <td>0.00</td>\n",
              "      <td>NaN</td>\n",
              "      <td>64</td>\n",
              "      <td>43</td>\n",
              "      <td>10.0</td>\n",
              "      <td>30.0</td>\n",
              "      <td>8.1</td>\n",
              "      <td>11.0</td>\n",
              "      <td>NaN</td>\n",
              "      <td>NaN</td>\n",
              "      <td>1.0</td>\n",
              "    </tr>\n",
              "    <tr>\n",
              "      <th>1</th>\n",
              "      <td>USW00093134</td>\n",
              "      <td>LOS ANGELES DOWNTOWN USC, CA US</td>\n",
              "      <td>2016-01-02</td>\n",
              "      <td>2.01</td>\n",
              "      <td>NaN</td>\n",
              "      <td>0.00</td>\n",
              "      <td>NaN</td>\n",
              "      <td>65</td>\n",
              "      <td>47</td>\n",
              "      <td>270.0</td>\n",
              "      <td>30.0</td>\n",
              "      <td>6.0</td>\n",
              "      <td>8.9</td>\n",
              "      <td>NaN</td>\n",
              "      <td>NaN</td>\n",
              "      <td>NaN</td>\n",
              "    </tr>\n",
              "    <tr>\n",
              "      <th>2</th>\n",
              "      <td>USW00093134</td>\n",
              "      <td>LOS ANGELES DOWNTOWN USC, CA US</td>\n",
              "      <td>2016-01-03</td>\n",
              "      <td>0.67</td>\n",
              "      <td>NaN</td>\n",
              "      <td>0.00</td>\n",
              "      <td>NaN</td>\n",
              "      <td>62</td>\n",
              "      <td>44</td>\n",
              "      <td>150.0</td>\n",
              "      <td>150.0</td>\n",
              "      <td>10.1</td>\n",
              "      <td>14.1</td>\n",
              "      <td>NaN</td>\n",
              "      <td>NaN</td>\n",
              "      <td>NaN</td>\n",
              "    </tr>\n",
              "    <tr>\n",
              "      <th>3</th>\n",
              "      <td>USW00093134</td>\n",
              "      <td>LOS ANGELES DOWNTOWN USC, CA US</td>\n",
              "      <td>2016-01-04</td>\n",
              "      <td>1.34</td>\n",
              "      <td>NaN</td>\n",
              "      <td>0.01</td>\n",
              "      <td>NaN</td>\n",
              "      <td>69</td>\n",
              "      <td>55</td>\n",
              "      <td>270.0</td>\n",
              "      <td>280.0</td>\n",
              "      <td>8.1</td>\n",
              "      <td>14.1</td>\n",
              "      <td>NaN</td>\n",
              "      <td>NaN</td>\n",
              "      <td>NaN</td>\n",
              "    </tr>\n",
              "    <tr>\n",
              "      <th>4</th>\n",
              "      <td>USW00093134</td>\n",
              "      <td>LOS ANGELES DOWNTOWN USC, CA US</td>\n",
              "      <td>2016-01-05</td>\n",
              "      <td>2.46</td>\n",
              "      <td>NaN</td>\n",
              "      <td>1.61</td>\n",
              "      <td>NaN</td>\n",
              "      <td>59</td>\n",
              "      <td>49</td>\n",
              "      <td>140.0</td>\n",
              "      <td>140.0</td>\n",
              "      <td>10.1</td>\n",
              "      <td>16.1</td>\n",
              "      <td>1.0</td>\n",
              "      <td>1.0</td>\n",
              "      <td>NaN</td>\n",
              "    </tr>\n",
              "  </tbody>\n",
              "</table>\n",
              "</div>\n",
              "      <button class=\"colab-df-convert\" onclick=\"convertToInteractive('df-e4eccfa0-025c-4386-bc9e-af5612243db7')\"\n",
              "              title=\"Convert this dataframe to an interactive table.\"\n",
              "              style=\"display:none;\">\n",
              "        \n",
              "  <svg xmlns=\"http://www.w3.org/2000/svg\" height=\"24px\"viewBox=\"0 0 24 24\"\n",
              "       width=\"24px\">\n",
              "    <path d=\"M0 0h24v24H0V0z\" fill=\"none\"/>\n",
              "    <path d=\"M18.56 5.44l.94 2.06.94-2.06 2.06-.94-2.06-.94-.94-2.06-.94 2.06-2.06.94zm-11 1L8.5 8.5l.94-2.06 2.06-.94-2.06-.94L8.5 2.5l-.94 2.06-2.06.94zm10 10l.94 2.06.94-2.06 2.06-.94-2.06-.94-.94-2.06-.94 2.06-2.06.94z\"/><path d=\"M17.41 7.96l-1.37-1.37c-.4-.4-.92-.59-1.43-.59-.52 0-1.04.2-1.43.59L10.3 9.45l-7.72 7.72c-.78.78-.78 2.05 0 2.83L4 21.41c.39.39.9.59 1.41.59.51 0 1.02-.2 1.41-.59l7.78-7.78 2.81-2.81c.8-.78.8-2.07 0-2.86zM5.41 20L4 18.59l7.72-7.72 1.47 1.35L5.41 20z\"/>\n",
              "  </svg>\n",
              "      </button>\n",
              "      \n",
              "  <style>\n",
              "    .colab-df-container {\n",
              "      display:flex;\n",
              "      flex-wrap:wrap;\n",
              "      gap: 12px;\n",
              "    }\n",
              "\n",
              "    .colab-df-convert {\n",
              "      background-color: #E8F0FE;\n",
              "      border: none;\n",
              "      border-radius: 50%;\n",
              "      cursor: pointer;\n",
              "      display: none;\n",
              "      fill: #1967D2;\n",
              "      height: 32px;\n",
              "      padding: 0 0 0 0;\n",
              "      width: 32px;\n",
              "    }\n",
              "\n",
              "    .colab-df-convert:hover {\n",
              "      background-color: #E2EBFA;\n",
              "      box-shadow: 0px 1px 2px rgba(60, 64, 67, 0.3), 0px 1px 3px 1px rgba(60, 64, 67, 0.15);\n",
              "      fill: #174EA6;\n",
              "    }\n",
              "\n",
              "    [theme=dark] .colab-df-convert {\n",
              "      background-color: #3B4455;\n",
              "      fill: #D2E3FC;\n",
              "    }\n",
              "\n",
              "    [theme=dark] .colab-df-convert:hover {\n",
              "      background-color: #434B5C;\n",
              "      box-shadow: 0px 1px 3px 1px rgba(0, 0, 0, 0.15);\n",
              "      filter: drop-shadow(0px 1px 2px rgba(0, 0, 0, 0.3));\n",
              "      fill: #FFFFFF;\n",
              "    }\n",
              "  </style>\n",
              "\n",
              "      <script>\n",
              "        const buttonEl =\n",
              "          document.querySelector('#df-e4eccfa0-025c-4386-bc9e-af5612243db7 button.colab-df-convert');\n",
              "        buttonEl.style.display =\n",
              "          google.colab.kernel.accessAllowed ? 'block' : 'none';\n",
              "\n",
              "        async function convertToInteractive(key) {\n",
              "          const element = document.querySelector('#df-e4eccfa0-025c-4386-bc9e-af5612243db7');\n",
              "          const dataTable =\n",
              "            await google.colab.kernel.invokeFunction('convertToInteractive',\n",
              "                                                     [key], {});\n",
              "          if (!dataTable) return;\n",
              "\n",
              "          const docLinkHtml = 'Like what you see? Visit the ' +\n",
              "            '<a target=\"_blank\" href=https://colab.research.google.com/notebooks/data_table.ipynb>data table notebook</a>'\n",
              "            + ' to learn more about interactive tables.';\n",
              "          element.innerHTML = '';\n",
              "          dataTable['output_type'] = 'display_data';\n",
              "          await google.colab.output.renderOutput(dataTable, element);\n",
              "          const docLink = document.createElement('div');\n",
              "          docLink.innerHTML = docLinkHtml;\n",
              "          element.appendChild(docLink);\n",
              "        }\n",
              "      </script>\n",
              "    </div>\n",
              "  </div>\n",
              "  "
            ],
            "text/plain": [
              "       STATION                             NAME        DATE  ...  WT01  WT02  WT08\n",
              "0  USW00093134  LOS ANGELES DOWNTOWN USC, CA US  2016-01-01  ...   NaN   NaN   1.0\n",
              "1  USW00093134  LOS ANGELES DOWNTOWN USC, CA US  2016-01-02  ...   NaN   NaN   NaN\n",
              "2  USW00093134  LOS ANGELES DOWNTOWN USC, CA US  2016-01-03  ...   NaN   NaN   NaN\n",
              "3  USW00093134  LOS ANGELES DOWNTOWN USC, CA US  2016-01-04  ...   NaN   NaN   NaN\n",
              "4  USW00093134  LOS ANGELES DOWNTOWN USC, CA US  2016-01-05  ...   1.0   1.0   NaN\n",
              "\n",
              "[5 rows x 16 columns]"
            ]
          },
          "metadata": {},
          "execution_count": 2
        }
      ]
    },
    {
      "cell_type": "code",
      "source": [
        "df['DATE'].min()"
      ],
      "metadata": {
        "colab": {
          "base_uri": "https://localhost:8080/",
          "height": 0
        },
        "id": "DxTiE97cj_ip",
        "outputId": "40077746-008a-4959-cd0c-f0c1b0bfffce"
      },
      "execution_count": 3,
      "outputs": [
        {
          "output_type": "execute_result",
          "data": {
            "application/vnd.google.colaboratory.intrinsic+json": {
              "type": "string"
            },
            "text/plain": [
              "'2016-01-01'"
            ]
          },
          "metadata": {},
          "execution_count": 3
        }
      ]
    },
    {
      "cell_type": "code",
      "source": [
        "print(\"Total:\", df.shape[0])\n",
        "#Number of nan values in each column\n",
        "for i in df.columns:\n",
        "  print( i, sum( ( ( (df[i] != df[i]).astype(int) ) ) ) )"
      ],
      "metadata": {
        "colab": {
          "base_uri": "https://localhost:8080/"
        },
        "id": "tjex5UKVM2wI",
        "outputId": "9e27a50b-cd58-4d35-a073-6f20ad5d8261"
      },
      "execution_count": 4,
      "outputs": [
        {
          "output_type": "stream",
          "name": "stdout",
          "text": [
            "Total: 1827\n",
            "STATION 0\n",
            "NAME 0\n",
            "DATE 0\n",
            "AWND 4\n",
            "PGTM 1765\n",
            "PRCP 0\n",
            "TAVG 1827\n",
            "TMAX 0\n",
            "TMIN 0\n",
            "WDF2 5\n",
            "WDF5 18\n",
            "WSF2 4\n",
            "WSF5 18\n",
            "WT01 1276\n",
            "WT02 1788\n",
            "WT08 966\n"
          ]
        }
      ]
    },
    {
      "cell_type": "code",
      "source": [
        "def pre_processing_train(df):\n",
        "  Y = (df['PRCP'] > 0).astype(int)\n",
        "  df = df.drop(['PGTM', 'TAVG', 'WT01', 'WT02', 'WT08', 'NAME', 'STATION'], axis = 1)\n",
        "  df['DATE'] = df['DATE'].apply(pd.to_datetime)\n",
        "  df['DATE'] = (df['DATE'] - pd.to_datetime('2016-01-01 00:00:00')).dt.total_seconds()\n",
        "  df[df.columns] = scaler.fit_transform(df[df.columns])\n",
        "  df = df.fillna(2)\n",
        "  X = df\n",
        "\n",
        "  return X, Y"
      ],
      "metadata": {
        "id": "pSqF9IDVVlXy"
      },
      "execution_count": 5,
      "outputs": []
    },
    {
      "cell_type": "code",
      "source": [
        "X, Y = pre_processing_train(df)\n",
        "X.head()"
      ],
      "metadata": {
        "colab": {
          "base_uri": "https://localhost:8080/",
          "height": 0
        },
        "id": "VR9W0wnmklEv",
        "outputId": "1250d50f-f977-4d5e-8361-b49c5a8032fd"
      },
      "execution_count": 6,
      "outputs": [
        {
          "output_type": "execute_result",
          "data": {
            "text/html": [
              "\n",
              "  <div id=\"df-fbdbecd2-d424-423a-993c-89e9a98ccbc9\">\n",
              "    <div class=\"colab-df-container\">\n",
              "      <div>\n",
              "<style scoped>\n",
              "    .dataframe tbody tr th:only-of-type {\n",
              "        vertical-align: middle;\n",
              "    }\n",
              "\n",
              "    .dataframe tbody tr th {\n",
              "        vertical-align: top;\n",
              "    }\n",
              "\n",
              "    .dataframe thead th {\n",
              "        text-align: right;\n",
              "    }\n",
              "</style>\n",
              "<table border=\"1\" class=\"dataframe\">\n",
              "  <thead>\n",
              "    <tr style=\"text-align: right;\">\n",
              "      <th></th>\n",
              "      <th>DATE</th>\n",
              "      <th>AWND</th>\n",
              "      <th>PRCP</th>\n",
              "      <th>TMAX</th>\n",
              "      <th>TMIN</th>\n",
              "      <th>WDF2</th>\n",
              "      <th>WDF5</th>\n",
              "      <th>WSF2</th>\n",
              "      <th>WSF5</th>\n",
              "    </tr>\n",
              "  </thead>\n",
              "  <tbody>\n",
              "    <tr>\n",
              "      <th>0</th>\n",
              "      <td>0.000000</td>\n",
              "      <td>0.305590</td>\n",
              "      <td>0.000000</td>\n",
              "      <td>0.203390</td>\n",
              "      <td>0.121951</td>\n",
              "      <td>0.000000</td>\n",
              "      <td>0.057143</td>\n",
              "      <td>0.287293</td>\n",
              "      <td>0.178571</td>\n",
              "    </tr>\n",
              "    <tr>\n",
              "      <th>1</th>\n",
              "      <td>0.000548</td>\n",
              "      <td>0.249689</td>\n",
              "      <td>0.000000</td>\n",
              "      <td>0.220339</td>\n",
              "      <td>0.219512</td>\n",
              "      <td>0.742857</td>\n",
              "      <td>0.057143</td>\n",
              "      <td>0.171271</td>\n",
              "      <td>0.103571</td>\n",
              "    </tr>\n",
              "    <tr>\n",
              "      <th>2</th>\n",
              "      <td>0.001095</td>\n",
              "      <td>0.083230</td>\n",
              "      <td>0.000000</td>\n",
              "      <td>0.169492</td>\n",
              "      <td>0.146341</td>\n",
              "      <td>0.400000</td>\n",
              "      <td>0.400000</td>\n",
              "      <td>0.397790</td>\n",
              "      <td>0.289286</td>\n",
              "    </tr>\n",
              "    <tr>\n",
              "      <th>3</th>\n",
              "      <td>0.001643</td>\n",
              "      <td>0.166460</td>\n",
              "      <td>0.003745</td>\n",
              "      <td>0.288136</td>\n",
              "      <td>0.414634</td>\n",
              "      <td>0.742857</td>\n",
              "      <td>0.771429</td>\n",
              "      <td>0.287293</td>\n",
              "      <td>0.289286</td>\n",
              "    </tr>\n",
              "    <tr>\n",
              "      <th>4</th>\n",
              "      <td>0.002191</td>\n",
              "      <td>0.305590</td>\n",
              "      <td>0.602996</td>\n",
              "      <td>0.118644</td>\n",
              "      <td>0.268293</td>\n",
              "      <td>0.371429</td>\n",
              "      <td>0.371429</td>\n",
              "      <td>0.397790</td>\n",
              "      <td>0.360714</td>\n",
              "    </tr>\n",
              "  </tbody>\n",
              "</table>\n",
              "</div>\n",
              "      <button class=\"colab-df-convert\" onclick=\"convertToInteractive('df-fbdbecd2-d424-423a-993c-89e9a98ccbc9')\"\n",
              "              title=\"Convert this dataframe to an interactive table.\"\n",
              "              style=\"display:none;\">\n",
              "        \n",
              "  <svg xmlns=\"http://www.w3.org/2000/svg\" height=\"24px\"viewBox=\"0 0 24 24\"\n",
              "       width=\"24px\">\n",
              "    <path d=\"M0 0h24v24H0V0z\" fill=\"none\"/>\n",
              "    <path d=\"M18.56 5.44l.94 2.06.94-2.06 2.06-.94-2.06-.94-.94-2.06-.94 2.06-2.06.94zm-11 1L8.5 8.5l.94-2.06 2.06-.94-2.06-.94L8.5 2.5l-.94 2.06-2.06.94zm10 10l.94 2.06.94-2.06 2.06-.94-2.06-.94-.94-2.06-.94 2.06-2.06.94z\"/><path d=\"M17.41 7.96l-1.37-1.37c-.4-.4-.92-.59-1.43-.59-.52 0-1.04.2-1.43.59L10.3 9.45l-7.72 7.72c-.78.78-.78 2.05 0 2.83L4 21.41c.39.39.9.59 1.41.59.51 0 1.02-.2 1.41-.59l7.78-7.78 2.81-2.81c.8-.78.8-2.07 0-2.86zM5.41 20L4 18.59l7.72-7.72 1.47 1.35L5.41 20z\"/>\n",
              "  </svg>\n",
              "      </button>\n",
              "      \n",
              "  <style>\n",
              "    .colab-df-container {\n",
              "      display:flex;\n",
              "      flex-wrap:wrap;\n",
              "      gap: 12px;\n",
              "    }\n",
              "\n",
              "    .colab-df-convert {\n",
              "      background-color: #E8F0FE;\n",
              "      border: none;\n",
              "      border-radius: 50%;\n",
              "      cursor: pointer;\n",
              "      display: none;\n",
              "      fill: #1967D2;\n",
              "      height: 32px;\n",
              "      padding: 0 0 0 0;\n",
              "      width: 32px;\n",
              "    }\n",
              "\n",
              "    .colab-df-convert:hover {\n",
              "      background-color: #E2EBFA;\n",
              "      box-shadow: 0px 1px 2px rgba(60, 64, 67, 0.3), 0px 1px 3px 1px rgba(60, 64, 67, 0.15);\n",
              "      fill: #174EA6;\n",
              "    }\n",
              "\n",
              "    [theme=dark] .colab-df-convert {\n",
              "      background-color: #3B4455;\n",
              "      fill: #D2E3FC;\n",
              "    }\n",
              "\n",
              "    [theme=dark] .colab-df-convert:hover {\n",
              "      background-color: #434B5C;\n",
              "      box-shadow: 0px 1px 3px 1px rgba(0, 0, 0, 0.15);\n",
              "      filter: drop-shadow(0px 1px 2px rgba(0, 0, 0, 0.3));\n",
              "      fill: #FFFFFF;\n",
              "    }\n",
              "  </style>\n",
              "\n",
              "      <script>\n",
              "        const buttonEl =\n",
              "          document.querySelector('#df-fbdbecd2-d424-423a-993c-89e9a98ccbc9 button.colab-df-convert');\n",
              "        buttonEl.style.display =\n",
              "          google.colab.kernel.accessAllowed ? 'block' : 'none';\n",
              "\n",
              "        async function convertToInteractive(key) {\n",
              "          const element = document.querySelector('#df-fbdbecd2-d424-423a-993c-89e9a98ccbc9');\n",
              "          const dataTable =\n",
              "            await google.colab.kernel.invokeFunction('convertToInteractive',\n",
              "                                                     [key], {});\n",
              "          if (!dataTable) return;\n",
              "\n",
              "          const docLinkHtml = 'Like what you see? Visit the ' +\n",
              "            '<a target=\"_blank\" href=https://colab.research.google.com/notebooks/data_table.ipynb>data table notebook</a>'\n",
              "            + ' to learn more about interactive tables.';\n",
              "          element.innerHTML = '';\n",
              "          dataTable['output_type'] = 'display_data';\n",
              "          await google.colab.output.renderOutput(dataTable, element);\n",
              "          const docLink = document.createElement('div');\n",
              "          docLink.innerHTML = docLinkHtml;\n",
              "          element.appendChild(docLink);\n",
              "        }\n",
              "      </script>\n",
              "    </div>\n",
              "  </div>\n",
              "  "
            ],
            "text/plain": [
              "       DATE      AWND      PRCP  ...      WDF5      WSF2      WSF5\n",
              "0  0.000000  0.305590  0.000000  ...  0.057143  0.287293  0.178571\n",
              "1  0.000548  0.249689  0.000000  ...  0.057143  0.171271  0.103571\n",
              "2  0.001095  0.083230  0.000000  ...  0.400000  0.397790  0.289286\n",
              "3  0.001643  0.166460  0.003745  ...  0.771429  0.287293  0.289286\n",
              "4  0.002191  0.305590  0.602996  ...  0.371429  0.397790  0.360714\n",
              "\n",
              "[5 rows x 9 columns]"
            ]
          },
          "metadata": {},
          "execution_count": 6
        }
      ]
    },
    {
      "cell_type": "code",
      "source": [
        "Y.head()"
      ],
      "metadata": {
        "colab": {
          "base_uri": "https://localhost:8080/"
        },
        "id": "3ic5fmazPDIa",
        "outputId": "58aebb3c-eb39-4f14-868c-803f2592d873"
      },
      "execution_count": 7,
      "outputs": [
        {
          "output_type": "execute_result",
          "data": {
            "text/plain": [
              "0    0\n",
              "1    0\n",
              "2    0\n",
              "3    1\n",
              "4    1\n",
              "Name: PRCP, dtype: int64"
            ]
          },
          "metadata": {},
          "execution_count": 7
        }
      ]
    },
    {
      "cell_type": "markdown",
      "source": [
        "### Train_Test Split"
      ],
      "metadata": {
        "id": "2WsIvEU7RVIj"
      }
    },
    {
      "cell_type": "code",
      "source": [
        "from sklearn.model_selection import train_test_split\n",
        "X_train, X_test, Y_train, Y_test = train_test_split(X, Y, train_size=0.7, test_size=0.3)\n",
        "X_train.head()"
      ],
      "metadata": {
        "colab": {
          "base_uri": "https://localhost:8080/",
          "height": 0
        },
        "id": "rsiVOmzkRU6B",
        "outputId": "2d6568c3-23fe-483c-a8ac-45459dd5c26b"
      },
      "execution_count": 8,
      "outputs": [
        {
          "output_type": "execute_result",
          "data": {
            "text/html": [
              "\n",
              "  <div id=\"df-a24a5704-b7a1-4e8d-8924-0792d6831a32\">\n",
              "    <div class=\"colab-df-container\">\n",
              "      <div>\n",
              "<style scoped>\n",
              "    .dataframe tbody tr th:only-of-type {\n",
              "        vertical-align: middle;\n",
              "    }\n",
              "\n",
              "    .dataframe tbody tr th {\n",
              "        vertical-align: top;\n",
              "    }\n",
              "\n",
              "    .dataframe thead th {\n",
              "        text-align: right;\n",
              "    }\n",
              "</style>\n",
              "<table border=\"1\" class=\"dataframe\">\n",
              "  <thead>\n",
              "    <tr style=\"text-align: right;\">\n",
              "      <th></th>\n",
              "      <th>DATE</th>\n",
              "      <th>AWND</th>\n",
              "      <th>PRCP</th>\n",
              "      <th>TMAX</th>\n",
              "      <th>TMIN</th>\n",
              "      <th>WDF2</th>\n",
              "      <th>WDF5</th>\n",
              "      <th>WSF2</th>\n",
              "      <th>WSF5</th>\n",
              "    </tr>\n",
              "  </thead>\n",
              "  <tbody>\n",
              "    <tr>\n",
              "      <th>1227</th>\n",
              "      <td>0.671961</td>\n",
              "      <td>0.222360</td>\n",
              "      <td>0.000000</td>\n",
              "      <td>0.389831</td>\n",
              "      <td>0.560976</td>\n",
              "      <td>0.742857</td>\n",
              "      <td>0.742857</td>\n",
              "      <td>0.331492</td>\n",
              "      <td>0.392857</td>\n",
              "    </tr>\n",
              "    <tr>\n",
              "      <th>1419</th>\n",
              "      <td>0.777108</td>\n",
              "      <td>0.388820</td>\n",
              "      <td>0.235955</td>\n",
              "      <td>0.203390</td>\n",
              "      <td>0.341463</td>\n",
              "      <td>0.714286</td>\n",
              "      <td>0.714286</td>\n",
              "      <td>0.508287</td>\n",
              "      <td>0.496429</td>\n",
              "    </tr>\n",
              "    <tr>\n",
              "      <th>754</th>\n",
              "      <td>0.412924</td>\n",
              "      <td>0.332919</td>\n",
              "      <td>0.000000</td>\n",
              "      <td>0.389831</td>\n",
              "      <td>0.341463</td>\n",
              "      <td>0.742857</td>\n",
              "      <td>0.771429</td>\n",
              "      <td>0.220994</td>\n",
              "      <td>0.289286</td>\n",
              "    </tr>\n",
              "    <tr>\n",
              "      <th>1076</th>\n",
              "      <td>0.589266</td>\n",
              "      <td>0.166460</td>\n",
              "      <td>0.000000</td>\n",
              "      <td>0.237288</td>\n",
              "      <td>0.341463</td>\n",
              "      <td>0.371429</td>\n",
              "      <td>0.342857</td>\n",
              "      <td>0.171271</td>\n",
              "      <td>0.146429</td>\n",
              "    </tr>\n",
              "    <tr>\n",
              "      <th>1480</th>\n",
              "      <td>0.810515</td>\n",
              "      <td>0.083230</td>\n",
              "      <td>0.000000</td>\n",
              "      <td>0.220339</td>\n",
              "      <td>0.439024</td>\n",
              "      <td>0.228571</td>\n",
              "      <td>0.314286</td>\n",
              "      <td>0.171271</td>\n",
              "      <td>0.103571</td>\n",
              "    </tr>\n",
              "  </tbody>\n",
              "</table>\n",
              "</div>\n",
              "      <button class=\"colab-df-convert\" onclick=\"convertToInteractive('df-a24a5704-b7a1-4e8d-8924-0792d6831a32')\"\n",
              "              title=\"Convert this dataframe to an interactive table.\"\n",
              "              style=\"display:none;\">\n",
              "        \n",
              "  <svg xmlns=\"http://www.w3.org/2000/svg\" height=\"24px\"viewBox=\"0 0 24 24\"\n",
              "       width=\"24px\">\n",
              "    <path d=\"M0 0h24v24H0V0z\" fill=\"none\"/>\n",
              "    <path d=\"M18.56 5.44l.94 2.06.94-2.06 2.06-.94-2.06-.94-.94-2.06-.94 2.06-2.06.94zm-11 1L8.5 8.5l.94-2.06 2.06-.94-2.06-.94L8.5 2.5l-.94 2.06-2.06.94zm10 10l.94 2.06.94-2.06 2.06-.94-2.06-.94-.94-2.06-.94 2.06-2.06.94z\"/><path d=\"M17.41 7.96l-1.37-1.37c-.4-.4-.92-.59-1.43-.59-.52 0-1.04.2-1.43.59L10.3 9.45l-7.72 7.72c-.78.78-.78 2.05 0 2.83L4 21.41c.39.39.9.59 1.41.59.51 0 1.02-.2 1.41-.59l7.78-7.78 2.81-2.81c.8-.78.8-2.07 0-2.86zM5.41 20L4 18.59l7.72-7.72 1.47 1.35L5.41 20z\"/>\n",
              "  </svg>\n",
              "      </button>\n",
              "      \n",
              "  <style>\n",
              "    .colab-df-container {\n",
              "      display:flex;\n",
              "      flex-wrap:wrap;\n",
              "      gap: 12px;\n",
              "    }\n",
              "\n",
              "    .colab-df-convert {\n",
              "      background-color: #E8F0FE;\n",
              "      border: none;\n",
              "      border-radius: 50%;\n",
              "      cursor: pointer;\n",
              "      display: none;\n",
              "      fill: #1967D2;\n",
              "      height: 32px;\n",
              "      padding: 0 0 0 0;\n",
              "      width: 32px;\n",
              "    }\n",
              "\n",
              "    .colab-df-convert:hover {\n",
              "      background-color: #E2EBFA;\n",
              "      box-shadow: 0px 1px 2px rgba(60, 64, 67, 0.3), 0px 1px 3px 1px rgba(60, 64, 67, 0.15);\n",
              "      fill: #174EA6;\n",
              "    }\n",
              "\n",
              "    [theme=dark] .colab-df-convert {\n",
              "      background-color: #3B4455;\n",
              "      fill: #D2E3FC;\n",
              "    }\n",
              "\n",
              "    [theme=dark] .colab-df-convert:hover {\n",
              "      background-color: #434B5C;\n",
              "      box-shadow: 0px 1px 3px 1px rgba(0, 0, 0, 0.15);\n",
              "      filter: drop-shadow(0px 1px 2px rgba(0, 0, 0, 0.3));\n",
              "      fill: #FFFFFF;\n",
              "    }\n",
              "  </style>\n",
              "\n",
              "      <script>\n",
              "        const buttonEl =\n",
              "          document.querySelector('#df-a24a5704-b7a1-4e8d-8924-0792d6831a32 button.colab-df-convert');\n",
              "        buttonEl.style.display =\n",
              "          google.colab.kernel.accessAllowed ? 'block' : 'none';\n",
              "\n",
              "        async function convertToInteractive(key) {\n",
              "          const element = document.querySelector('#df-a24a5704-b7a1-4e8d-8924-0792d6831a32');\n",
              "          const dataTable =\n",
              "            await google.colab.kernel.invokeFunction('convertToInteractive',\n",
              "                                                     [key], {});\n",
              "          if (!dataTable) return;\n",
              "\n",
              "          const docLinkHtml = 'Like what you see? Visit the ' +\n",
              "            '<a target=\"_blank\" href=https://colab.research.google.com/notebooks/data_table.ipynb>data table notebook</a>'\n",
              "            + ' to learn more about interactive tables.';\n",
              "          element.innerHTML = '';\n",
              "          dataTable['output_type'] = 'display_data';\n",
              "          await google.colab.output.renderOutput(dataTable, element);\n",
              "          const docLink = document.createElement('div');\n",
              "          docLink.innerHTML = docLinkHtml;\n",
              "          element.appendChild(docLink);\n",
              "        }\n",
              "      </script>\n",
              "    </div>\n",
              "  </div>\n",
              "  "
            ],
            "text/plain": [
              "          DATE      AWND      PRCP  ...      WDF5      WSF2      WSF5\n",
              "1227  0.671961  0.222360  0.000000  ...  0.742857  0.331492  0.392857\n",
              "1419  0.777108  0.388820  0.235955  ...  0.714286  0.508287  0.496429\n",
              "754   0.412924  0.332919  0.000000  ...  0.771429  0.220994  0.289286\n",
              "1076  0.589266  0.166460  0.000000  ...  0.342857  0.171271  0.146429\n",
              "1480  0.810515  0.083230  0.000000  ...  0.314286  0.171271  0.103571\n",
              "\n",
              "[5 rows x 9 columns]"
            ]
          },
          "metadata": {},
          "execution_count": 8
        }
      ]
    },
    {
      "cell_type": "code",
      "source": [
        "print(X_train.shape)\n",
        "print(Y_train.shape)\n",
        "print(X_test.shape)\n",
        "print(Y_test.shape)"
      ],
      "metadata": {
        "colab": {
          "base_uri": "https://localhost:8080/"
        },
        "id": "mCn5k75XRgdY",
        "outputId": "2412e288-7895-4215-c709-7693cbc39fb1"
      },
      "execution_count": 9,
      "outputs": [
        {
          "output_type": "stream",
          "name": "stdout",
          "text": [
            "(1278, 9)\n",
            "(1278,)\n",
            "(549, 9)\n",
            "(549,)\n"
          ]
        }
      ]
    },
    {
      "cell_type": "markdown",
      "metadata": {
        "id": "j115k0EUp8Wu"
      },
      "source": [
        "# Logistic Regression"
      ]
    },
    {
      "cell_type": "markdown",
      "metadata": {
        "id": "BYD_Z1wWp8Ww"
      },
      "source": [
        "####Model"
      ]
    },
    {
      "cell_type": "code",
      "execution_count": 10,
      "metadata": {
        "id": "sG61dncWp8Wx"
      },
      "outputs": [],
      "source": [
        "from sklearn.linear_model import LogisticRegression\n",
        "def Logistic_reg(X_train, Y_train, X_test, Y_test, tol_val, C_val, max_iter_val):\n",
        "  clf = LogisticRegression(penalty='l2', class_weight='balanced', tol=tol_val, C=C_val, random_state=0, max_iter = max_iter_val).fit(X_train, Y_train)\n",
        "  train_score = clf.score(X_train, Y_train)\n",
        "  test_score = clf.score(X_test, Y_test)\n",
        "  auc_score1 = roc_auc_score(Y_train, clf.predict(X_train))\n",
        "  auc_score2 = roc_auc_score(Y_test, clf.predict(X_test))\n",
        "\n",
        "  return clf, train_score, test_score, auc_score1, auc_score2"
      ]
    },
    {
      "cell_type": "markdown",
      "metadata": {
        "id": "eAW1eZzGp8Wz"
      },
      "source": [
        "####Hyperparameter Tuning"
      ]
    },
    {
      "cell_type": "code",
      "execution_count": 11,
      "metadata": {
        "id": "f53oFX1wp8W1"
      },
      "outputs": [],
      "source": [
        "max_iter = [1e+4]\n",
        "tol = [1e-6, 1e-5, 1e-4, 1e-3, 1e-2, 1e-1, 1]\n",
        "C = [1, 1e+1, 1e+2, 1e+3, 1e+4, 1e+5, 1e+6]\n",
        "values = []\n",
        "for k in max_iter:\n",
        "  for i in tol:\n",
        "    for j in C:\n",
        "      clf, train_score, test_score, auc_score_train, auc_score_test = Logistic_reg(X_train, Y_train, X_test, Y_test, i, j, k)\n",
        "\n",
        "      values.append([k, i, j, train_score, test_score, auc_score_train, auc_score_test])"
      ]
    },
    {
      "cell_type": "code",
      "execution_count": 12,
      "metadata": {
        "colab": {
          "base_uri": "https://localhost:8080/",
          "height": 0
        },
        "outputId": "1a0c7cd0-5d53-4630-832c-690c1e63688a",
        "id": "cqA-q0OUp8W2"
      },
      "outputs": [
        {
          "output_type": "execute_result",
          "data": {
            "text/html": [
              "\n",
              "  <div id=\"df-c050d8c3-eacb-471a-9cd8-0772f63b2322\">\n",
              "    <div class=\"colab-df-container\">\n",
              "      <div>\n",
              "<style scoped>\n",
              "    .dataframe tbody tr th:only-of-type {\n",
              "        vertical-align: middle;\n",
              "    }\n",
              "\n",
              "    .dataframe tbody tr th {\n",
              "        vertical-align: top;\n",
              "    }\n",
              "\n",
              "    .dataframe thead th {\n",
              "        text-align: right;\n",
              "    }\n",
              "</style>\n",
              "<table border=\"1\" class=\"dataframe\">\n",
              "  <thead>\n",
              "    <tr style=\"text-align: right;\">\n",
              "      <th></th>\n",
              "      <th>max_iter</th>\n",
              "      <th>tol</th>\n",
              "      <th>C</th>\n",
              "      <th>train_score</th>\n",
              "      <th>test_score</th>\n",
              "      <th>auc_train_score</th>\n",
              "      <th>auc_test_score</th>\n",
              "    </tr>\n",
              "  </thead>\n",
              "  <tbody>\n",
              "    <tr>\n",
              "      <th>0</th>\n",
              "      <td>10000.0</td>\n",
              "      <td>0.000001</td>\n",
              "      <td>1.0</td>\n",
              "      <td>0.874022</td>\n",
              "      <td>0.885246</td>\n",
              "      <td>0.840478</td>\n",
              "      <td>0.840921</td>\n",
              "    </tr>\n",
              "    <tr>\n",
              "      <th>1</th>\n",
              "      <td>10000.0</td>\n",
              "      <td>0.000001</td>\n",
              "      <td>10.0</td>\n",
              "      <td>0.892801</td>\n",
              "      <td>0.903461</td>\n",
              "      <td>0.888771</td>\n",
              "      <td>0.911603</td>\n",
              "    </tr>\n",
              "    <tr>\n",
              "      <th>2</th>\n",
              "      <td>10000.0</td>\n",
              "      <td>0.000001</td>\n",
              "      <td>100.0</td>\n",
              "      <td>0.927230</td>\n",
              "      <td>0.950820</td>\n",
              "      <td>0.911359</td>\n",
              "      <td>0.961402</td>\n",
              "    </tr>\n",
              "    <tr>\n",
              "      <th>3</th>\n",
              "      <td>10000.0</td>\n",
              "      <td>0.000001</td>\n",
              "      <td>1000.0</td>\n",
              "      <td>0.974961</td>\n",
              "      <td>0.983607</td>\n",
              "      <td>0.951667</td>\n",
              "      <td>0.979014</td>\n",
              "    </tr>\n",
              "    <tr>\n",
              "      <th>4</th>\n",
              "      <td>10000.0</td>\n",
              "      <td>0.000001</td>\n",
              "      <td>10000.0</td>\n",
              "      <td>1.000000</td>\n",
              "      <td>0.998179</td>\n",
              "      <td>1.000000</td>\n",
              "      <td>0.986842</td>\n",
              "    </tr>\n",
              "  </tbody>\n",
              "</table>\n",
              "</div>\n",
              "      <button class=\"colab-df-convert\" onclick=\"convertToInteractive('df-c050d8c3-eacb-471a-9cd8-0772f63b2322')\"\n",
              "              title=\"Convert this dataframe to an interactive table.\"\n",
              "              style=\"display:none;\">\n",
              "        \n",
              "  <svg xmlns=\"http://www.w3.org/2000/svg\" height=\"24px\"viewBox=\"0 0 24 24\"\n",
              "       width=\"24px\">\n",
              "    <path d=\"M0 0h24v24H0V0z\" fill=\"none\"/>\n",
              "    <path d=\"M18.56 5.44l.94 2.06.94-2.06 2.06-.94-2.06-.94-.94-2.06-.94 2.06-2.06.94zm-11 1L8.5 8.5l.94-2.06 2.06-.94-2.06-.94L8.5 2.5l-.94 2.06-2.06.94zm10 10l.94 2.06.94-2.06 2.06-.94-2.06-.94-.94-2.06-.94 2.06-2.06.94z\"/><path d=\"M17.41 7.96l-1.37-1.37c-.4-.4-.92-.59-1.43-.59-.52 0-1.04.2-1.43.59L10.3 9.45l-7.72 7.72c-.78.78-.78 2.05 0 2.83L4 21.41c.39.39.9.59 1.41.59.51 0 1.02-.2 1.41-.59l7.78-7.78 2.81-2.81c.8-.78.8-2.07 0-2.86zM5.41 20L4 18.59l7.72-7.72 1.47 1.35L5.41 20z\"/>\n",
              "  </svg>\n",
              "      </button>\n",
              "      \n",
              "  <style>\n",
              "    .colab-df-container {\n",
              "      display:flex;\n",
              "      flex-wrap:wrap;\n",
              "      gap: 12px;\n",
              "    }\n",
              "\n",
              "    .colab-df-convert {\n",
              "      background-color: #E8F0FE;\n",
              "      border: none;\n",
              "      border-radius: 50%;\n",
              "      cursor: pointer;\n",
              "      display: none;\n",
              "      fill: #1967D2;\n",
              "      height: 32px;\n",
              "      padding: 0 0 0 0;\n",
              "      width: 32px;\n",
              "    }\n",
              "\n",
              "    .colab-df-convert:hover {\n",
              "      background-color: #E2EBFA;\n",
              "      box-shadow: 0px 1px 2px rgba(60, 64, 67, 0.3), 0px 1px 3px 1px rgba(60, 64, 67, 0.15);\n",
              "      fill: #174EA6;\n",
              "    }\n",
              "\n",
              "    [theme=dark] .colab-df-convert {\n",
              "      background-color: #3B4455;\n",
              "      fill: #D2E3FC;\n",
              "    }\n",
              "\n",
              "    [theme=dark] .colab-df-convert:hover {\n",
              "      background-color: #434B5C;\n",
              "      box-shadow: 0px 1px 3px 1px rgba(0, 0, 0, 0.15);\n",
              "      filter: drop-shadow(0px 1px 2px rgba(0, 0, 0, 0.3));\n",
              "      fill: #FFFFFF;\n",
              "    }\n",
              "  </style>\n",
              "\n",
              "      <script>\n",
              "        const buttonEl =\n",
              "          document.querySelector('#df-c050d8c3-eacb-471a-9cd8-0772f63b2322 button.colab-df-convert');\n",
              "        buttonEl.style.display =\n",
              "          google.colab.kernel.accessAllowed ? 'block' : 'none';\n",
              "\n",
              "        async function convertToInteractive(key) {\n",
              "          const element = document.querySelector('#df-c050d8c3-eacb-471a-9cd8-0772f63b2322');\n",
              "          const dataTable =\n",
              "            await google.colab.kernel.invokeFunction('convertToInteractive',\n",
              "                                                     [key], {});\n",
              "          if (!dataTable) return;\n",
              "\n",
              "          const docLinkHtml = 'Like what you see? Visit the ' +\n",
              "            '<a target=\"_blank\" href=https://colab.research.google.com/notebooks/data_table.ipynb>data table notebook</a>'\n",
              "            + ' to learn more about interactive tables.';\n",
              "          element.innerHTML = '';\n",
              "          dataTable['output_type'] = 'display_data';\n",
              "          await google.colab.output.renderOutput(dataTable, element);\n",
              "          const docLink = document.createElement('div');\n",
              "          docLink.innerHTML = docLinkHtml;\n",
              "          element.appendChild(docLink);\n",
              "        }\n",
              "      </script>\n",
              "    </div>\n",
              "  </div>\n",
              "  "
            ],
            "text/plain": [
              "   max_iter       tol        C  ...  test_score  auc_train_score  auc_test_score\n",
              "0   10000.0  0.000001      1.0  ...    0.885246         0.840478        0.840921\n",
              "1   10000.0  0.000001     10.0  ...    0.903461         0.888771        0.911603\n",
              "2   10000.0  0.000001    100.0  ...    0.950820         0.911359        0.961402\n",
              "3   10000.0  0.000001   1000.0  ...    0.983607         0.951667        0.979014\n",
              "4   10000.0  0.000001  10000.0  ...    0.998179         1.000000        0.986842\n",
              "\n",
              "[5 rows x 7 columns]"
            ]
          },
          "metadata": {},
          "execution_count": 12
        }
      ],
      "source": [
        "values_tables = pd.DataFrame(values, columns = ['max_iter', 'tol','C','train_score', 'test_score', 'auc_train_score', 'auc_test_score'])\n",
        "values_tables.head()"
      ]
    },
    {
      "cell_type": "markdown",
      "metadata": {
        "id": "dwG1jdXOp8W4"
      },
      "source": [
        "####Accuracy Vs AUR_ROC"
      ]
    },
    {
      "cell_type": "code",
      "execution_count": 13,
      "metadata": {
        "colab": {
          "base_uri": "https://localhost:8080/",
          "height": 0
        },
        "outputId": "3b25f9c1-b0c7-486d-9e27-152d83743792",
        "id": "AIMecdLLp8W5"
      },
      "outputs": [
        {
          "output_type": "execute_result",
          "data": {
            "text/plain": [
              "[<matplotlib.lines.Line2D at 0x7f4c76217d50>]"
            ]
          },
          "metadata": {},
          "execution_count": 13
        },
        {
          "output_type": "display_data",
          "data": {
            "image/png": "[encoded data removed]",
            "text/plain": [
              "<Figure size 432x288 with 1 Axes>"
            ]
          },
          "metadata": {
            "needs_background": "light"
          }
        }
      ],
      "source": [
        "plt.plot(values_tables['train_score'], values_tables['auc_train_score'])"
      ]
    },
    {
      "cell_type": "code",
      "execution_count": 14,
      "metadata": {
        "colab": {
          "base_uri": "https://localhost:8080/",
          "height": 0
        },
        "outputId": "95f00835-f913-45bb-ce96-b0e0bb8edde4",
        "id": "Vnm7Ka6zp8W7"
      },
      "outputs": [
        {
          "output_type": "execute_result",
          "data": {
            "text/plain": [
              "[<matplotlib.lines.Line2D at 0x7f4c6bfa18d0>]"
            ]
          },
          "metadata": {},
          "execution_count": 14
        },
        {
          "output_type": "display_data",
          "data": {
            "image/png": "[encoded data removed]",
            "text/plain": [
              "<Figure size 432x288 with 1 Axes>"
            ]
          },
          "metadata": {
            "needs_background": "light"
          }
        }
      ],
      "source": [
        "plt.plot(values_tables['test_score'], values_tables['auc_test_score'])"
      ]
    },
    {
      "cell_type": "code",
      "execution_count": 15,
      "metadata": {
        "colab": {
          "base_uri": "https://localhost:8080/"
        },
        "outputId": "1ec47399-8793-4897-f750-ef61f6371039",
        "id": "LFTiure8p8W8"
      },
      "outputs": [
        {
          "output_type": "stream",
          "name": "stdout",
          "text": [
            "1.0 1.0 1.0 1.0\n"
          ]
        }
      ],
      "source": [
        "print(values_tables['test_score'].max(),values_tables['auc_test_score'].max(), values_tables['train_score'].max(), values_tables['auc_train_score'].max())"
      ]
    },
    {
      "cell_type": "code",
      "execution_count": 16,
      "metadata": {
        "colab": {
          "base_uri": "https://localhost:8080/"
        },
        "outputId": "2df80434-590f-4924-cc1d-446da9b241ee",
        "id": "h9xfa6KZp8W-"
      },
      "outputs": [
        {
          "output_type": "stream",
          "name": "stdout",
          "text": [
            "5 5 4 4\n"
          ]
        }
      ],
      "source": [
        "print(values_tables['test_score'].idxmax(),values_tables['auc_test_score'].idxmax(), values_tables['train_score'].idxmax(), values_tables['auc_train_score'].idxmax())"
      ]
    },
    {
      "cell_type": "markdown",
      "metadata": {
        "id": "17CrMXshp8XA"
      },
      "source": [
        "####Getting Hyperparameters with best scores"
      ]
    },
    {
      "cell_type": "code",
      "execution_count": 17,
      "metadata": {
        "colab": {
          "base_uri": "https://localhost:8080/"
        },
        "outputId": "8f477812-830b-433e-cfb4-be37379490b4",
        "id": "IqVc5hpHp8XA"
      },
      "outputs": [
        {
          "output_type": "stream",
          "name": "stdout",
          "text": [
            "   max_iter       tol          C  ...  test_score  auc_train_score  auc_test_score\n",
            "6   10000.0  0.000001  1000000.0  ...         1.0              1.0             1.0\n",
            "\n",
            "[1 rows x 7 columns]\n",
            "   max_iter       tol        C  ...  test_score  auc_train_score  auc_test_score\n",
            "4   10000.0  0.000001  10000.0  ...    0.998179              1.0        0.986842\n",
            "\n",
            "[1 rows x 7 columns]\n"
          ]
        }
      ],
      "source": [
        "for i in [6, 4]:\n",
        "  print(values_tables[i:(i+1)])"
      ]
    },
    {
      "cell_type": "markdown",
      "metadata": {
        "id": "f7AwPHrxp8XB"
      },
      "source": [
        "####Final Model"
      ]
    },
    {
      "cell_type": "code",
      "execution_count": 18,
      "metadata": {
        "colab": {
          "base_uri": "https://localhost:8080/"
        },
        "outputId": "6adcbe1e-f393-4af6-e213-9d0cd7468302",
        "id": "1VeN4nEUp8XC"
      },
      "outputs": [
        {
          "output_type": "stream",
          "name": "stdout",
          "text": [
            "1.0 1.0 1.0 1.0\n"
          ]
        }
      ],
      "source": [
        "clf_logistic, train_score_logistic, test_score_logistic, auc_train_score_logistic, auc_test_score_logistic = Logistic_reg(X_train, Y_train, X_test, Y_test,0.000001,1000000.0,1e+7)\n",
        "print(train_score_logistic, auc_train_score_logistic, test_score_logistic, auc_test_score_logistic)"
      ]
    },
    {
      "cell_type": "markdown",
      "source": [
        "# Support Vector Machine"
      ],
      "metadata": {
        "id": "xJ2LUNpBqgwO"
      }
    },
    {
      "cell_type": "markdown",
      "metadata": {
        "id": "lVPLd6h0rB0h"
      },
      "source": [
        "####Model"
      ]
    },
    {
      "cell_type": "code",
      "execution_count": 19,
      "metadata": {
        "id": "uIxMBQWarB0i"
      },
      "outputs": [],
      "source": [
        "from sklearn import svm\n",
        "def svm_model(X_train, Y_train, X_test, Y_test, C_val, tol_val):\n",
        "  clf = svm.SVC(C=C_val,tol=tol_val,class_weight='balanced'\n",
        "                ,random_state=0).fit(X_train, Y_train)\n",
        "  \n",
        "  train_score = clf.score(X_train, Y_train)\n",
        "  test_score = clf.score(X_test, Y_test)\n",
        "  auc_score1 = roc_auc_score(Y_train, clf.predict(X_train))\n",
        "  auc_score2 = roc_auc_score(Y_test, clf.predict(X_test))\n",
        "\n",
        "  return clf, train_score, test_score, auc_score1, auc_score2"
      ]
    },
    {
      "cell_type": "markdown",
      "metadata": {
        "id": "m0GNseG1rB0k"
      },
      "source": [
        "####Hyperparameter Tuning"
      ]
    },
    {
      "cell_type": "code",
      "execution_count": 20,
      "metadata": {
        "id": "QK6QH0m1rB0m"
      },
      "outputs": [],
      "source": [
        "tol = [1e-6, 1e-5, 1e-4, 1e-3, 1e-2, 1e-1, 1]\n",
        "C = [1, 1e+1, 1e+2, 1e+3, 1e+4, 1e+5, 1e+6]\n",
        "vals_svm = []\n",
        "for i in tol:\n",
        "  for j in C:\n",
        "    clf, train_score, test_score, auc_train_score, auc_test_score = svm_model(X_train, Y_train, X_test, Y_test, j, i)\n",
        "    vals_svm.append([i, j, train_score, auc_train_score, test_score, auc_test_score])"
      ]
    },
    {
      "cell_type": "code",
      "execution_count": 21,
      "metadata": {
        "colab": {
          "base_uri": "https://localhost:8080/",
          "height": 0
        },
        "outputId": "7af39caf-3944-46b6-b237-300ececa04a3",
        "id": "ydbfvVQQrB0n"
      },
      "outputs": [
        {
          "output_type": "execute_result",
          "data": {
            "text/html": [
              "\n",
              "  <div id=\"df-57176d04-86c6-4a68-a9c1-8dc0835bb8a7\">\n",
              "    <div class=\"colab-df-container\">\n",
              "      <div>\n",
              "<style scoped>\n",
              "    .dataframe tbody tr th:only-of-type {\n",
              "        vertical-align: middle;\n",
              "    }\n",
              "\n",
              "    .dataframe tbody tr th {\n",
              "        vertical-align: top;\n",
              "    }\n",
              "\n",
              "    .dataframe thead th {\n",
              "        text-align: right;\n",
              "    }\n",
              "</style>\n",
              "<table border=\"1\" class=\"dataframe\">\n",
              "  <thead>\n",
              "    <tr style=\"text-align: right;\">\n",
              "      <th></th>\n",
              "      <th>tol</th>\n",
              "      <th>C</th>\n",
              "      <th>train_score</th>\n",
              "      <th>auc_train_score</th>\n",
              "      <th>test_score</th>\n",
              "      <th>auc_test_score</th>\n",
              "    </tr>\n",
              "  </thead>\n",
              "  <tbody>\n",
              "    <tr>\n",
              "      <th>0</th>\n",
              "      <td>0.000001</td>\n",
              "      <td>1.0</td>\n",
              "      <td>0.888889</td>\n",
              "      <td>0.893477</td>\n",
              "      <td>0.890710</td>\n",
              "      <td>0.892574</td>\n",
              "    </tr>\n",
              "    <tr>\n",
              "      <th>1</th>\n",
              "      <td>0.000001</td>\n",
              "      <td>10.0</td>\n",
              "      <td>0.941315</td>\n",
              "      <td>0.936396</td>\n",
              "      <td>0.930783</td>\n",
              "      <td>0.901921</td>\n",
              "    </tr>\n",
              "    <tr>\n",
              "      <th>2</th>\n",
              "      <td>0.000001</td>\n",
              "      <td>100.0</td>\n",
              "      <td>0.988263</td>\n",
              "      <td>0.983150</td>\n",
              "      <td>0.972678</td>\n",
              "      <td>0.924426</td>\n",
              "    </tr>\n",
              "    <tr>\n",
              "      <th>3</th>\n",
              "      <td>0.000001</td>\n",
              "      <td>1000.0</td>\n",
              "      <td>0.999218</td>\n",
              "      <td>0.999565</td>\n",
              "      <td>0.979964</td>\n",
              "      <td>0.940519</td>\n",
              "    </tr>\n",
              "    <tr>\n",
              "      <th>4</th>\n",
              "      <td>0.000001</td>\n",
              "      <td>10000.0</td>\n",
              "      <td>1.000000</td>\n",
              "      <td>1.000000</td>\n",
              "      <td>0.983607</td>\n",
              "      <td>0.942476</td>\n",
              "    </tr>\n",
              "  </tbody>\n",
              "</table>\n",
              "</div>\n",
              "      <button class=\"colab-df-convert\" onclick=\"convertToInteractive('df-57176d04-86c6-4a68-a9c1-8dc0835bb8a7')\"\n",
              "              title=\"Convert this dataframe to an interactive table.\"\n",
              "              style=\"display:none;\">\n",
              "        \n",
              "  <svg xmlns=\"http://www.w3.org/2000/svg\" height=\"24px\"viewBox=\"0 0 24 24\"\n",
              "       width=\"24px\">\n",
              "    <path d=\"M0 0h24v24H0V0z\" fill=\"none\"/>\n",
              "    <path d=\"M18.56 5.44l.94 2.06.94-2.06 2.06-.94-2.06-.94-.94-2.06-.94 2.06-2.06.94zm-11 1L8.5 8.5l.94-2.06 2.06-.94-2.06-.94L8.5 2.5l-.94 2.06-2.06.94zm10 10l.94 2.06.94-2.06 2.06-.94-2.06-.94-.94-2.06-.94 2.06-2.06.94z\"/><path d=\"M17.41 7.96l-1.37-1.37c-.4-.4-.92-.59-1.43-.59-.52 0-1.04.2-1.43.59L10.3 9.45l-7.72 7.72c-.78.78-.78 2.05 0 2.83L4 21.41c.39.39.9.59 1.41.59.51 0 1.02-.2 1.41-.59l7.78-7.78 2.81-2.81c.8-.78.8-2.07 0-2.86zM5.41 20L4 18.59l7.72-7.72 1.47 1.35L5.41 20z\"/>\n",
              "  </svg>\n",
              "      </button>\n",
              "      \n",
              "  <style>\n",
              "    .colab-df-container {\n",
              "      display:flex;\n",
              "      flex-wrap:wrap;\n",
              "      gap: 12px;\n",
              "    }\n",
              "\n",
              "    .colab-df-convert {\n",
              "      background-color: #E8F0FE;\n",
              "      border: none;\n",
              "      border-radius: 50%;\n",
              "      cursor: pointer;\n",
              "      display: none;\n",
              "      fill: #1967D2;\n",
              "      height: 32px;\n",
              "      padding: 0 0 0 0;\n",
              "      width: 32px;\n",
              "    }\n",
              "\n",
              "    .colab-df-convert:hover {\n",
              "      background-color: #E2EBFA;\n",
              "      box-shadow: 0px 1px 2px rgba(60, 64, 67, 0.3), 0px 1px 3px 1px rgba(60, 64, 67, 0.15);\n",
              "      fill: #174EA6;\n",
              "    }\n",
              "\n",
              "    [theme=dark] .colab-df-convert {\n",
              "      background-color: #3B4455;\n",
              "      fill: #D2E3FC;\n",
              "    }\n",
              "\n",
              "    [theme=dark] .colab-df-convert:hover {\n",
              "      background-color: #434B5C;\n",
              "      box-shadow: 0px 1px 3px 1px rgba(0, 0, 0, 0.15);\n",
              "      filter: drop-shadow(0px 1px 2px rgba(0, 0, 0, 0.3));\n",
              "      fill: #FFFFFF;\n",
              "    }\n",
              "  </style>\n",
              "\n",
              "      <script>\n",
              "        const buttonEl =\n",
              "          document.querySelector('#df-57176d04-86c6-4a68-a9c1-8dc0835bb8a7 button.colab-df-convert');\n",
              "        buttonEl.style.display =\n",
              "          google.colab.kernel.accessAllowed ? 'block' : 'none';\n",
              "\n",
              "        async function convertToInteractive(key) {\n",
              "          const element = document.querySelector('#df-57176d04-86c6-4a68-a9c1-8dc0835bb8a7');\n",
              "          const dataTable =\n",
              "            await google.colab.kernel.invokeFunction('convertToInteractive',\n",
              "                                                     [key], {});\n",
              "          if (!dataTable) return;\n",
              "\n",
              "          const docLinkHtml = 'Like what you see? Visit the ' +\n",
              "            '<a target=\"_blank\" href=https://colab.research.google.com/notebooks/data_table.ipynb>data table notebook</a>'\n",
              "            + ' to learn more about interactive tables.';\n",
              "          element.innerHTML = '';\n",
              "          dataTable['output_type'] = 'display_data';\n",
              "          await google.colab.output.renderOutput(dataTable, element);\n",
              "          const docLink = document.createElement('div');\n",
              "          docLink.innerHTML = docLinkHtml;\n",
              "          element.appendChild(docLink);\n",
              "        }\n",
              "      </script>\n",
              "    </div>\n",
              "  </div>\n",
              "  "
            ],
            "text/plain": [
              "        tol        C  train_score  auc_train_score  test_score  auc_test_score\n",
              "0  0.000001      1.0     0.888889         0.893477    0.890710        0.892574\n",
              "1  0.000001     10.0     0.941315         0.936396    0.930783        0.901921\n",
              "2  0.000001    100.0     0.988263         0.983150    0.972678        0.924426\n",
              "3  0.000001   1000.0     0.999218         0.999565    0.979964        0.940519\n",
              "4  0.000001  10000.0     1.000000         1.000000    0.983607        0.942476"
            ]
          },
          "metadata": {},
          "execution_count": 21
        }
      ],
      "source": [
        "vals_svm_table = pd.DataFrame(vals_svm, columns = ['tol','C','train_score', 'auc_train_score', 'test_score','auc_test_score'])\n",
        "vals_svm_table.head()"
      ]
    },
    {
      "cell_type": "markdown",
      "metadata": {
        "id": "ktVuPWWzrB0p"
      },
      "source": [
        "####Accuracy Vs AUR_ROC"
      ]
    },
    {
      "cell_type": "code",
      "execution_count": 22,
      "metadata": {
        "colab": {
          "base_uri": "https://localhost:8080/",
          "height": 0
        },
        "outputId": "439e131f-9ba7-4306-867b-1f61bd9248ec",
        "id": "KpVoO30MrB0p"
      },
      "outputs": [
        {
          "output_type": "execute_result",
          "data": {
            "text/plain": [
              "[<matplotlib.lines.Line2D at 0x7f4c6beb5c90>]"
            ]
          },
          "metadata": {},
          "execution_count": 22
        },
        {
          "output_type": "display_data",
          "data": {
            "image/png": "[encoded data removed]",
            "text/plain": [
              "<Figure size 432x288 with 1 Axes>"
            ]
          },
          "metadata": {
            "needs_background": "light"
          }
        }
      ],
      "source": [
        "plt.plot(vals_svm_table['train_score'], vals_svm_table['auc_train_score'])"
      ]
    },
    {
      "cell_type": "code",
      "execution_count": 23,
      "metadata": {
        "colab": {
          "base_uri": "https://localhost:8080/",
          "height": 0
        },
        "outputId": "609cc1a0-c619-4bd1-f8dc-17b7bf79456c",
        "id": "iYcLYm4UrB0q"
      },
      "outputs": [
        {
          "output_type": "execute_result",
          "data": {
            "text/plain": [
              "[<matplotlib.lines.Line2D at 0x7f4c6beaa750>]"
            ]
          },
          "metadata": {},
          "execution_count": 23
        },
        {
          "output_type": "display_data",
          "data": {
            "image/png": "[encoded data removed]",
            "text/plain": [
              "<Figure size 432x288 with 1 Axes>"
            ]
          },
          "metadata": {
            "needs_background": "light"
          }
        }
      ],
      "source": [
        "plt.plot(vals_svm_table['test_score'], vals_svm_table['auc_test_score'])"
      ]
    },
    {
      "cell_type": "code",
      "execution_count": 24,
      "metadata": {
        "colab": {
          "base_uri": "https://localhost:8080/"
        },
        "outputId": "d47382c9-d324-43e5-8a5f-0def1d6173d0",
        "id": "ahGtii6wrB0r"
      },
      "outputs": [
        {
          "output_type": "stream",
          "name": "stdout",
          "text": [
            "0.9854280510018215 0.9556339478834073 1.0 1.0\n"
          ]
        }
      ],
      "source": [
        "print(vals_svm_table['test_score'].max(),vals_svm_table['auc_test_score'].max(), vals_svm_table['train_score'].max(), vals_svm_table['auc_train_score'].max())"
      ]
    },
    {
      "cell_type": "code",
      "execution_count": 25,
      "metadata": {
        "colab": {
          "base_uri": "https://localhost:8080/"
        },
        "outputId": "0e21e28c-6975-44cb-8481-f9451b96d4d2",
        "id": "r-xtk_bmrB0t"
      },
      "outputs": [
        {
          "output_type": "stream",
          "name": "stdout",
          "text": [
            "39 39 4 4\n"
          ]
        }
      ],
      "source": [
        "print(vals_svm_table['test_score'].idxmax(),vals_svm_table['auc_test_score'].idxmax(), vals_svm_table['train_score'].idxmax(), vals_svm_table['auc_train_score'].idxmax())"
      ]
    },
    {
      "cell_type": "markdown",
      "metadata": {
        "id": "u-y3eRnSrB0t"
      },
      "source": [
        "####Getting Hyperparameters with best scores"
      ]
    },
    {
      "cell_type": "code",
      "execution_count": 26,
      "metadata": {
        "colab": {
          "base_uri": "https://localhost:8080/"
        },
        "outputId": "40cdddbf-b539-4ef3-9a7f-b5b25c0b7ca7",
        "id": "duvjanV0rB0u"
      },
      "outputs": [
        {
          "output_type": "stream",
          "name": "stdout",
          "text": [
            "    tol        C  train_score  auc_train_score  test_score  auc_test_score\n",
            "46  1.0  10000.0          1.0              1.0    0.985428        0.955634\n",
            "        tol        C  train_score  auc_train_score  test_score  auc_test_score\n",
            "4  0.000001  10000.0          1.0              1.0    0.983607        0.942476\n"
          ]
        }
      ],
      "source": [
        "for i in [46, 4]:\n",
        "  print(vals_svm_table[i:(i+1)])"
      ]
    },
    {
      "cell_type": "markdown",
      "metadata": {
        "id": "VdTm_D4prB0v"
      },
      "source": [
        "####Final Model"
      ]
    },
    {
      "cell_type": "code",
      "execution_count": 27,
      "metadata": {
        "colab": {
          "base_uri": "https://localhost:8080/"
        },
        "outputId": "a9615033-b77e-40bb-a76b-c243fd49bb43",
        "id": "ZHBDt1wKrB0x"
      },
      "outputs": [
        {
          "output_type": "stream",
          "name": "stdout",
          "text": [
            "1.0 1.0 0.9854280510018215 0.9556339478834073\n"
          ]
        }
      ],
      "source": [
        "clf_svm, train_score_svm, test_score_svm, auc_train_score_svm, auc_test_score_svm = svm_model(X_train, Y_train, X_test, Y_test,10000.0,1.0)\n",
        "print(train_score_svm, auc_train_score_svm, test_score_svm, auc_test_score_svm)"
      ]
    },
    {
      "cell_type": "markdown",
      "source": [
        "# Gradient Boosting Classifier"
      ],
      "metadata": {
        "id": "-_QqSpuoqlqe"
      }
    },
    {
      "cell_type": "markdown",
      "metadata": {
        "id": "amct5SrRs51y"
      },
      "source": [
        "####Model"
      ]
    },
    {
      "cell_type": "code",
      "execution_count": 28,
      "metadata": {
        "id": "h2mVJJtps51z"
      },
      "outputs": [],
      "source": [
        "from sklearn.ensemble import GradientBoostingClassifier\n",
        "def gradient_boost(X_train, Y_train, X_test, Y_test, alpha, tol_value):\n",
        "  clf = GradientBoostingClassifier(learning_rate=alpha, random_state=0,\n",
        "                             tol=tol_value).fit(X_train, Y_train)\n",
        "                            \n",
        "  train_score = clf.score(X_train, Y_train)\n",
        "  test_score = clf.score(X_test, Y_test)\n",
        "  auc_score1 = roc_auc_score(Y_train, clf.predict(X_train))\n",
        "  auc_score2 = roc_auc_score(Y_test, clf.predict(X_test))\n",
        "\n",
        "  return clf, train_score, test_score, auc_score1, auc_score2"
      ]
    },
    {
      "cell_type": "markdown",
      "metadata": {
        "id": "MtwT4Do7s515"
      },
      "source": [
        "####Hyperparameter Tuning"
      ]
    },
    {
      "cell_type": "code",
      "execution_count": 29,
      "metadata": {
        "id": "JAhPbYFWs517"
      },
      "outputs": [],
      "source": [
        "alpha = [1e-6, 1e-5, 1e-4, 1e-3, 1e-2, 1e-1, 1]\n",
        "tol = [1e-6, 1e-5, 1e-4, 1e-3, 1e-2, 1e-1, 1]\n",
        "val_gradient = []\n",
        "for i in tol:\n",
        "  for j in alpha:\n",
        "    clf, train_score, test_score,  auc_train_score, auc_test_score = gradient_boost(X_train, Y_train, X_test, Y_test, j, i)\n",
        "    val_gradient.append([i, j, train_score, auc_train_score,  test_score,  auc_test_score])"
      ]
    },
    {
      "cell_type": "code",
      "execution_count": 30,
      "metadata": {
        "colab": {
          "base_uri": "https://localhost:8080/",
          "height": 206
        },
        "outputId": "bda63b3e-c2a7-4d51-9a3a-5b7f437f5617",
        "id": "Haw--Joss518"
      },
      "outputs": [
        {
          "output_type": "execute_result",
          "data": {
            "text/html": [
              "\n",
              "  <div id=\"df-b5a10c1e-0b4d-4d6d-94f9-8bbd256e3086\">\n",
              "    <div class=\"colab-df-container\">\n",
              "      <div>\n",
              "<style scoped>\n",
              "    .dataframe tbody tr th:only-of-type {\n",
              "        vertical-align: middle;\n",
              "    }\n",
              "\n",
              "    .dataframe tbody tr th {\n",
              "        vertical-align: top;\n",
              "    }\n",
              "\n",
              "    .dataframe thead th {\n",
              "        text-align: right;\n",
              "    }\n",
              "</style>\n",
              "<table border=\"1\" class=\"dataframe\">\n",
              "  <thead>\n",
              "    <tr style=\"text-align: right;\">\n",
              "      <th></th>\n",
              "      <th>tol</th>\n",
              "      <th>alpha</th>\n",
              "      <th>train_score</th>\n",
              "      <th>auc_train_score</th>\n",
              "      <th>test_score</th>\n",
              "      <th>auc_test_score</th>\n",
              "    </tr>\n",
              "  </thead>\n",
              "  <tbody>\n",
              "    <tr>\n",
              "      <th>0</th>\n",
              "      <td>0.000001</td>\n",
              "      <td>0.000001</td>\n",
              "      <td>0.899061</td>\n",
              "      <td>0.5</td>\n",
              "      <td>0.930783</td>\n",
              "      <td>0.5</td>\n",
              "    </tr>\n",
              "    <tr>\n",
              "      <th>1</th>\n",
              "      <td>0.000001</td>\n",
              "      <td>0.000010</td>\n",
              "      <td>0.899061</td>\n",
              "      <td>0.5</td>\n",
              "      <td>0.930783</td>\n",
              "      <td>0.5</td>\n",
              "    </tr>\n",
              "    <tr>\n",
              "      <th>2</th>\n",
              "      <td>0.000001</td>\n",
              "      <td>0.000100</td>\n",
              "      <td>0.899061</td>\n",
              "      <td>0.5</td>\n",
              "      <td>0.930783</td>\n",
              "      <td>0.5</td>\n",
              "    </tr>\n",
              "    <tr>\n",
              "      <th>3</th>\n",
              "      <td>0.000001</td>\n",
              "      <td>0.001000</td>\n",
              "      <td>0.899061</td>\n",
              "      <td>0.5</td>\n",
              "      <td>0.930783</td>\n",
              "      <td>0.5</td>\n",
              "    </tr>\n",
              "    <tr>\n",
              "      <th>4</th>\n",
              "      <td>0.000001</td>\n",
              "      <td>0.010000</td>\n",
              "      <td>1.000000</td>\n",
              "      <td>1.0</td>\n",
              "      <td>1.000000</td>\n",
              "      <td>1.0</td>\n",
              "    </tr>\n",
              "  </tbody>\n",
              "</table>\n",
              "</div>\n",
              "      <button class=\"colab-df-convert\" onclick=\"convertToInteractive('df-b5a10c1e-0b4d-4d6d-94f9-8bbd256e3086')\"\n",
              "              title=\"Convert this dataframe to an interactive table.\"\n",
              "              style=\"display:none;\">\n",
              "        \n",
              "  <svg xmlns=\"http://www.w3.org/2000/svg\" height=\"24px\"viewBox=\"0 0 24 24\"\n",
              "       width=\"24px\">\n",
              "    <path d=\"M0 0h24v24H0V0z\" fill=\"none\"/>\n",
              "    <path d=\"M18.56 5.44l.94 2.06.94-2.06 2.06-.94-2.06-.94-.94-2.06-.94 2.06-2.06.94zm-11 1L8.5 8.5l.94-2.06 2.06-.94-2.06-.94L8.5 2.5l-.94 2.06-2.06.94zm10 10l.94 2.06.94-2.06 2.06-.94-2.06-.94-.94-2.06-.94 2.06-2.06.94z\"/><path d=\"M17.41 7.96l-1.37-1.37c-.4-.4-.92-.59-1.43-.59-.52 0-1.04.2-1.43.59L10.3 9.45l-7.72 7.72c-.78.78-.78 2.05 0 2.83L4 21.41c.39.39.9.59 1.41.59.51 0 1.02-.2 1.41-.59l7.78-7.78 2.81-2.81c.8-.78.8-2.07 0-2.86zM5.41 20L4 18.59l7.72-7.72 1.47 1.35L5.41 20z\"/>\n",
              "  </svg>\n",
              "      </button>\n",
              "      \n",
              "  <style>\n",
              "    .colab-df-container {\n",
              "      display:flex;\n",
              "      flex-wrap:wrap;\n",
              "      gap: 12px;\n",
              "    }\n",
              "\n",
              "    .colab-df-convert {\n",
              "      background-color: #E8F0FE;\n",
              "      border: none;\n",
              "      border-radius: 50%;\n",
              "      cursor: pointer;\n",
              "      display: none;\n",
              "      fill: #1967D2;\n",
              "      height: 32px;\n",
              "      padding: 0 0 0 0;\n",
              "      width: 32px;\n",
              "    }\n",
              "\n",
              "    .colab-df-convert:hover {\n",
              "      background-color: #E2EBFA;\n",
              "      box-shadow: 0px 1px 2px rgba(60, 64, 67, 0.3), 0px 1px 3px 1px rgba(60, 64, 67, 0.15);\n",
              "      fill: #174EA6;\n",
              "    }\n",
              "\n",
              "    [theme=dark] .colab-df-convert {\n",
              "      background-color: #3B4455;\n",
              "      fill: #D2E3FC;\n",
              "    }\n",
              "\n",
              "    [theme=dark] .colab-df-convert:hover {\n",
              "      background-color: #434B5C;\n",
              "      box-shadow: 0px 1px 3px 1px rgba(0, 0, 0, 0.15);\n",
              "      filter: drop-shadow(0px 1px 2px rgba(0, 0, 0, 0.3));\n",
              "      fill: #FFFFFF;\n",
              "    }\n",
              "  </style>\n",
              "\n",
              "      <script>\n",
              "        const buttonEl =\n",
              "          document.querySelector('#df-b5a10c1e-0b4d-4d6d-94f9-8bbd256e3086 button.colab-df-convert');\n",
              "        buttonEl.style.display =\n",
              "          google.colab.kernel.accessAllowed ? 'block' : 'none';\n",
              "\n",
              "        async function convertToInteractive(key) {\n",
              "          const element = document.querySelector('#df-b5a10c1e-0b4d-4d6d-94f9-8bbd256e3086');\n",
              "          const dataTable =\n",
              "            await google.colab.kernel.invokeFunction('convertToInteractive',\n",
              "                                                     [key], {});\n",
              "          if (!dataTable) return;\n",
              "\n",
              "          const docLinkHtml = 'Like what you see? Visit the ' +\n",
              "            '<a target=\"_blank\" href=https://colab.research.google.com/notebooks/data_table.ipynb>data table notebook</a>'\n",
              "            + ' to learn more about interactive tables.';\n",
              "          element.innerHTML = '';\n",
              "          dataTable['output_type'] = 'display_data';\n",
              "          await google.colab.output.renderOutput(dataTable, element);\n",
              "          const docLink = document.createElement('div');\n",
              "          docLink.innerHTML = docLinkHtml;\n",
              "          element.appendChild(docLink);\n",
              "        }\n",
              "      </script>\n",
              "    </div>\n",
              "  </div>\n",
              "  "
            ],
            "text/plain": [
              "        tol     alpha  train_score  auc_train_score  test_score  auc_test_score\n",
              "0  0.000001  0.000001     0.899061              0.5    0.930783             0.5\n",
              "1  0.000001  0.000010     0.899061              0.5    0.930783             0.5\n",
              "2  0.000001  0.000100     0.899061              0.5    0.930783             0.5\n",
              "3  0.000001  0.001000     0.899061              0.5    0.930783             0.5\n",
              "4  0.000001  0.010000     1.000000              1.0    1.000000             1.0"
            ]
          },
          "metadata": {},
          "execution_count": 30
        }
      ],
      "source": [
        "val_gradient_table = pd.DataFrame(val_gradient, columns = ['tol','alpha','train_score', 'auc_train_score',  'test_score',  'auc_test_score'])\n",
        "val_gradient_table.head()"
      ]
    },
    {
      "cell_type": "markdown",
      "metadata": {
        "id": "DOSpYteas51_"
      },
      "source": [
        "####Accuracy Vs AUR_ROC"
      ]
    },
    {
      "cell_type": "code",
      "execution_count": 31,
      "metadata": {
        "colab": {
          "base_uri": "https://localhost:8080/",
          "height": 282
        },
        "outputId": "6706605a-13d8-49dc-888b-ba27553083bb",
        "id": "u4BO8Clzs52A"
      },
      "outputs": [
        {
          "output_type": "execute_result",
          "data": {
            "text/plain": [
              "[<matplotlib.lines.Line2D at 0x7f4c6b252bd0>]"
            ]
          },
          "metadata": {},
          "execution_count": 31
        },
        {
          "output_type": "display_data",
          "data": {
            "image/png": "[encoded data removed]",
            "text/plain": [
              "<Figure size 432x288 with 1 Axes>"
            ]
          },
          "metadata": {
            "needs_background": "light"
          }
        }
      ],
      "source": [
        "plt.plot(val_gradient_table['train_score'], val_gradient_table['auc_train_score'])"
      ]
    },
    {
      "cell_type": "code",
      "execution_count": 32,
      "metadata": {
        "colab": {
          "base_uri": "https://localhost:8080/",
          "height": 282
        },
        "outputId": "641b1d6e-6c29-4f5d-b3d6-c289e2be620c",
        "id": "GPCOFHkPs52C"
      },
      "outputs": [
        {
          "output_type": "execute_result",
          "data": {
            "text/plain": [
              "[<matplotlib.lines.Line2D at 0x7f4c6b237d10>]"
            ]
          },
          "metadata": {},
          "execution_count": 32
        },
        {
          "output_type": "display_data",
          "data": {
            "image/png": "[encoded data removed]",
            "text/plain": [
              "<Figure size 432x288 with 1 Axes>"
            ]
          },
          "metadata": {
            "needs_background": "light"
          }
        }
      ],
      "source": [
        "plt.plot(val_gradient_table['test_score'], val_gradient_table['auc_test_score'])"
      ]
    },
    {
      "cell_type": "code",
      "execution_count": 33,
      "metadata": {
        "colab": {
          "base_uri": "https://localhost:8080/"
        },
        "outputId": "18891047-a703-4192-e6a6-f1f641283766",
        "id": "20gpMM7Es52E"
      },
      "outputs": [
        {
          "output_type": "stream",
          "name": "stdout",
          "text": [
            "1.0 1.0 1.0 1.0\n"
          ]
        }
      ],
      "source": [
        "print(val_gradient_table['test_score'].max(),val_gradient_table['auc_test_score'].max(), val_gradient_table['train_score'].max(), val_gradient_table['auc_train_score'].max())"
      ]
    },
    {
      "cell_type": "code",
      "execution_count": 34,
      "metadata": {
        "colab": {
          "base_uri": "https://localhost:8080/"
        },
        "outputId": "70472140-560c-4359-ec88-69612267ca25",
        "id": "DgvIG2zns52G"
      },
      "outputs": [
        {
          "output_type": "stream",
          "name": "stdout",
          "text": [
            "4 4 4 4\n"
          ]
        }
      ],
      "source": [
        "print(val_gradient_table['test_score'].idxmax(),val_gradient_table['auc_test_score'].idxmax(), val_gradient_table['train_score'].idxmax(), val_gradient_table['auc_train_score'].idxmax())"
      ]
    },
    {
      "cell_type": "markdown",
      "metadata": {
        "id": "KurAeY2Os52H"
      },
      "source": [
        "####Getting Hyperparameters with best scores"
      ]
    },
    {
      "cell_type": "code",
      "execution_count": 35,
      "metadata": {
        "colab": {
          "base_uri": "https://localhost:8080/"
        },
        "outputId": "532aaf9e-6dfe-4d0e-93a8-192458c764c6",
        "id": "QGhh-XL3s52J"
      },
      "outputs": [
        {
          "output_type": "stream",
          "name": "stdout",
          "text": [
            "        tol  alpha  train_score  auc_train_score  test_score  auc_test_score\n",
            "4  0.000001   0.01          1.0              1.0         1.0             1.0\n"
          ]
        }
      ],
      "source": [
        "for i in [4]:\n",
        "  print(val_gradient_table[i:(i+1)])"
      ]
    },
    {
      "cell_type": "markdown",
      "metadata": {
        "id": "D-cS9XOfs52K"
      },
      "source": [
        "####Final Model"
      ]
    },
    {
      "cell_type": "code",
      "execution_count": 36,
      "metadata": {
        "colab": {
          "base_uri": "https://localhost:8080/"
        },
        "outputId": "23e7a4c8-3f36-4796-c3b1-26d9b9fe0afa",
        "id": "9pVsboV_s52N"
      },
      "outputs": [
        {
          "output_type": "stream",
          "name": "stdout",
          "text": [
            "1.0 1.0 1.0 1.0\n"
          ]
        }
      ],
      "source": [
        "clf_grd_boost, train_score_grd_boost, test_score_grd_boost, auc_train_score_grd_boost, auc_test_score_grd_boost = gradient_boost(X_train, Y_train, X_test, Y_test,0.01,0.000001)\n",
        "print(train_score_grd_boost, auc_train_score_grd_boost, test_score_grd_boost, auc_test_score_grd_boost)"
      ]
    },
    {
      "cell_type": "markdown",
      "source": [
        "# Random Forest"
      ],
      "metadata": {
        "id": "n40QBBk6qZsz"
      }
    },
    {
      "cell_type": "markdown",
      "metadata": {
        "id": "ojGSvXCXs9ko"
      },
      "source": [
        "####Model"
      ]
    },
    {
      "cell_type": "code",
      "execution_count": 37,
      "metadata": {
        "id": "aqWKIhY8s9kp"
      },
      "outputs": [],
      "source": [
        "from sklearn.ensemble import RandomForestClassifier\n",
        "def random_forest(X_train, Y_train, X_test, Y_test, no_of_trees_val, max_depth_val):\n",
        "      clf = RandomForestClassifier(n_estimators = no_of_trees_val, max_depth = max_depth_val,\n",
        "                                   random_state=0, class_weight= \"balanced\").fit(X_train, Y_train)\n",
        "      train_score = clf.score(X_train, Y_train)\n",
        "      test_score = clf.score(X_test, Y_test)\n",
        "      auc_score1 = roc_auc_score(Y_train, clf.predict(X_train))\n",
        "      auc_score2 = roc_auc_score(Y_test, clf.predict(X_test))\n",
        "\n",
        "      return clf, train_score, test_score, auc_score1, auc_score2"
      ]
    },
    {
      "cell_type": "markdown",
      "metadata": {
        "id": "MbrYThYJs9kp"
      },
      "source": [
        "####Hyperparameter Tuning"
      ]
    },
    {
      "cell_type": "code",
      "execution_count": 38,
      "metadata": {
        "id": "PemhjW6Rs9kq"
      },
      "outputs": [],
      "source": [
        "no_of_trees = [1, 2, 5, 10, 15, 20, 50, 100]\n",
        "max_depth = [1, 2, 5, 1e+1, 50, 100]\n",
        "val_random_forest = []\n",
        "for i in no_of_trees:\n",
        "  for j in max_depth:\n",
        "      clf, train_score, test_score, auc_train_score, auc_test_score = random_forest(X_train, Y_train, X_test, Y_test, i, j)\n",
        "      val_random_forest.append([i, j, train_score, auc_train_score, test_score, auc_test_score])"
      ]
    },
    {
      "cell_type": "code",
      "execution_count": 39,
      "metadata": {
        "colab": {
          "base_uri": "https://localhost:8080/",
          "height": 0
        },
        "outputId": "599bd325-a339-4e86-c564-55d9f075fa5a",
        "id": "KmB5FqdBs9kq"
      },
      "outputs": [
        {
          "output_type": "execute_result",
          "data": {
            "text/html": [
              "\n",
              "  <div id=\"df-c70d1cd4-a858-4cb6-8a57-0df8964df832\">\n",
              "    <div class=\"colab-df-container\">\n",
              "      <div>\n",
              "<style scoped>\n",
              "    .dataframe tbody tr th:only-of-type {\n",
              "        vertical-align: middle;\n",
              "    }\n",
              "\n",
              "    .dataframe tbody tr th {\n",
              "        vertical-align: top;\n",
              "    }\n",
              "\n",
              "    .dataframe thead th {\n",
              "        text-align: right;\n",
              "    }\n",
              "</style>\n",
              "<table border=\"1\" class=\"dataframe\">\n",
              "  <thead>\n",
              "    <tr style=\"text-align: right;\">\n",
              "      <th></th>\n",
              "      <th>no_of_trees</th>\n",
              "      <th>max_depth</th>\n",
              "      <th>train_score</th>\n",
              "      <th>auc_train_score</th>\n",
              "      <th>test_score</th>\n",
              "      <th>auc_test_score</th>\n",
              "    </tr>\n",
              "  </thead>\n",
              "  <tbody>\n",
              "    <tr>\n",
              "      <th>0</th>\n",
              "      <td>1</td>\n",
              "      <td>1.0</td>\n",
              "      <td>1.0</td>\n",
              "      <td>1.0</td>\n",
              "      <td>1.0</td>\n",
              "      <td>1.0</td>\n",
              "    </tr>\n",
              "    <tr>\n",
              "      <th>1</th>\n",
              "      <td>1</td>\n",
              "      <td>2.0</td>\n",
              "      <td>1.0</td>\n",
              "      <td>1.0</td>\n",
              "      <td>1.0</td>\n",
              "      <td>1.0</td>\n",
              "    </tr>\n",
              "    <tr>\n",
              "      <th>2</th>\n",
              "      <td>1</td>\n",
              "      <td>5.0</td>\n",
              "      <td>1.0</td>\n",
              "      <td>1.0</td>\n",
              "      <td>1.0</td>\n",
              "      <td>1.0</td>\n",
              "    </tr>\n",
              "    <tr>\n",
              "      <th>3</th>\n",
              "      <td>1</td>\n",
              "      <td>10.0</td>\n",
              "      <td>1.0</td>\n",
              "      <td>1.0</td>\n",
              "      <td>1.0</td>\n",
              "      <td>1.0</td>\n",
              "    </tr>\n",
              "    <tr>\n",
              "      <th>4</th>\n",
              "      <td>1</td>\n",
              "      <td>50.0</td>\n",
              "      <td>1.0</td>\n",
              "      <td>1.0</td>\n",
              "      <td>1.0</td>\n",
              "      <td>1.0</td>\n",
              "    </tr>\n",
              "  </tbody>\n",
              "</table>\n",
              "</div>\n",
              "      <button class=\"colab-df-convert\" onclick=\"convertToInteractive('df-c70d1cd4-a858-4cb6-8a57-0df8964df832')\"\n",
              "              title=\"Convert this dataframe to an interactive table.\"\n",
              "              style=\"display:none;\">\n",
              "        \n",
              "  <svg xmlns=\"http://www.w3.org/2000/svg\" height=\"24px\"viewBox=\"0 0 24 24\"\n",
              "       width=\"24px\">\n",
              "    <path d=\"M0 0h24v24H0V0z\" fill=\"none\"/>\n",
              "    <path d=\"M18.56 5.44l.94 2.06.94-2.06 2.06-.94-2.06-.94-.94-2.06-.94 2.06-2.06.94zm-11 1L8.5 8.5l.94-2.06 2.06-.94-2.06-.94L8.5 2.5l-.94 2.06-2.06.94zm10 10l.94 2.06.94-2.06 2.06-.94-2.06-.94-.94-2.06-.94 2.06-2.06.94z\"/><path d=\"M17.41 7.96l-1.37-1.37c-.4-.4-.92-.59-1.43-.59-.52 0-1.04.2-1.43.59L10.3 9.45l-7.72 7.72c-.78.78-.78 2.05 0 2.83L4 21.41c.39.39.9.59 1.41.59.51 0 1.02-.2 1.41-.59l7.78-7.78 2.81-2.81c.8-.78.8-2.07 0-2.86zM5.41 20L4 18.59l7.72-7.72 1.47 1.35L5.41 20z\"/>\n",
              "  </svg>\n",
              "      </button>\n",
              "      \n",
              "  <style>\n",
              "    .colab-df-container {\n",
              "      display:flex;\n",
              "      flex-wrap:wrap;\n",
              "      gap: 12px;\n",
              "    }\n",
              "\n",
              "    .colab-df-convert {\n",
              "      background-color: #E8F0FE;\n",
              "      border: none;\n",
              "      border-radius: 50%;\n",
              "      cursor: pointer;\n",
              "      display: none;\n",
              "      fill: #1967D2;\n",
              "      height: 32px;\n",
              "      padding: 0 0 0 0;\n",
              "      width: 32px;\n",
              "    }\n",
              "\n",
              "    .colab-df-convert:hover {\n",
              "      background-color: #E2EBFA;\n",
              "      box-shadow: 0px 1px 2px rgba(60, 64, 67, 0.3), 0px 1px 3px 1px rgba(60, 64, 67, 0.15);\n",
              "      fill: #174EA6;\n",
              "    }\n",
              "\n",
              "    [theme=dark] .colab-df-convert {\n",
              "      background-color: #3B4455;\n",
              "      fill: #D2E3FC;\n",
              "    }\n",
              "\n",
              "    [theme=dark] .colab-df-convert:hover {\n",
              "      background-color: #434B5C;\n",
              "      box-shadow: 0px 1px 3px 1px rgba(0, 0, 0, 0.15);\n",
              "      filter: drop-shadow(0px 1px 2px rgba(0, 0, 0, 0.3));\n",
              "      fill: #FFFFFF;\n",
              "    }\n",
              "  </style>\n",
              "\n",
              "      <script>\n",
              "        const buttonEl =\n",
              "          document.querySelector('#df-c70d1cd4-a858-4cb6-8a57-0df8964df832 button.colab-df-convert');\n",
              "        buttonEl.style.display =\n",
              "          google.colab.kernel.accessAllowed ? 'block' : 'none';\n",
              "\n",
              "        async function convertToInteractive(key) {\n",
              "          const element = document.querySelector('#df-c70d1cd4-a858-4cb6-8a57-0df8964df832');\n",
              "          const dataTable =\n",
              "            await google.colab.kernel.invokeFunction('convertToInteractive',\n",
              "                                                     [key], {});\n",
              "          if (!dataTable) return;\n",
              "\n",
              "          const docLinkHtml = 'Like what you see? Visit the ' +\n",
              "            '<a target=\"_blank\" href=https://colab.research.google.com/notebooks/data_table.ipynb>data table notebook</a>'\n",
              "            + ' to learn more about interactive tables.';\n",
              "          element.innerHTML = '';\n",
              "          dataTable['output_type'] = 'display_data';\n",
              "          await google.colab.output.renderOutput(dataTable, element);\n",
              "          const docLink = document.createElement('div');\n",
              "          docLink.innerHTML = docLinkHtml;\n",
              "          element.appendChild(docLink);\n",
              "        }\n",
              "      </script>\n",
              "    </div>\n",
              "  </div>\n",
              "  "
            ],
            "text/plain": [
              "   no_of_trees  max_depth  ...  test_score  auc_test_score\n",
              "0            1        1.0  ...         1.0             1.0\n",
              "1            1        2.0  ...         1.0             1.0\n",
              "2            1        5.0  ...         1.0             1.0\n",
              "3            1       10.0  ...         1.0             1.0\n",
              "4            1       50.0  ...         1.0             1.0\n",
              "\n",
              "[5 rows x 6 columns]"
            ]
          },
          "metadata": {},
          "execution_count": 39
        }
      ],
      "source": [
        "table_random_forest = pd.DataFrame(val_random_forest, columns = ['no_of_trees','max_depth','train_score', 'auc_train_score', 'test_score','auc_test_score'])\n",
        "table_random_forest.head()"
      ]
    },
    {
      "cell_type": "markdown",
      "metadata": {
        "id": "ySpArshrs9kv"
      },
      "source": [
        "####Accuracy Vs AUR_ROC"
      ]
    },
    {
      "cell_type": "code",
      "execution_count": 40,
      "metadata": {
        "colab": {
          "base_uri": "https://localhost:8080/",
          "height": 0
        },
        "outputId": "e64b67b9-03e6-44db-c373-683ad0dc01fd",
        "id": "vtR6vs-Us9kw"
      },
      "outputs": [
        {
          "output_type": "execute_result",
          "data": {
            "text/plain": [
              "[<matplotlib.lines.Line2D at 0x7f4c6b175b10>]"
            ]
          },
          "metadata": {},
          "execution_count": 40
        },
        {
          "output_type": "display_data",
          "data": {
            "image/png": "[encoded data removed]",
            "text/plain": [
              "<Figure size 432x288 with 1 Axes>"
            ]
          },
          "metadata": {
            "needs_background": "light"
          }
        }
      ],
      "source": [
        "plt.plot(table_random_forest['train_score'], table_random_forest['auc_train_score'])"
      ]
    },
    {
      "cell_type": "code",
      "execution_count": 41,
      "metadata": {
        "colab": {
          "base_uri": "https://localhost:8080/",
          "height": 0
        },
        "outputId": "ea37bd1a-4647-42da-e34f-86fbd51a7bc3",
        "id": "7DIfNYt3s9kx"
      },
      "outputs": [
        {
          "output_type": "execute_result",
          "data": {
            "text/plain": [
              "[<matplotlib.lines.Line2D at 0x7f4c6b0dcb90>]"
            ]
          },
          "metadata": {},
          "execution_count": 41
        },
        {
          "output_type": "display_data",
          "data": {
            "image/png": "[encoded data removed]",
            "text/plain": [
              "<Figure size 432x288 with 1 Axes>"
            ]
          },
          "metadata": {
            "needs_background": "light"
          }
        }
      ],
      "source": [
        "plt.plot(table_random_forest['test_score'], table_random_forest['auc_test_score'])"
      ]
    },
    {
      "cell_type": "code",
      "execution_count": 42,
      "metadata": {
        "colab": {
          "base_uri": "https://localhost:8080/"
        },
        "outputId": "2f317a45-5f6c-439a-ec99-a33e86c10051",
        "id": "3evDcbBVs9kx"
      },
      "outputs": [
        {
          "output_type": "stream",
          "name": "stdout",
          "text": [
            "1.0 1.0 1.0 1.0\n"
          ]
        }
      ],
      "source": [
        "print(table_random_forest['test_score'].max(),table_random_forest['auc_test_score'].max(), table_random_forest['train_score'].max(), table_random_forest['auc_train_score'].max())"
      ]
    },
    {
      "cell_type": "code",
      "execution_count": 43,
      "metadata": {
        "colab": {
          "base_uri": "https://localhost:8080/"
        },
        "outputId": "cc6c948d-23cf-41aa-dfc2-50b8b3f896b6",
        "id": "XhDhJ4iUs9k1"
      },
      "outputs": [
        {
          "output_type": "stream",
          "name": "stdout",
          "text": [
            "0 0 0 0\n"
          ]
        }
      ],
      "source": [
        "print(table_random_forest['test_score'].idxmax(),table_random_forest['auc_test_score'].idxmax(), table_random_forest['train_score'].idxmax(), table_random_forest['auc_train_score'].idxmax())"
      ]
    },
    {
      "cell_type": "markdown",
      "metadata": {
        "id": "TK2SjWi8s9k2"
      },
      "source": [
        "####Getting Hyperparameters with best scores"
      ]
    },
    {
      "cell_type": "code",
      "execution_count": 44,
      "metadata": {
        "colab": {
          "base_uri": "https://localhost:8080/"
        },
        "outputId": "c086e2bf-ea59-486c-fa95-7fee84e76b87",
        "id": "-3O135Rjs9k2"
      },
      "outputs": [
        {
          "output_type": "stream",
          "name": "stdout",
          "text": [
            "   no_of_trees  max_depth  ...  test_score  auc_test_score\n",
            "0            1        1.0  ...         1.0             1.0\n",
            "\n",
            "[1 rows x 6 columns]\n"
          ]
        }
      ],
      "source": [
        "for i in [0]:\n",
        "  print(table_random_forest[i:(i+1)])"
      ]
    },
    {
      "cell_type": "markdown",
      "metadata": {
        "id": "1jmhiXass9k3"
      },
      "source": [
        "####Final Model"
      ]
    },
    {
      "cell_type": "code",
      "execution_count": 45,
      "metadata": {
        "colab": {
          "base_uri": "https://localhost:8080/"
        },
        "outputId": "cb1c7acd-b3f3-4e54-b0a6-ca63820ea08b",
        "id": "MkgqBpkds9k3"
      },
      "outputs": [
        {
          "output_type": "stream",
          "name": "stdout",
          "text": [
            "1.0 1.0 1.0 1.0\n"
          ]
        }
      ],
      "source": [
        "clf_random_forest, train_score_random_forest, test_score_random_forest, auc_train_score_random_forest, auc_test_score_random_forest = random_forest(X_train, Y_train, X_test, Y_test,1,1)\n",
        "print(train_score_random_forest, auc_train_score_random_forest, test_score_random_forest, auc_test_score_random_forest)"
      ]
    },
    {
      "cell_type": "markdown",
      "source": [
        "# Multi Layer Perceptron"
      ],
      "metadata": {
        "id": "8G-HsECtq1qO"
      }
    },
    {
      "cell_type": "markdown",
      "metadata": {
        "id": "4DG26tuBs-w8"
      },
      "source": [
        "####Model"
      ]
    },
    {
      "cell_type": "code",
      "execution_count": 46,
      "metadata": {
        "id": "Dvs2hF9ms-w9"
      },
      "outputs": [],
      "source": [
        "from sklearn.neural_network import MLPClassifier\n",
        "def MLP(X_train, Y_train, X_test, Y_test, alpha_val, max_iterations, tol_val):\n",
        "  clf = MLPClassifier(learning_rate_init=alpha_val,\n",
        "                      max_iter=max_iterations,tol=tol_val).fit(X_train, Y_train)\n",
        "\n",
        "  train_score = clf.score(X_train, Y_train)\n",
        "  test_score = clf.score(X_test, Y_test)\n",
        "  auc_score1 = roc_auc_score(Y_train, clf.predict(X_train))\n",
        "  auc_score2 = roc_auc_score(Y_test, clf.predict(X_test))\n",
        "\n",
        "  return clf, train_score, test_score, auc_score1, auc_score2"
      ]
    },
    {
      "cell_type": "markdown",
      "metadata": {
        "id": "tAiRJFp6s-w-"
      },
      "source": [
        "####Hyperparameter Tuning"
      ]
    },
    {
      "cell_type": "code",
      "execution_count": 47,
      "metadata": {
        "colab": {
          "base_uri": "https://localhost:8080/",
          "height": 296
        },
        "id": "8AT0wUSWs-w_",
        "outputId": "48eb4b3c-b38f-4c29-a6d3-9f894a8e60af"
      },
      "outputs": [
        {
          "output_type": "stream",
          "name": "stderr",
          "text": [
            "/usr/local/lib/python3.7/dist-packages/sklearn/neural_network/_multilayer_perceptron.py:696: ConvergenceWarning: Stochastic Optimizer: Maximum iterations (10000) reached and the optimization hasn't converged yet.\n",
            "  ConvergenceWarning,\n",
            "/usr/local/lib/python3.7/dist-packages/sklearn/neural_network/_multilayer_perceptron.py:696: ConvergenceWarning: Stochastic Optimizer: Maximum iterations (10000) reached and the optimization hasn't converged yet.\n",
            "  ConvergenceWarning,\n"
          ]
        },
        {
          "output_type": "execute_result",
          "data": {
            "text/html": [
              "\n",
              "  <div id=\"df-3d0fe3f1-3139-47d3-b464-d963ce7cc5aa\">\n",
              "    <div class=\"colab-df-container\">\n",
              "      <div>\n",
              "<style scoped>\n",
              "    .dataframe tbody tr th:only-of-type {\n",
              "        vertical-align: middle;\n",
              "    }\n",
              "\n",
              "    .dataframe tbody tr th {\n",
              "        vertical-align: top;\n",
              "    }\n",
              "\n",
              "    .dataframe thead th {\n",
              "        text-align: right;\n",
              "    }\n",
              "</style>\n",
              "<table border=\"1\" class=\"dataframe\">\n",
              "  <thead>\n",
              "    <tr style=\"text-align: right;\">\n",
              "      <th></th>\n",
              "      <th>max_iter</th>\n",
              "      <th>learning_rate</th>\n",
              "      <th>tol_val</th>\n",
              "      <th>train_score</th>\n",
              "      <th>test_score</th>\n",
              "      <th>auc_score_train</th>\n",
              "      <th>auc_score_test</th>\n",
              "    </tr>\n",
              "  </thead>\n",
              "  <tbody>\n",
              "    <tr>\n",
              "      <th>0</th>\n",
              "      <td>10000</td>\n",
              "      <td>0.000001</td>\n",
              "      <td>0.000001</td>\n",
              "      <td>0.899844</td>\n",
              "      <td>0.930783</td>\n",
              "      <td>0.503876</td>\n",
              "      <td>0.500000</td>\n",
              "    </tr>\n",
              "    <tr>\n",
              "      <th>1</th>\n",
              "      <td>10000</td>\n",
              "      <td>0.000001</td>\n",
              "      <td>0.000010</td>\n",
              "      <td>0.899061</td>\n",
              "      <td>0.930783</td>\n",
              "      <td>0.500000</td>\n",
              "      <td>0.500000</td>\n",
              "    </tr>\n",
              "    <tr>\n",
              "      <th>2</th>\n",
              "      <td>10000</td>\n",
              "      <td>0.000001</td>\n",
              "      <td>0.000100</td>\n",
              "      <td>0.703443</td>\n",
              "      <td>0.697632</td>\n",
              "      <td>0.587336</td>\n",
              "      <td>0.545267</td>\n",
              "    </tr>\n",
              "    <tr>\n",
              "      <th>3</th>\n",
              "      <td>10000</td>\n",
              "      <td>0.000001</td>\n",
              "      <td>0.001000</td>\n",
              "      <td>0.101721</td>\n",
              "      <td>0.074681</td>\n",
              "      <td>0.500435</td>\n",
              "      <td>0.502935</td>\n",
              "    </tr>\n",
              "    <tr>\n",
              "      <th>4</th>\n",
              "      <td>10000</td>\n",
              "      <td>0.000001</td>\n",
              "      <td>0.010000</td>\n",
              "      <td>0.620501</td>\n",
              "      <td>0.673953</td>\n",
              "      <td>0.413899</td>\n",
              "      <td>0.447291</td>\n",
              "    </tr>\n",
              "  </tbody>\n",
              "</table>\n",
              "</div>\n",
              "      <button class=\"colab-df-convert\" onclick=\"convertToInteractive('df-3d0fe3f1-3139-47d3-b464-d963ce7cc5aa')\"\n",
              "              title=\"Convert this dataframe to an interactive table.\"\n",
              "              style=\"display:none;\">\n",
              "        \n",
              "  <svg xmlns=\"http://www.w3.org/2000/svg\" height=\"24px\"viewBox=\"0 0 24 24\"\n",
              "       width=\"24px\">\n",
              "    <path d=\"M0 0h24v24H0V0z\" fill=\"none\"/>\n",
              "    <path d=\"M18.56 5.44l.94 2.06.94-2.06 2.06-.94-2.06-.94-.94-2.06-.94 2.06-2.06.94zm-11 1L8.5 8.5l.94-2.06 2.06-.94-2.06-.94L8.5 2.5l-.94 2.06-2.06.94zm10 10l.94 2.06.94-2.06 2.06-.94-2.06-.94-.94-2.06-.94 2.06-2.06.94z\"/><path d=\"M17.41 7.96l-1.37-1.37c-.4-.4-.92-.59-1.43-.59-.52 0-1.04.2-1.43.59L10.3 9.45l-7.72 7.72c-.78.78-.78 2.05 0 2.83L4 21.41c.39.39.9.59 1.41.59.51 0 1.02-.2 1.41-.59l7.78-7.78 2.81-2.81c.8-.78.8-2.07 0-2.86zM5.41 20L4 18.59l7.72-7.72 1.47 1.35L5.41 20z\"/>\n",
              "  </svg>\n",
              "      </button>\n",
              "      \n",
              "  <style>\n",
              "    .colab-df-container {\n",
              "      display:flex;\n",
              "      flex-wrap:wrap;\n",
              "      gap: 12px;\n",
              "    }\n",
              "\n",
              "    .colab-df-convert {\n",
              "      background-color: #E8F0FE;\n",
              "      border: none;\n",
              "      border-radius: 50%;\n",
              "      cursor: pointer;\n",
              "      display: none;\n",
              "      fill: #1967D2;\n",
              "      height: 32px;\n",
              "      padding: 0 0 0 0;\n",
              "      width: 32px;\n",
              "    }\n",
              "\n",
              "    .colab-df-convert:hover {\n",
              "      background-color: #E2EBFA;\n",
              "      box-shadow: 0px 1px 2px rgba(60, 64, 67, 0.3), 0px 1px 3px 1px rgba(60, 64, 67, 0.15);\n",
              "      fill: #174EA6;\n",
              "    }\n",
              "\n",
              "    [theme=dark] .colab-df-convert {\n",
              "      background-color: #3B4455;\n",
              "      fill: #D2E3FC;\n",
              "    }\n",
              "\n",
              "    [theme=dark] .colab-df-convert:hover {\n",
              "      background-color: #434B5C;\n",
              "      box-shadow: 0px 1px 3px 1px rgba(0, 0, 0, 0.15);\n",
              "      filter: drop-shadow(0px 1px 2px rgba(0, 0, 0, 0.3));\n",
              "      fill: #FFFFFF;\n",
              "    }\n",
              "  </style>\n",
              "\n",
              "      <script>\n",
              "        const buttonEl =\n",
              "          document.querySelector('#df-3d0fe3f1-3139-47d3-b464-d963ce7cc5aa button.colab-df-convert');\n",
              "        buttonEl.style.display =\n",
              "          google.colab.kernel.accessAllowed ? 'block' : 'none';\n",
              "\n",
              "        async function convertToInteractive(key) {\n",
              "          const element = document.querySelector('#df-3d0fe3f1-3139-47d3-b464-d963ce7cc5aa');\n",
              "          const dataTable =\n",
              "            await google.colab.kernel.invokeFunction('convertToInteractive',\n",
              "                                                     [key], {});\n",
              "          if (!dataTable) return;\n",
              "\n",
              "          const docLinkHtml = 'Like what you see? Visit the ' +\n",
              "            '<a target=\"_blank\" href=https://colab.research.google.com/notebooks/data_table.ipynb>data table notebook</a>'\n",
              "            + ' to learn more about interactive tables.';\n",
              "          element.innerHTML = '';\n",
              "          dataTable['output_type'] = 'display_data';\n",
              "          await google.colab.output.renderOutput(dataTable, element);\n",
              "          const docLink = document.createElement('div');\n",
              "          docLink.innerHTML = docLinkHtml;\n",
              "          element.appendChild(docLink);\n",
              "        }\n",
              "      </script>\n",
              "    </div>\n",
              "  </div>\n",
              "  "
            ],
            "text/plain": [
              "   max_iter  learning_rate  ...  auc_score_train  auc_score_test\n",
              "0     10000       0.000001  ...         0.503876        0.500000\n",
              "1     10000       0.000001  ...         0.500000        0.500000\n",
              "2     10000       0.000001  ...         0.587336        0.545267\n",
              "3     10000       0.000001  ...         0.500435        0.502935\n",
              "4     10000       0.000001  ...         0.413899        0.447291\n",
              "\n",
              "[5 rows x 7 columns]"
            ]
          },
          "metadata": {},
          "execution_count": 47
        }
      ],
      "source": [
        "max_iter = [10000]\n",
        "learning_rate = [1e-6, 1e-5, 1e-4, 1e-3, 1e-2, 1e-1, 1]\n",
        "tol_val = [1e-6, 1e-5, 1e-4, 1e-3, 1e-2, 1e-1, 1]\n",
        "vals_MLP = []\n",
        "for i in max_iter:\n",
        "  for j in learning_rate:\n",
        "    for k in tol_val:\n",
        "      clf, train_score, test_score, auc_score1, auc_score2 = MLP(X_train, Y_train, X_test, Y_test, j, i, k)\n",
        "      vals_MLP.append([i, j, k, train_score, test_score, auc_score1, auc_score2])\n",
        "MLP_table = pd.DataFrame(data = vals_MLP, columns = ['max_iter', 'learning_rate', 'tol_val', 'train_score', 'test_score', 'auc_score_train', 'auc_score_test'])\n",
        "MLP_table.head()"
      ]
    },
    {
      "cell_type": "markdown",
      "metadata": {
        "id": "iJWT8S_ws-xB"
      },
      "source": [
        "####Accuracy Vs AUR_ROC"
      ]
    },
    {
      "cell_type": "code",
      "execution_count": 48,
      "metadata": {
        "colab": {
          "base_uri": "https://localhost:8080/",
          "height": 282
        },
        "outputId": "c17d0a12-14e0-4a12-9e72-712c5c447e95",
        "id": "zqF1QCTQs-xC"
      },
      "outputs": [
        {
          "output_type": "execute_result",
          "data": {
            "text/plain": [
              "[<matplotlib.lines.Line2D at 0x7f4c6afa67d0>]"
            ]
          },
          "metadata": {},
          "execution_count": 48
        },
        {
          "output_type": "display_data",
          "data": {
            "image/png": "[encoded data removed]",
            "text/plain": [
              "<Figure size 432x288 with 1 Axes>"
            ]
          },
          "metadata": {
            "needs_background": "light"
          }
        }
      ],
      "source": [
        "plt.plot(MLP_table['train_score'], MLP_table['auc_score_train'])"
      ]
    },
    {
      "cell_type": "code",
      "execution_count": 49,
      "metadata": {
        "colab": {
          "base_uri": "https://localhost:8080/",
          "height": 282
        },
        "outputId": "1ab1de49-a393-49e3-c6ec-75ad9bbc342a",
        "id": "pEF3CCNqs-xD"
      },
      "outputs": [
        {
          "output_type": "execute_result",
          "data": {
            "text/plain": [
              "[<matplotlib.lines.Line2D at 0x7f4c6b482150>]"
            ]
          },
          "metadata": {},
          "execution_count": 49
        },
        {
          "output_type": "display_data",
          "data": {
            "image/png": "[encoded data removed]",
            "text/plain": [
              "<Figure size 432x288 with 1 Axes>"
            ]
          },
          "metadata": {
            "needs_background": "light"
          }
        }
      ],
      "source": [
        "plt.plot(MLP_table['test_score'], MLP_table['auc_score_test'])"
      ]
    },
    {
      "cell_type": "code",
      "execution_count": 50,
      "metadata": {
        "colab": {
          "base_uri": "https://localhost:8080/"
        },
        "outputId": "a0fcf4e5-16f7-4971-89ff-71762a77728c",
        "id": "kf-dYOwMs-xE"
      },
      "outputs": [
        {
          "output_type": "stream",
          "name": "stdout",
          "text": [
            "0.9981785063752276 0.986842105263158 0.9921752738654147 0.9681219260428683\n"
          ]
        }
      ],
      "source": [
        "print(MLP_table['test_score'].max(),MLP_table['auc_score_test'].max(), MLP_table['train_score'].max(), MLP_table['auc_score_train'].max())"
      ]
    },
    {
      "cell_type": "code",
      "execution_count": 51,
      "metadata": {
        "colab": {
          "base_uri": "https://localhost:8080/"
        },
        "outputId": "a1d56e73-c41a-4ae0-c616-f150f03db87f",
        "id": "P_kKphsFs-xF"
      },
      "outputs": [
        {
          "output_type": "stream",
          "name": "stdout",
          "text": [
            "14 14 36 36\n"
          ]
        }
      ],
      "source": [
        "print(MLP_table['test_score'].idxmax(),MLP_table['auc_score_test'].idxmax(), MLP_table['train_score'].idxmax(), MLP_table['auc_score_train'].idxmax())"
      ]
    },
    {
      "cell_type": "markdown",
      "metadata": {
        "id": "Cy--Pjhhs-xG"
      },
      "source": [
        "####Getting Hyperparameters with best scores"
      ]
    },
    {
      "cell_type": "code",
      "execution_count": 52,
      "metadata": {
        "colab": {
          "base_uri": "https://localhost:8080/"
        },
        "outputId": "b31cc524-94e3-4a50-fdf3-1f75a66f7bc5",
        "id": "IVn_YAfSs-xH"
      },
      "outputs": [
        {
          "output_type": "stream",
          "name": "stdout",
          "text": [
            "    max_iter  learning_rate  ...  auc_score_train  auc_score_test\n",
            "35     10000            0.1  ...         0.951748        0.972706\n",
            "\n",
            "[1 rows x 7 columns]\n",
            "35    0.000001\n",
            "Name: tol_val, dtype: float64\n"
          ]
        }
      ],
      "source": [
        "for i in [35]:\n",
        "  print(MLP_table[i:(i+1)])\n",
        "  print(MLP_table[i:(i+1)].tol_val)"
      ]
    },
    {
      "cell_type": "markdown",
      "metadata": {
        "id": "rxh14ZyVs-xI"
      },
      "source": [
        "####Final Model"
      ]
    },
    {
      "cell_type": "code",
      "execution_count": 53,
      "metadata": {
        "colab": {
          "base_uri": "https://localhost:8080/"
        },
        "outputId": "1d9ccbe0-6f55-42d7-9cfa-29f56f70f01d",
        "id": "LP6w1Fues-xJ"
      },
      "outputs": [
        {
          "output_type": "stream",
          "name": "stdout",
          "text": [
            "0.9796557120500783 0.9129880381322485 0.9908925318761385 0.9463899474714184\n"
          ]
        }
      ],
      "source": [
        "clf_MLP, train_score_MLP, test_score_MLP, auc_train_score_MLP, auc_test_score_MLP = MLP(X_train, Y_train, X_test, Y_test,0.1, 100000, 0.000001)\n",
        "print(train_score_MLP, auc_train_score_MLP, test_score_MLP, auc_test_score_MLP)"
      ]
    },
    {
      "cell_type": "markdown",
      "source": [
        "#Best Model Confusion Matrix"
      ],
      "metadata": {
        "id": "2RMpLtw5EO16"
      }
    },
    {
      "cell_type": "code",
      "source": [
        "from sklearn.metrics import confusion_matrix, ConfusionMatrixDisplay\n",
        "from sklearn.metrics import precision_recall_fscore_support\n",
        "def represent_best(X_train, Y_train, X_test, Y_test, clf, train_score, auc_train_score, test_score, auc_test_score):\n",
        "  print(\"Train Data: \\n\\n\")\n",
        "  print(\"Accuracy:\", train_score, \"\\n\")\n",
        "  print(\"AUC_ROC Score:\", auc_train_score, \"\\n\")\n",
        "  print(\"Confusion Matrix Train\\n\")\n",
        "  cm1 = confusion_matrix(Y_train, clf.predict(X_train) , labels=clf.classes_)\n",
        "  disp1 = ConfusionMatrixDisplay(confusion_matrix=cm1,\n",
        "                           display_labels=clf.classes_)\n",
        "  disp1.plot()\n",
        "  plt.show()\n",
        "\n",
        "  print(\"Test Data: \\n\\n\")\n",
        "  print(\"Accuracy:\", test_score, \"\\n\")\n",
        "  print(\"AUC_ROC Score:\", auc_test_score, \"\\n\")\n",
        "  print(\"Confusion Matrix Train\")\n",
        "  cm2  = confusion_matrix(Y_test, clf.predict(X_test), labels=clf.classes_)\n",
        "  disp2 = ConfusionMatrixDisplay(confusion_matrix=cm2,\n",
        "                           display_labels=clf.classes_)\n",
        "  disp2.plot()\n",
        "  plt.show()"
      ],
      "metadata": {
        "id": "hJRrSI9GrB0w"
      },
      "execution_count": 54,
      "outputs": []
    },
    {
      "cell_type": "markdown",
      "source": [
        "####Logistic Regression Confusion Matrix"
      ],
      "metadata": {
        "id": "brsXs6JUNsi1"
      }
    },
    {
      "cell_type": "code",
      "source": [
        "represent_best(X_train, Y_train, X_test, Y_test, clf_logistic, train_score_logistic, auc_train_score_logistic, test_score_logistic, auc_test_score_logistic)"
      ],
      "metadata": {
        "colab": {
          "base_uri": "https://localhost:8080/",
          "height": 836
        },
        "outputId": "fb13ff5d-5e53-452b-86e7-9956128b6613",
        "id": "ny3A0SO9rB0y"
      },
      "execution_count": 55,
      "outputs": [
        {
          "output_type": "stream",
          "name": "stdout",
          "text": [
            "Train Data: \n",
            "\n",
            "\n",
            "Accuracy: 1.0 \n",
            "\n",
            "AUC_ROC Score: 1.0 \n",
            "\n",
            "Confusion Matrix Train\n",
            "\n"
          ]
        },
        {
          "output_type": "display_data",
          "data": {
            "image/png": "[encoded data removed]",
            "text/plain": [
              "<Figure size 432x288 with 2 Axes>"
            ]
          },
          "metadata": {
            "needs_background": "light"
          }
        },
        {
          "output_type": "stream",
          "name": "stdout",
          "text": [
            "Test Data: \n",
            "\n",
            "\n",
            "Accuracy: 1.0 \n",
            "\n",
            "AUC_ROC Score: 1.0 \n",
            "\n",
            "Confusion Matrix Train\n"
          ]
        },
        {
          "output_type": "display_data",
          "data": {
            "image/png": "[encoded data removed]",
            "text/plain": [
              "<Figure size 432x288 with 2 Axes>"
            ]
          },
          "metadata": {
            "needs_background": "light"
          }
        }
      ]
    },
    {
      "cell_type": "markdown",
      "source": [
        "####SVM Confusion Matrix"
      ],
      "metadata": {
        "id": "ftZQF_rPNz37"
      }
    },
    {
      "cell_type": "code",
      "source": [
        "represent_best(X_train, Y_train, X_test, Y_test, clf_svm, train_score_svm, auc_train_score_svm, test_score_svm, auc_test_score_svm)"
      ],
      "metadata": {
        "colab": {
          "base_uri": "https://localhost:8080/",
          "height": 838
        },
        "id": "4Hn-S3G6OVWB",
        "outputId": "b0157162-a5c9-4a98-c61e-d2c4343e5593"
      },
      "execution_count": 56,
      "outputs": [
        {
          "output_type": "stream",
          "name": "stdout",
          "text": [
            "Train Data: \n",
            "\n",
            "\n",
            "Accuracy: 1.0 \n",
            "\n",
            "AUC_ROC Score: 1.0 \n",
            "\n",
            "Confusion Matrix Train\n",
            "\n"
          ]
        },
        {
          "output_type": "display_data",
          "data": {
            "image/png": "[encoded data removed]",
            "text/plain": [
              "<Figure size 432x288 with 2 Axes>"
            ]
          },
          "metadata": {
            "needs_background": "light"
          }
        },
        {
          "output_type": "stream",
          "name": "stdout",
          "text": [
            "Test Data: \n",
            "\n",
            "\n",
            "Accuracy: 0.9854280510018215 \n",
            "\n",
            "AUC_ROC Score: 0.9556339478834073 \n",
            "\n",
            "Confusion Matrix Train\n"
          ]
        },
        {
          "output_type": "display_data",
          "data": {
            "image/png": "[encoded data removed]",
            "text/plain": [
              "<Figure size 432x288 with 2 Axes>"
            ]
          },
          "metadata": {
            "needs_background": "light"
          }
        }
      ]
    },
    {
      "cell_type": "markdown",
      "source": [
        "####Gradient Boost Confusion Matrix"
      ],
      "metadata": {
        "id": "SmA8AeNFN4Kg"
      }
    },
    {
      "cell_type": "code",
      "source": [
        "represent_best(X_train, Y_train, X_test, Y_test, clf_grd_boost, train_score_grd_boost, auc_train_score_grd_boost, test_score_grd_boost, auc_test_score_grd_boost)"
      ],
      "metadata": {
        "colab": {
          "base_uri": "https://localhost:8080/",
          "height": 836
        },
        "id": "ZjoNI4PAOWHj",
        "outputId": "787ab124-a02b-4908-9dc2-62966ce78ca7"
      },
      "execution_count": 57,
      "outputs": [
        {
          "output_type": "stream",
          "name": "stdout",
          "text": [
            "Train Data: \n",
            "\n",
            "\n",
            "Accuracy: 1.0 \n",
            "\n",
            "AUC_ROC Score: 1.0 \n",
            "\n",
            "Confusion Matrix Train\n",
            "\n"
          ]
        },
        {
          "output_type": "display_data",
          "data": {
            "image/png": "[encoded data removed]",
            "text/plain": [
              "<Figure size 432x288 with 2 Axes>"
            ]
          },
          "metadata": {
            "needs_background": "light"
          }
        },
        {
          "output_type": "stream",
          "name": "stdout",
          "text": [
            "Test Data: \n",
            "\n",
            "\n",
            "Accuracy: 1.0 \n",
            "\n",
            "AUC_ROC Score: 1.0 \n",
            "\n",
            "Confusion Matrix Train\n"
          ]
        },
        {
          "output_type": "display_data",
          "data": {
            "image/png": "[encoded data removed]",
            "text/plain": [
              "<Figure size 432x288 with 2 Axes>"
            ]
          },
          "metadata": {
            "needs_background": "light"
          }
        }
      ]
    },
    {
      "cell_type": "markdown",
      "source": [
        "####Random Forest Confusion Matrix"
      ],
      "metadata": {
        "id": "bRXedUbtN4N6"
      }
    },
    {
      "cell_type": "code",
      "source": [
        "represent_best(X_train, Y_train, X_test, Y_test, clf_random_forest, train_score_random_forest, auc_train_score_random_forest, test_score_random_forest, auc_test_score_random_forest)"
      ],
      "metadata": {
        "colab": {
          "base_uri": "https://localhost:8080/",
          "height": 836
        },
        "id": "B8KZacTyOXxl",
        "outputId": "81732cc6-8275-4af6-93d9-9449eec17630"
      },
      "execution_count": 58,
      "outputs": [
        {
          "output_type": "stream",
          "name": "stdout",
          "text": [
            "Train Data: \n",
            "\n",
            "\n",
            "Accuracy: 1.0 \n",
            "\n",
            "AUC_ROC Score: 1.0 \n",
            "\n",
            "Confusion Matrix Train\n",
            "\n"
          ]
        },
        {
          "output_type": "display_data",
          "data": {
            "image/png": "[encoded data removed]",
            "text/plain": [
              "<Figure size 432x288 with 2 Axes>"
            ]
          },
          "metadata": {
            "needs_background": "light"
          }
        },
        {
          "output_type": "stream",
          "name": "stdout",
          "text": [
            "Test Data: \n",
            "\n",
            "\n",
            "Accuracy: 1.0 \n",
            "\n",
            "AUC_ROC Score: 1.0 \n",
            "\n",
            "Confusion Matrix Train\n"
          ]
        },
        {
          "output_type": "display_data",
          "data": {
            "image/png": "[encoded data removed]",
            "text/plain": [
              "<Figure size 432x288 with 2 Axes>"
            ]
          },
          "metadata": {
            "needs_background": "light"
          }
        }
      ]
    },
    {
      "cell_type": "markdown",
      "source": [
        "####MLP Confusion Matrix"
      ],
      "metadata": {
        "id": "_XpHz5mBN4HQ"
      }
    },
    {
      "cell_type": "code",
      "source": [
        "represent_best(X_train, Y_train, X_test, Y_test, clf_MLP, train_score_MLP, auc_train_score_MLP, test_score_MLP, auc_test_score_MLP)"
      ],
      "metadata": {
        "colab": {
          "base_uri": "https://localhost:8080/",
          "height": 836
        },
        "id": "mUmsZLPkN3oF",
        "outputId": "0b9b01e8-de78-4e97-8c20-ab9cb1b5c594"
      },
      "execution_count": 59,
      "outputs": [
        {
          "output_type": "stream",
          "name": "stdout",
          "text": [
            "Train Data: \n",
            "\n",
            "\n",
            "Accuracy: 0.9796557120500783 \n",
            "\n",
            "AUC_ROC Score: 0.9129880381322485 \n",
            "\n",
            "Confusion Matrix Train\n",
            "\n"
          ]
        },
        {
          "output_type": "display_data",
          "data": {
            "image/png": "[encoded data removed]",
            "text/plain": [
              "<Figure size 432x288 with 2 Axes>"
            ]
          },
          "metadata": {
            "needs_background": "light"
          }
        },
        {
          "output_type": "stream",
          "name": "stdout",
          "text": [
            "Test Data: \n",
            "\n",
            "\n",
            "Accuracy: 0.9908925318761385 \n",
            "\n",
            "AUC_ROC Score: 0.9463899474714184 \n",
            "\n",
            "Confusion Matrix Train\n"
          ]
        },
        {
          "output_type": "display_data",
          "data": {
            "image/png": "[encoded data removed]",
            "text/plain": [
              "<Figure size 432x288 with 2 Axes>"
            ]
          },
          "metadata": {
            "needs_background": "light"
          }
        }
      ]
    }
  ]
}