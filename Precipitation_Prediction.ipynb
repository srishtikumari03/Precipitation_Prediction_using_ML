{
  "nbformat": 4,
  "nbformat_minor": 0,
  "metadata": {
    "colab": {
      "name": "Precipitation_Prediction.ipynb",
      "provenance": [],
      "collapsed_sections": [
        "j7ToNvKvElQz",
        "_E9KCCG_ERZ-",
        "2CxHjdFERpOS",
        "2WsIvEU7RVIj",
        "j115k0EUp8Wu",
        "eAW1eZzGp8Wz",
        "dwG1jdXOp8W4",
        "17CrMXshp8XA",
        "f7AwPHrxp8XB",
        "xJ2LUNpBqgwO",
        "Q-sBSlqQquQP",
        "n40QBBk6qZsz",
        "8G-HsECtq1qO"
      ]
    },
    "kernelspec": {
      "name": "python3",
      "display_name": "Python 3"
    },
    "language_info": {
      "name": "python"
    }
  },
  "cells": [
    {
      "cell_type": "markdown",
      "source": [
        "#Import Libraries\n",
        "\n"
      ],
      "metadata": {
        "id": "j7ToNvKvElQz"
      }
    },
    {
      "cell_type": "code",
      "source": [
        "import pandas as pd\n",
        "import numpy as np\n",
        "import matplotlib.pyplot as plt\n",
        "import seaborn as sns\n",
        "import datetime as dt\n",
        "from sklearn.metrics import roc_auc_score\n",
        "from sklearn.preprocessing import MinMaxScaler\n",
        "scaler = MinMaxScaler()"
      ],
      "metadata": {
        "id": "I49iB4krErFP"
      },
      "execution_count": 1,
      "outputs": []
    },
    {
      "cell_type": "markdown",
      "source": [
        "#Data Importing and Exploration"
      ],
      "metadata": {
        "id": "_E9KCCG_ERZ-"
      }
    },
    {
      "cell_type": "markdown",
      "source": [
        "### Pre-Processing Data"
      ],
      "metadata": {
        "id": "2CxHjdFERpOS"
      }
    },
    {
      "cell_type": "code",
      "source": [
        "df = pd.read_csv('dataset.csv')\n",
        "df.head()"
      ],
      "metadata": {
        "colab": {
          "base_uri": "https://localhost:8080/",
          "height": 531
        },
        "id": "fSnl1HbKgTam",
        "outputId": "90c109ae-432e-43b3-e6e3-a364305b3168"
      },
      "execution_count": 2,
      "outputs": [
        {
          "output_type": "execute_result",
          "data": {
            "text/html": [
              "\n",
              "  <div id=\"df-341ac881-4b1a-4e77-885a-c68cb176cb5e\">\n",
              "    <div class=\"colab-df-container\">\n",
              "      <div>\n",
              "<style scoped>\n",
              "    .dataframe tbody tr th:only-of-type {\n",
              "        vertical-align: middle;\n",
              "    }\n",
              "\n",
              "    .dataframe tbody tr th {\n",
              "        vertical-align: top;\n",
              "    }\n",
              "\n",
              "    .dataframe thead th {\n",
              "        text-align: right;\n",
              "    }\n",
              "</style>\n",
              "<table border=\"1\" class=\"dataframe\">\n",
              "  <thead>\n",
              "    <tr style=\"text-align: right;\">\n",
              "      <th></th>\n",
              "      <th>STATION</th>\n",
              "      <th>NAME</th>\n",
              "      <th>DATE</th>\n",
              "      <th>AWND</th>\n",
              "      <th>PGTM</th>\n",
              "      <th>PRCP</th>\n",
              "      <th>TAVG</th>\n",
              "      <th>TMAX</th>\n",
              "      <th>TMIN</th>\n",
              "      <th>WDF2</th>\n",
              "      <th>WDF5</th>\n",
              "      <th>WSF2</th>\n",
              "      <th>WSF5</th>\n",
              "      <th>WT01</th>\n",
              "      <th>WT02</th>\n",
              "      <th>WT08</th>\n",
              "    </tr>\n",
              "  </thead>\n",
              "  <tbody>\n",
              "    <tr>\n",
              "      <th>0</th>\n",
              "      <td>USW00093134</td>\n",
              "      <td>LOS ANGELES DOWNTOWN USC, CA US</td>\n",
              "      <td>2016-01-01</td>\n",
              "      <td>2.46</td>\n",
              "      <td>NaN</td>\n",
              "      <td>0.00</td>\n",
              "      <td>NaN</td>\n",
              "      <td>64</td>\n",
              "      <td>43</td>\n",
              "      <td>10.0</td>\n",
              "      <td>30.0</td>\n",
              "      <td>8.1</td>\n",
              "      <td>11.0</td>\n",
              "      <td>NaN</td>\n",
              "      <td>NaN</td>\n",
              "      <td>1.0</td>\n",
              "    </tr>\n",
              "    <tr>\n",
              "      <th>1</th>\n",
              "      <td>USW00093134</td>\n",
              "      <td>LOS ANGELES DOWNTOWN USC, CA US</td>\n",
              "      <td>2016-01-02</td>\n",
              "      <td>2.01</td>\n",
              "      <td>NaN</td>\n",
              "      <td>0.00</td>\n",
              "      <td>NaN</td>\n",
              "      <td>65</td>\n",
              "      <td>47</td>\n",
              "      <td>270.0</td>\n",
              "      <td>30.0</td>\n",
              "      <td>6.0</td>\n",
              "      <td>8.9</td>\n",
              "      <td>NaN</td>\n",
              "      <td>NaN</td>\n",
              "      <td>NaN</td>\n",
              "    </tr>\n",
              "    <tr>\n",
              "      <th>2</th>\n",
              "      <td>USW00093134</td>\n",
              "      <td>LOS ANGELES DOWNTOWN USC, CA US</td>\n",
              "      <td>2016-01-03</td>\n",
              "      <td>0.67</td>\n",
              "      <td>NaN</td>\n",
              "      <td>0.00</td>\n",
              "      <td>NaN</td>\n",
              "      <td>62</td>\n",
              "      <td>44</td>\n",
              "      <td>150.0</td>\n",
              "      <td>150.0</td>\n",
              "      <td>10.1</td>\n",
              "      <td>14.1</td>\n",
              "      <td>NaN</td>\n",
              "      <td>NaN</td>\n",
              "      <td>NaN</td>\n",
              "    </tr>\n",
              "    <tr>\n",
              "      <th>3</th>\n",
              "      <td>USW00093134</td>\n",
              "      <td>LOS ANGELES DOWNTOWN USC, CA US</td>\n",
              "      <td>2016-01-04</td>\n",
              "      <td>1.34</td>\n",
              "      <td>NaN</td>\n",
              "      <td>0.01</td>\n",
              "      <td>NaN</td>\n",
              "      <td>69</td>\n",
              "      <td>55</td>\n",
              "      <td>270.0</td>\n",
              "      <td>280.0</td>\n",
              "      <td>8.1</td>\n",
              "      <td>14.1</td>\n",
              "      <td>NaN</td>\n",
              "      <td>NaN</td>\n",
              "      <td>NaN</td>\n",
              "    </tr>\n",
              "    <tr>\n",
              "      <th>4</th>\n",
              "      <td>USW00093134</td>\n",
              "      <td>LOS ANGELES DOWNTOWN USC, CA US</td>\n",
              "      <td>2016-01-05</td>\n",
              "      <td>2.46</td>\n",
              "      <td>NaN</td>\n",
              "      <td>1.61</td>\n",
              "      <td>NaN</td>\n",
              "      <td>59</td>\n",
              "      <td>49</td>\n",
              "      <td>140.0</td>\n",
              "      <td>140.0</td>\n",
              "      <td>10.1</td>\n",
              "      <td>16.1</td>\n",
              "      <td>1.0</td>\n",
              "      <td>1.0</td>\n",
              "      <td>NaN</td>\n",
              "    </tr>\n",
              "  </tbody>\n",
              "</table>\n",
              "</div>\n",
              "      <button class=\"colab-df-convert\" onclick=\"convertToInteractive('df-341ac881-4b1a-4e77-885a-c68cb176cb5e')\"\n",
              "              title=\"Convert this dataframe to an interactive table.\"\n",
              "              style=\"display:none;\">\n",
              "        \n",
              "  <svg xmlns=\"http://www.w3.org/2000/svg\" height=\"24px\"viewBox=\"0 0 24 24\"\n",
              "       width=\"24px\">\n",
              "    <path d=\"M0 0h24v24H0V0z\" fill=\"none\"/>\n",
              "    <path d=\"M18.56 5.44l.94 2.06.94-2.06 2.06-.94-2.06-.94-.94-2.06-.94 2.06-2.06.94zm-11 1L8.5 8.5l.94-2.06 2.06-.94-2.06-.94L8.5 2.5l-.94 2.06-2.06.94zm10 10l.94 2.06.94-2.06 2.06-.94-2.06-.94-.94-2.06-.94 2.06-2.06.94z\"/><path d=\"M17.41 7.96l-1.37-1.37c-.4-.4-.92-.59-1.43-.59-.52 0-1.04.2-1.43.59L10.3 9.45l-7.72 7.72c-.78.78-.78 2.05 0 2.83L4 21.41c.39.39.9.59 1.41.59.51 0 1.02-.2 1.41-.59l7.78-7.78 2.81-2.81c.8-.78.8-2.07 0-2.86zM5.41 20L4 18.59l7.72-7.72 1.47 1.35L5.41 20z\"/>\n",
              "  </svg>\n",
              "      </button>\n",
              "      \n",
              "  <style>\n",
              "    .colab-df-container {\n",
              "      display:flex;\n",
              "      flex-wrap:wrap;\n",
              "      gap: 12px;\n",
              "    }\n",
              "\n",
              "    .colab-df-convert {\n",
              "      background-color: #E8F0FE;\n",
              "      border: none;\n",
              "      border-radius: 50%;\n",
              "      cursor: pointer;\n",
              "      display: none;\n",
              "      fill: #1967D2;\n",
              "      height: 32px;\n",
              "      padding: 0 0 0 0;\n",
              "      width: 32px;\n",
              "    }\n",
              "\n",
              "    .colab-df-convert:hover {\n",
              "      background-color: #E2EBFA;\n",
              "      box-shadow: 0px 1px 2px rgba(60, 64, 67, 0.3), 0px 1px 3px 1px rgba(60, 64, 67, 0.15);\n",
              "      fill: #174EA6;\n",
              "    }\n",
              "\n",
              "    [theme=dark] .colab-df-convert {\n",
              "      background-color: #3B4455;\n",
              "      fill: #D2E3FC;\n",
              "    }\n",
              "\n",
              "    [theme=dark] .colab-df-convert:hover {\n",
              "      background-color: #434B5C;\n",
              "      box-shadow: 0px 1px 3px 1px rgba(0, 0, 0, 0.15);\n",
              "      filter: drop-shadow(0px 1px 2px rgba(0, 0, 0, 0.3));\n",
              "      fill: #FFFFFF;\n",
              "    }\n",
              "  </style>\n",
              "\n",
              "      <script>\n",
              "        const buttonEl =\n",
              "          document.querySelector('#df-341ac881-4b1a-4e77-885a-c68cb176cb5e button.colab-df-convert');\n",
              "        buttonEl.style.display =\n",
              "          google.colab.kernel.accessAllowed ? 'block' : 'none';\n",
              "\n",
              "        async function convertToInteractive(key) {\n",
              "          const element = document.querySelector('#df-341ac881-4b1a-4e77-885a-c68cb176cb5e');\n",
              "          const dataTable =\n",
              "            await google.colab.kernel.invokeFunction('convertToInteractive',\n",
              "                                                     [key], {});\n",
              "          if (!dataTable) return;\n",
              "\n",
              "          const docLinkHtml = 'Like what you see? Visit the ' +\n",
              "            '<a target=\"_blank\" href=https://colab.research.google.com/notebooks/data_table.ipynb>data table notebook</a>'\n",
              "            + ' to learn more about interactive tables.';\n",
              "          element.innerHTML = '';\n",
              "          dataTable['output_type'] = 'display_data';\n",
              "          await google.colab.output.renderOutput(dataTable, element);\n",
              "          const docLink = document.createElement('div');\n",
              "          docLink.innerHTML = docLinkHtml;\n",
              "          element.appendChild(docLink);\n",
              "        }\n",
              "      </script>\n",
              "    </div>\n",
              "  </div>\n",
              "  "
            ],
            "text/plain": [
              "       STATION                             NAME        DATE  ...  WT01  WT02  WT08\n",
              "0  USW00093134  LOS ANGELES DOWNTOWN USC, CA US  2016-01-01  ...   NaN   NaN   1.0\n",
              "1  USW00093134  LOS ANGELES DOWNTOWN USC, CA US  2016-01-02  ...   NaN   NaN   NaN\n",
              "2  USW00093134  LOS ANGELES DOWNTOWN USC, CA US  2016-01-03  ...   NaN   NaN   NaN\n",
              "3  USW00093134  LOS ANGELES DOWNTOWN USC, CA US  2016-01-04  ...   NaN   NaN   NaN\n",
              "4  USW00093134  LOS ANGELES DOWNTOWN USC, CA US  2016-01-05  ...   1.0   1.0   NaN\n",
              "\n",
              "[5 rows x 16 columns]"
            ]
          },
          "metadata": {},
          "execution_count": 2
        }
      ]
    },
    {
      "cell_type": "code",
      "source": [
        "df['DATE'].min()"
      ],
      "metadata": {
        "colab": {
          "base_uri": "https://localhost:8080/",
          "height": 35
        },
        "id": "DxTiE97cj_ip",
        "outputId": "f8ef7cbc-fa8c-43a6-9a75-7ae6c0591650"
      },
      "execution_count": 3,
      "outputs": [
        {
          "output_type": "execute_result",
          "data": {
            "application/vnd.google.colaboratory.intrinsic+json": {
              "type": "string"
            },
            "text/plain": [
              "'2016-01-01'"
            ]
          },
          "metadata": {},
          "execution_count": 3
        }
      ]
    },
    {
      "cell_type": "code",
      "source": [
        "print(\"Total:\", df.shape[0])\n",
        "#Number of nan values in each column\n",
        "for i in df.columns:\n",
        "  print( i, sum( ( ( (df[i] != df[i]).astype(int) ) ) ) )"
      ],
      "metadata": {
        "colab": {
          "base_uri": "https://localhost:8080/"
        },
        "id": "tjex5UKVM2wI",
        "outputId": "548b6777-e222-4566-8dbe-00aa9791a451"
      },
      "execution_count": 4,
      "outputs": [
        {
          "output_type": "stream",
          "name": "stdout",
          "text": [
            "Total: 1827\n",
            "STATION 0\n",
            "NAME 0\n",
            "DATE 0\n",
            "AWND 4\n",
            "PGTM 1765\n",
            "PRCP 0\n",
            "TAVG 1827\n",
            "TMAX 0\n",
            "TMIN 0\n",
            "WDF2 5\n",
            "WDF5 18\n",
            "WSF2 4\n",
            "WSF5 18\n",
            "WT01 1276\n",
            "WT02 1788\n",
            "WT08 966\n"
          ]
        }
      ]
    },
    {
      "cell_type": "code",
      "source": [
        "def pre_processing_train(df):\n",
        "  Y = (df['PRCP'] > 0).astype(int)\n",
        "  df = df.drop(['PGTM', 'TAVG', 'WT01', 'WT02', 'NAME', 'STATION', 'PRCP'], axis = 1)\n",
        "  df['DATE'] = df['DATE'].apply(pd.to_datetime)\n",
        "  df['DATE'] = (df['DATE'] - pd.to_datetime('2016-01-01 00:00:00')).dt.total_seconds()\n",
        "  df[df.columns] = scaler.fit_transform(df[df.columns])\n",
        "  df = df.fillna(2)\n",
        "  X = df\n",
        "\n",
        "  return X, Y"
      ],
      "metadata": {
        "id": "pSqF9IDVVlXy"
      },
      "execution_count": 5,
      "outputs": []
    },
    {
      "cell_type": "code",
      "source": [
        "X, Y = pre_processing_train(df)\n",
        "X.head()"
      ],
      "metadata": {
        "colab": {
          "base_uri": "https://localhost:8080/",
          "height": 206
        },
        "id": "VR9W0wnmklEv",
        "outputId": "c6080b73-30b8-4229-f750-44870328f2cf"
      },
      "execution_count": 6,
      "outputs": [
        {
          "output_type": "execute_result",
          "data": {
            "text/html": [
              "\n",
              "  <div id=\"df-c5d591e4-2e9c-420b-8fda-d7c4f271c970\">\n",
              "    <div class=\"colab-df-container\">\n",
              "      <div>\n",
              "<style scoped>\n",
              "    .dataframe tbody tr th:only-of-type {\n",
              "        vertical-align: middle;\n",
              "    }\n",
              "\n",
              "    .dataframe tbody tr th {\n",
              "        vertical-align: top;\n",
              "    }\n",
              "\n",
              "    .dataframe thead th {\n",
              "        text-align: right;\n",
              "    }\n",
              "</style>\n",
              "<table border=\"1\" class=\"dataframe\">\n",
              "  <thead>\n",
              "    <tr style=\"text-align: right;\">\n",
              "      <th></th>\n",
              "      <th>DATE</th>\n",
              "      <th>AWND</th>\n",
              "      <th>TMAX</th>\n",
              "      <th>TMIN</th>\n",
              "      <th>WDF2</th>\n",
              "      <th>WDF5</th>\n",
              "      <th>WSF2</th>\n",
              "      <th>WSF5</th>\n",
              "      <th>WT08</th>\n",
              "    </tr>\n",
              "  </thead>\n",
              "  <tbody>\n",
              "    <tr>\n",
              "      <th>0</th>\n",
              "      <td>0.000000</td>\n",
              "      <td>0.305590</td>\n",
              "      <td>0.203390</td>\n",
              "      <td>0.121951</td>\n",
              "      <td>0.000000</td>\n",
              "      <td>0.057143</td>\n",
              "      <td>0.287293</td>\n",
              "      <td>0.178571</td>\n",
              "      <td>0.0</td>\n",
              "    </tr>\n",
              "    <tr>\n",
              "      <th>1</th>\n",
              "      <td>0.000548</td>\n",
              "      <td>0.249689</td>\n",
              "      <td>0.220339</td>\n",
              "      <td>0.219512</td>\n",
              "      <td>0.742857</td>\n",
              "      <td>0.057143</td>\n",
              "      <td>0.171271</td>\n",
              "      <td>0.103571</td>\n",
              "      <td>2.0</td>\n",
              "    </tr>\n",
              "    <tr>\n",
              "      <th>2</th>\n",
              "      <td>0.001095</td>\n",
              "      <td>0.083230</td>\n",
              "      <td>0.169492</td>\n",
              "      <td>0.146341</td>\n",
              "      <td>0.400000</td>\n",
              "      <td>0.400000</td>\n",
              "      <td>0.397790</td>\n",
              "      <td>0.289286</td>\n",
              "      <td>2.0</td>\n",
              "    </tr>\n",
              "    <tr>\n",
              "      <th>3</th>\n",
              "      <td>0.001643</td>\n",
              "      <td>0.166460</td>\n",
              "      <td>0.288136</td>\n",
              "      <td>0.414634</td>\n",
              "      <td>0.742857</td>\n",
              "      <td>0.771429</td>\n",
              "      <td>0.287293</td>\n",
              "      <td>0.289286</td>\n",
              "      <td>2.0</td>\n",
              "    </tr>\n",
              "    <tr>\n",
              "      <th>4</th>\n",
              "      <td>0.002191</td>\n",
              "      <td>0.305590</td>\n",
              "      <td>0.118644</td>\n",
              "      <td>0.268293</td>\n",
              "      <td>0.371429</td>\n",
              "      <td>0.371429</td>\n",
              "      <td>0.397790</td>\n",
              "      <td>0.360714</td>\n",
              "      <td>2.0</td>\n",
              "    </tr>\n",
              "  </tbody>\n",
              "</table>\n",
              "</div>\n",
              "      <button class=\"colab-df-convert\" onclick=\"convertToInteractive('df-c5d591e4-2e9c-420b-8fda-d7c4f271c970')\"\n",
              "              title=\"Convert this dataframe to an interactive table.\"\n",
              "              style=\"display:none;\">\n",
              "        \n",
              "  <svg xmlns=\"http://www.w3.org/2000/svg\" height=\"24px\"viewBox=\"0 0 24 24\"\n",
              "       width=\"24px\">\n",
              "    <path d=\"M0 0h24v24H0V0z\" fill=\"none\"/>\n",
              "    <path d=\"M18.56 5.44l.94 2.06.94-2.06 2.06-.94-2.06-.94-.94-2.06-.94 2.06-2.06.94zm-11 1L8.5 8.5l.94-2.06 2.06-.94-2.06-.94L8.5 2.5l-.94 2.06-2.06.94zm10 10l.94 2.06.94-2.06 2.06-.94-2.06-.94-.94-2.06-.94 2.06-2.06.94z\"/><path d=\"M17.41 7.96l-1.37-1.37c-.4-.4-.92-.59-1.43-.59-.52 0-1.04.2-1.43.59L10.3 9.45l-7.72 7.72c-.78.78-.78 2.05 0 2.83L4 21.41c.39.39.9.59 1.41.59.51 0 1.02-.2 1.41-.59l7.78-7.78 2.81-2.81c.8-.78.8-2.07 0-2.86zM5.41 20L4 18.59l7.72-7.72 1.47 1.35L5.41 20z\"/>\n",
              "  </svg>\n",
              "      </button>\n",
              "      \n",
              "  <style>\n",
              "    .colab-df-container {\n",
              "      display:flex;\n",
              "      flex-wrap:wrap;\n",
              "      gap: 12px;\n",
              "    }\n",
              "\n",
              "    .colab-df-convert {\n",
              "      background-color: #E8F0FE;\n",
              "      border: none;\n",
              "      border-radius: 50%;\n",
              "      cursor: pointer;\n",
              "      display: none;\n",
              "      fill: #1967D2;\n",
              "      height: 32px;\n",
              "      padding: 0 0 0 0;\n",
              "      width: 32px;\n",
              "    }\n",
              "\n",
              "    .colab-df-convert:hover {\n",
              "      background-color: #E2EBFA;\n",
              "      box-shadow: 0px 1px 2px rgba(60, 64, 67, 0.3), 0px 1px 3px 1px rgba(60, 64, 67, 0.15);\n",
              "      fill: #174EA6;\n",
              "    }\n",
              "\n",
              "    [theme=dark] .colab-df-convert {\n",
              "      background-color: #3B4455;\n",
              "      fill: #D2E3FC;\n",
              "    }\n",
              "\n",
              "    [theme=dark] .colab-df-convert:hover {\n",
              "      background-color: #434B5C;\n",
              "      box-shadow: 0px 1px 3px 1px rgba(0, 0, 0, 0.15);\n",
              "      filter: drop-shadow(0px 1px 2px rgba(0, 0, 0, 0.3));\n",
              "      fill: #FFFFFF;\n",
              "    }\n",
              "  </style>\n",
              "\n",
              "      <script>\n",
              "        const buttonEl =\n",
              "          document.querySelector('#df-c5d591e4-2e9c-420b-8fda-d7c4f271c970 button.colab-df-convert');\n",
              "        buttonEl.style.display =\n",
              "          google.colab.kernel.accessAllowed ? 'block' : 'none';\n",
              "\n",
              "        async function convertToInteractive(key) {\n",
              "          const element = document.querySelector('#df-c5d591e4-2e9c-420b-8fda-d7c4f271c970');\n",
              "          const dataTable =\n",
              "            await google.colab.kernel.invokeFunction('convertToInteractive',\n",
              "                                                     [key], {});\n",
              "          if (!dataTable) return;\n",
              "\n",
              "          const docLinkHtml = 'Like what you see? Visit the ' +\n",
              "            '<a target=\"_blank\" href=https://colab.research.google.com/notebooks/data_table.ipynb>data table notebook</a>'\n",
              "            + ' to learn more about interactive tables.';\n",
              "          element.innerHTML = '';\n",
              "          dataTable['output_type'] = 'display_data';\n",
              "          await google.colab.output.renderOutput(dataTable, element);\n",
              "          const docLink = document.createElement('div');\n",
              "          docLink.innerHTML = docLinkHtml;\n",
              "          element.appendChild(docLink);\n",
              "        }\n",
              "      </script>\n",
              "    </div>\n",
              "  </div>\n",
              "  "
            ],
            "text/plain": [
              "       DATE      AWND      TMAX      TMIN  ...      WDF5      WSF2      WSF5  WT08\n",
              "0  0.000000  0.305590  0.203390  0.121951  ...  0.057143  0.287293  0.178571   0.0\n",
              "1  0.000548  0.249689  0.220339  0.219512  ...  0.057143  0.171271  0.103571   2.0\n",
              "2  0.001095  0.083230  0.169492  0.146341  ...  0.400000  0.397790  0.289286   2.0\n",
              "3  0.001643  0.166460  0.288136  0.414634  ...  0.771429  0.287293  0.289286   2.0\n",
              "4  0.002191  0.305590  0.118644  0.268293  ...  0.371429  0.397790  0.360714   2.0\n",
              "\n",
              "[5 rows x 9 columns]"
            ]
          },
          "metadata": {},
          "execution_count": 6
        }
      ]
    },
    {
      "cell_type": "code",
      "source": [
        "Y.head()"
      ],
      "metadata": {
        "colab": {
          "base_uri": "https://localhost:8080/"
        },
        "id": "3ic5fmazPDIa",
        "outputId": "76477c55-3335-42fd-864c-f8189597604c"
      },
      "execution_count": 7,
      "outputs": [
        {
          "output_type": "execute_result",
          "data": {
            "text/plain": [
              "0    0\n",
              "1    0\n",
              "2    0\n",
              "3    1\n",
              "4    1\n",
              "Name: PRCP, dtype: int64"
            ]
          },
          "metadata": {},
          "execution_count": 7
        }
      ]
    },
    {
      "cell_type": "markdown",
      "source": [
        "### Train_Test Split"
      ],
      "metadata": {
        "id": "2WsIvEU7RVIj"
      }
    },
    {
      "cell_type": "code",
      "source": [
        "from sklearn.model_selection import train_test_split\n",
        "X_train, X_test, Y_train, Y_test = train_test_split(X, Y, train_size=0.7, test_size=0.3)\n",
        "X_train.head()"
      ],
      "metadata": {
        "colab": {
          "base_uri": "https://localhost:8080/",
          "height": 206
        },
        "id": "rsiVOmzkRU6B",
        "outputId": "6f2fb6d8-f631-43bc-afbc-96a84546978c"
      },
      "execution_count": 8,
      "outputs": [
        {
          "output_type": "execute_result",
          "data": {
            "text/html": [
              "\n",
              "  <div id=\"df-86a6cfe8-cfef-49da-9a13-4e328ae70364\">\n",
              "    <div class=\"colab-df-container\">\n",
              "      <div>\n",
              "<style scoped>\n",
              "    .dataframe tbody tr th:only-of-type {\n",
              "        vertical-align: middle;\n",
              "    }\n",
              "\n",
              "    .dataframe tbody tr th {\n",
              "        vertical-align: top;\n",
              "    }\n",
              "\n",
              "    .dataframe thead th {\n",
              "        text-align: right;\n",
              "    }\n",
              "</style>\n",
              "<table border=\"1\" class=\"dataframe\">\n",
              "  <thead>\n",
              "    <tr style=\"text-align: right;\">\n",
              "      <th></th>\n",
              "      <th>DATE</th>\n",
              "      <th>AWND</th>\n",
              "      <th>TMAX</th>\n",
              "      <th>TMIN</th>\n",
              "      <th>WDF2</th>\n",
              "      <th>WDF5</th>\n",
              "      <th>WSF2</th>\n",
              "      <th>WSF5</th>\n",
              "      <th>WT08</th>\n",
              "    </tr>\n",
              "  </thead>\n",
              "  <tbody>\n",
              "    <tr>\n",
              "      <th>1028</th>\n",
              "      <td>0.562979</td>\n",
              "      <td>0.166460</td>\n",
              "      <td>0.457627</td>\n",
              "      <td>0.609756</td>\n",
              "      <td>0.742857</td>\n",
              "      <td>0.771429</td>\n",
              "      <td>0.287293</td>\n",
              "      <td>0.289286</td>\n",
              "      <td>0.0</td>\n",
              "    </tr>\n",
              "    <tr>\n",
              "      <th>341</th>\n",
              "      <td>0.186747</td>\n",
              "      <td>0.110559</td>\n",
              "      <td>0.220339</td>\n",
              "      <td>0.292683</td>\n",
              "      <td>0.771429</td>\n",
              "      <td>0.742857</td>\n",
              "      <td>0.331492</td>\n",
              "      <td>0.250000</td>\n",
              "      <td>0.0</td>\n",
              "    </tr>\n",
              "    <tr>\n",
              "      <th>1383</th>\n",
              "      <td>0.757393</td>\n",
              "      <td>0.195031</td>\n",
              "      <td>0.525424</td>\n",
              "      <td>0.536585</td>\n",
              "      <td>0.742857</td>\n",
              "      <td>0.714286</td>\n",
              "      <td>0.287293</td>\n",
              "      <td>0.250000</td>\n",
              "      <td>0.0</td>\n",
              "    </tr>\n",
              "    <tr>\n",
              "      <th>1347</th>\n",
              "      <td>0.737678</td>\n",
              "      <td>0.249689</td>\n",
              "      <td>0.508475</td>\n",
              "      <td>0.682927</td>\n",
              "      <td>0.742857</td>\n",
              "      <td>0.771429</td>\n",
              "      <td>0.508287</td>\n",
              "      <td>0.464286</td>\n",
              "      <td>0.0</td>\n",
              "    </tr>\n",
              "    <tr>\n",
              "      <th>30</th>\n",
              "      <td>0.016429</td>\n",
              "      <td>0.555280</td>\n",
              "      <td>0.118644</td>\n",
              "      <td>0.292683</td>\n",
              "      <td>0.742857</td>\n",
              "      <td>0.771429</td>\n",
              "      <td>0.729282</td>\n",
              "      <td>0.928571</td>\n",
              "      <td>2.0</td>\n",
              "    </tr>\n",
              "  </tbody>\n",
              "</table>\n",
              "</div>\n",
              "      <button class=\"colab-df-convert\" onclick=\"convertToInteractive('df-86a6cfe8-cfef-49da-9a13-4e328ae70364')\"\n",
              "              title=\"Convert this dataframe to an interactive table.\"\n",
              "              style=\"display:none;\">\n",
              "        \n",
              "  <svg xmlns=\"http://www.w3.org/2000/svg\" height=\"24px\"viewBox=\"0 0 24 24\"\n",
              "       width=\"24px\">\n",
              "    <path d=\"M0 0h24v24H0V0z\" fill=\"none\"/>\n",
              "    <path d=\"M18.56 5.44l.94 2.06.94-2.06 2.06-.94-2.06-.94-.94-2.06-.94 2.06-2.06.94zm-11 1L8.5 8.5l.94-2.06 2.06-.94-2.06-.94L8.5 2.5l-.94 2.06-2.06.94zm10 10l.94 2.06.94-2.06 2.06-.94-2.06-.94-.94-2.06-.94 2.06-2.06.94z\"/><path d=\"M17.41 7.96l-1.37-1.37c-.4-.4-.92-.59-1.43-.59-.52 0-1.04.2-1.43.59L10.3 9.45l-7.72 7.72c-.78.78-.78 2.05 0 2.83L4 21.41c.39.39.9.59 1.41.59.51 0 1.02-.2 1.41-.59l7.78-7.78 2.81-2.81c.8-.78.8-2.07 0-2.86zM5.41 20L4 18.59l7.72-7.72 1.47 1.35L5.41 20z\"/>\n",
              "  </svg>\n",
              "      </button>\n",
              "      \n",
              "  <style>\n",
              "    .colab-df-container {\n",
              "      display:flex;\n",
              "      flex-wrap:wrap;\n",
              "      gap: 12px;\n",
              "    }\n",
              "\n",
              "    .colab-df-convert {\n",
              "      background-color: #E8F0FE;\n",
              "      border: none;\n",
              "      border-radius: 50%;\n",
              "      cursor: pointer;\n",
              "      display: none;\n",
              "      fill: #1967D2;\n",
              "      height: 32px;\n",
              "      padding: 0 0 0 0;\n",
              "      width: 32px;\n",
              "    }\n",
              "\n",
              "    .colab-df-convert:hover {\n",
              "      background-color: #E2EBFA;\n",
              "      box-shadow: 0px 1px 2px rgba(60, 64, 67, 0.3), 0px 1px 3px 1px rgba(60, 64, 67, 0.15);\n",
              "      fill: #174EA6;\n",
              "    }\n",
              "\n",
              "    [theme=dark] .colab-df-convert {\n",
              "      background-color: #3B4455;\n",
              "      fill: #D2E3FC;\n",
              "    }\n",
              "\n",
              "    [theme=dark] .colab-df-convert:hover {\n",
              "      background-color: #434B5C;\n",
              "      box-shadow: 0px 1px 3px 1px rgba(0, 0, 0, 0.15);\n",
              "      filter: drop-shadow(0px 1px 2px rgba(0, 0, 0, 0.3));\n",
              "      fill: #FFFFFF;\n",
              "    }\n",
              "  </style>\n",
              "\n",
              "      <script>\n",
              "        const buttonEl =\n",
              "          document.querySelector('#df-86a6cfe8-cfef-49da-9a13-4e328ae70364 button.colab-df-convert');\n",
              "        buttonEl.style.display =\n",
              "          google.colab.kernel.accessAllowed ? 'block' : 'none';\n",
              "\n",
              "        async function convertToInteractive(key) {\n",
              "          const element = document.querySelector('#df-86a6cfe8-cfef-49da-9a13-4e328ae70364');\n",
              "          const dataTable =\n",
              "            await google.colab.kernel.invokeFunction('convertToInteractive',\n",
              "                                                     [key], {});\n",
              "          if (!dataTable) return;\n",
              "\n",
              "          const docLinkHtml = 'Like what you see? Visit the ' +\n",
              "            '<a target=\"_blank\" href=https://colab.research.google.com/notebooks/data_table.ipynb>data table notebook</a>'\n",
              "            + ' to learn more about interactive tables.';\n",
              "          element.innerHTML = '';\n",
              "          dataTable['output_type'] = 'display_data';\n",
              "          await google.colab.output.renderOutput(dataTable, element);\n",
              "          const docLink = document.createElement('div');\n",
              "          docLink.innerHTML = docLinkHtml;\n",
              "          element.appendChild(docLink);\n",
              "        }\n",
              "      </script>\n",
              "    </div>\n",
              "  </div>\n",
              "  "
            ],
            "text/plain": [
              "          DATE      AWND      TMAX  ...      WSF2      WSF5  WT08\n",
              "1028  0.562979  0.166460  0.457627  ...  0.287293  0.289286   0.0\n",
              "341   0.186747  0.110559  0.220339  ...  0.331492  0.250000   0.0\n",
              "1383  0.757393  0.195031  0.525424  ...  0.287293  0.250000   0.0\n",
              "1347  0.737678  0.249689  0.508475  ...  0.508287  0.464286   0.0\n",
              "30    0.016429  0.555280  0.118644  ...  0.729282  0.928571   2.0\n",
              "\n",
              "[5 rows x 9 columns]"
            ]
          },
          "metadata": {},
          "execution_count": 8
        }
      ]
    },
    {
      "cell_type": "code",
      "source": [
        "print(X_train.shape)\n",
        "print(Y_train.shape)\n",
        "print(X_test.shape)\n",
        "print(Y_test.shape)"
      ],
      "metadata": {
        "colab": {
          "base_uri": "https://localhost:8080/"
        },
        "id": "mCn5k75XRgdY",
        "outputId": "641ba9a2-48f8-4799-ff64-955ca2e94070"
      },
      "execution_count": 9,
      "outputs": [
        {
          "output_type": "stream",
          "name": "stdout",
          "text": [
            "(1278, 9)\n",
            "(1278,)\n",
            "(549, 9)\n",
            "(549,)\n"
          ]
        }
      ]
    },
    {
      "cell_type": "markdown",
      "metadata": {
        "id": "j115k0EUp8Wu"
      },
      "source": [
        "# Logistic Regression"
      ]
    },
    {
      "cell_type": "markdown",
      "metadata": {
        "id": "BYD_Z1wWp8Ww"
      },
      "source": [
        "####Model"
      ]
    },
    {
      "cell_type": "code",
      "execution_count": 10,
      "metadata": {
        "id": "sG61dncWp8Wx"
      },
      "outputs": [],
      "source": [
        "from sklearn.linear_model import LogisticRegression\n",
        "def Logistic_reg(X_train, Y_train, X_test, Y_test, tol_val, C_val, max_iter_val):\n",
        "  clf = LogisticRegression(penalty='l2', class_weight='balanced', tol=tol_val, C=C_val, random_state=0, max_iter = max_iter_val).fit(X_train, Y_train)\n",
        "  train_score = clf.score(X_train, Y_train)\n",
        "  test_score = clf.score(X_test, Y_test)\n",
        "  auc_score1 = roc_auc_score(Y_train, clf.predict(X_train))\n",
        "  auc_score2 = roc_auc_score(Y_test, clf.predict(X_test))\n",
        "\n",
        "  return clf, train_score, test_score, auc_score1, auc_score2"
      ]
    },
    {
      "cell_type": "markdown",
      "metadata": {
        "id": "eAW1eZzGp8Wz"
      },
      "source": [
        "####Hyperparameter Tuning"
      ]
    },
    {
      "cell_type": "code",
      "execution_count": 11,
      "metadata": {
        "id": "f53oFX1wp8W1"
      },
      "outputs": [],
      "source": [
        "max_iter = [1e+4]\n",
        "tol = [1e-6, 1e-5, 1e-4, 1e-3, 1e-2, 1e-1, 1]\n",
        "C = [1, 1e+1, 1e+2, 1e+3, 1e+4, 1e+5, 1e+6]\n",
        "values = []\n",
        "for k in max_iter:\n",
        "  for i in tol:\n",
        "    for j in C:\n",
        "      clf, train_score, test_score, auc_score_train, auc_score_test = Logistic_reg(X_train, Y_train, X_test, Y_test, i, j, k)\n",
        "\n",
        "      values.append([k, i, j, train_score, test_score, auc_score_train, auc_score_test])"
      ]
    },
    {
      "cell_type": "code",
      "execution_count": 12,
      "metadata": {
        "colab": {
          "base_uri": "https://localhost:8080/",
          "height": 206
        },
        "outputId": "3d157f71-c6d3-49b0-eae5-de398f815eb4",
        "id": "cqA-q0OUp8W2"
      },
      "outputs": [
        {
          "output_type": "execute_result",
          "data": {
            "text/html": [
              "\n",
              "  <div id=\"df-8f1d31eb-bd79-4d0f-aba7-69ad80523316\">\n",
              "    <div class=\"colab-df-container\">\n",
              "      <div>\n",
              "<style scoped>\n",
              "    .dataframe tbody tr th:only-of-type {\n",
              "        vertical-align: middle;\n",
              "    }\n",
              "\n",
              "    .dataframe tbody tr th {\n",
              "        vertical-align: top;\n",
              "    }\n",
              "\n",
              "    .dataframe thead th {\n",
              "        text-align: right;\n",
              "    }\n",
              "</style>\n",
              "<table border=\"1\" class=\"dataframe\">\n",
              "  <thead>\n",
              "    <tr style=\"text-align: right;\">\n",
              "      <th></th>\n",
              "      <th>max_iter</th>\n",
              "      <th>tol</th>\n",
              "      <th>C</th>\n",
              "      <th>train_score</th>\n",
              "      <th>test_score</th>\n",
              "      <th>auc_train_score</th>\n",
              "      <th>auc_test_score</th>\n",
              "    </tr>\n",
              "  </thead>\n",
              "  <tbody>\n",
              "    <tr>\n",
              "      <th>0</th>\n",
              "      <td>10000.0</td>\n",
              "      <td>0.000001</td>\n",
              "      <td>1.0</td>\n",
              "      <td>0.861502</td>\n",
              "      <td>0.856102</td>\n",
              "      <td>0.864100</td>\n",
              "      <td>0.837710</td>\n",
              "    </tr>\n",
              "    <tr>\n",
              "      <th>1</th>\n",
              "      <td>10000.0</td>\n",
              "      <td>0.000001</td>\n",
              "      <td>10.0</td>\n",
              "      <td>0.863850</td>\n",
              "      <td>0.857923</td>\n",
              "      <td>0.873379</td>\n",
              "      <td>0.846970</td>\n",
              "    </tr>\n",
              "    <tr>\n",
              "      <th>2</th>\n",
              "      <td>10000.0</td>\n",
              "      <td>0.000001</td>\n",
              "      <td>100.0</td>\n",
              "      <td>0.863067</td>\n",
              "      <td>0.861566</td>\n",
              "      <td>0.868954</td>\n",
              "      <td>0.857239</td>\n",
              "    </tr>\n",
              "    <tr>\n",
              "      <th>3</th>\n",
              "      <td>10000.0</td>\n",
              "      <td>0.000001</td>\n",
              "      <td>1000.0</td>\n",
              "      <td>0.863850</td>\n",
              "      <td>0.863388</td>\n",
              "      <td>0.869384</td>\n",
              "      <td>0.858249</td>\n",
              "    </tr>\n",
              "    <tr>\n",
              "      <th>4</th>\n",
              "      <td>10000.0</td>\n",
              "      <td>0.000001</td>\n",
              "      <td>10000.0</td>\n",
              "      <td>0.863850</td>\n",
              "      <td>0.863388</td>\n",
              "      <td>0.869384</td>\n",
              "      <td>0.858249</td>\n",
              "    </tr>\n",
              "  </tbody>\n",
              "</table>\n",
              "</div>\n",
              "      <button class=\"colab-df-convert\" onclick=\"convertToInteractive('df-8f1d31eb-bd79-4d0f-aba7-69ad80523316')\"\n",
              "              title=\"Convert this dataframe to an interactive table.\"\n",
              "              style=\"display:none;\">\n",
              "        \n",
              "  <svg xmlns=\"http://www.w3.org/2000/svg\" height=\"24px\"viewBox=\"0 0 24 24\"\n",
              "       width=\"24px\">\n",
              "    <path d=\"M0 0h24v24H0V0z\" fill=\"none\"/>\n",
              "    <path d=\"M18.56 5.44l.94 2.06.94-2.06 2.06-.94-2.06-.94-.94-2.06-.94 2.06-2.06.94zm-11 1L8.5 8.5l.94-2.06 2.06-.94-2.06-.94L8.5 2.5l-.94 2.06-2.06.94zm10 10l.94 2.06.94-2.06 2.06-.94-2.06-.94-.94-2.06-.94 2.06-2.06.94z\"/><path d=\"M17.41 7.96l-1.37-1.37c-.4-.4-.92-.59-1.43-.59-.52 0-1.04.2-1.43.59L10.3 9.45l-7.72 7.72c-.78.78-.78 2.05 0 2.83L4 21.41c.39.39.9.59 1.41.59.51 0 1.02-.2 1.41-.59l7.78-7.78 2.81-2.81c.8-.78.8-2.07 0-2.86zM5.41 20L4 18.59l7.72-7.72 1.47 1.35L5.41 20z\"/>\n",
              "  </svg>\n",
              "      </button>\n",
              "      \n",
              "  <style>\n",
              "    .colab-df-container {\n",
              "      display:flex;\n",
              "      flex-wrap:wrap;\n",
              "      gap: 12px;\n",
              "    }\n",
              "\n",
              "    .colab-df-convert {\n",
              "      background-color: #E8F0FE;\n",
              "      border: none;\n",
              "      border-radius: 50%;\n",
              "      cursor: pointer;\n",
              "      display: none;\n",
              "      fill: #1967D2;\n",
              "      height: 32px;\n",
              "      padding: 0 0 0 0;\n",
              "      width: 32px;\n",
              "    }\n",
              "\n",
              "    .colab-df-convert:hover {\n",
              "      background-color: #E2EBFA;\n",
              "      box-shadow: 0px 1px 2px rgba(60, 64, 67, 0.3), 0px 1px 3px 1px rgba(60, 64, 67, 0.15);\n",
              "      fill: #174EA6;\n",
              "    }\n",
              "\n",
              "    [theme=dark] .colab-df-convert {\n",
              "      background-color: #3B4455;\n",
              "      fill: #D2E3FC;\n",
              "    }\n",
              "\n",
              "    [theme=dark] .colab-df-convert:hover {\n",
              "      background-color: #434B5C;\n",
              "      box-shadow: 0px 1px 3px 1px rgba(0, 0, 0, 0.15);\n",
              "      filter: drop-shadow(0px 1px 2px rgba(0, 0, 0, 0.3));\n",
              "      fill: #FFFFFF;\n",
              "    }\n",
              "  </style>\n",
              "\n",
              "      <script>\n",
              "        const buttonEl =\n",
              "          document.querySelector('#df-8f1d31eb-bd79-4d0f-aba7-69ad80523316 button.colab-df-convert');\n",
              "        buttonEl.style.display =\n",
              "          google.colab.kernel.accessAllowed ? 'block' : 'none';\n",
              "\n",
              "        async function convertToInteractive(key) {\n",
              "          const element = document.querySelector('#df-8f1d31eb-bd79-4d0f-aba7-69ad80523316');\n",
              "          const dataTable =\n",
              "            await google.colab.kernel.invokeFunction('convertToInteractive',\n",
              "                                                     [key], {});\n",
              "          if (!dataTable) return;\n",
              "\n",
              "          const docLinkHtml = 'Like what you see? Visit the ' +\n",
              "            '<a target=\"_blank\" href=https://colab.research.google.com/notebooks/data_table.ipynb>data table notebook</a>'\n",
              "            + ' to learn more about interactive tables.';\n",
              "          element.innerHTML = '';\n",
              "          dataTable['output_type'] = 'display_data';\n",
              "          await google.colab.output.renderOutput(dataTable, element);\n",
              "          const docLink = document.createElement('div');\n",
              "          docLink.innerHTML = docLinkHtml;\n",
              "          element.appendChild(docLink);\n",
              "        }\n",
              "      </script>\n",
              "    </div>\n",
              "  </div>\n",
              "  "
            ],
            "text/plain": [
              "   max_iter       tol        C  ...  test_score  auc_train_score  auc_test_score\n",
              "0   10000.0  0.000001      1.0  ...    0.856102         0.864100        0.837710\n",
              "1   10000.0  0.000001     10.0  ...    0.857923         0.873379        0.846970\n",
              "2   10000.0  0.000001    100.0  ...    0.861566         0.868954        0.857239\n",
              "3   10000.0  0.000001   1000.0  ...    0.863388         0.869384        0.858249\n",
              "4   10000.0  0.000001  10000.0  ...    0.863388         0.869384        0.858249\n",
              "\n",
              "[5 rows x 7 columns]"
            ]
          },
          "metadata": {},
          "execution_count": 12
        }
      ],
      "source": [
        "values_tables = pd.DataFrame(values, columns = ['max_iter', 'tol','C','train_score', 'test_score', 'auc_train_score', 'auc_test_score'])\n",
        "values_tables.head()"
      ]
    },
    {
      "cell_type": "markdown",
      "metadata": {
        "id": "dwG1jdXOp8W4"
      },
      "source": [
        "####Accuracy Vs AUR_ROC"
      ]
    },
    {
      "cell_type": "code",
      "execution_count": 13,
      "metadata": {
        "colab": {
          "base_uri": "https://localhost:8080/",
          "height": 282
        },
        "outputId": "74c4dfc4-9cde-43d5-d5e9-0a0fdd1e4b0d",
        "id": "AIMecdLLp8W5"
      },
      "outputs": [
        {
          "output_type": "execute_result",
          "data": {
            "text/plain": [
              "[<matplotlib.lines.Line2D at 0x7f75b55bd6d0>]"
            ]
          },
          "metadata": {},
          "execution_count": 13
        },
        {
          "output_type": "display_data",
          "data": {
            "image/png": "[encoded data removed]",
            "text/plain": [
              "<Figure size 432x288 with 1 Axes>"
            ]
          },
          "metadata": {
            "needs_background": "light"
          }
        }
      ],
      "source": [
        "plt.plot(values_tables['train_score'], values_tables['auc_train_score'])"
      ]
    },
    {
      "cell_type": "code",
      "execution_count": 14,
      "metadata": {
        "colab": {
          "base_uri": "https://localhost:8080/",
          "height": 282
        },
        "outputId": "8651cb5f-04be-4035-98b3-3b23a94b2fb2",
        "id": "Vnm7Ka6zp8W7"
      },
      "outputs": [
        {
          "output_type": "execute_result",
          "data": {
            "text/plain": [
              "[<matplotlib.lines.Line2D at 0x7f75b50a5410>]"
            ]
          },
          "metadata": {},
          "execution_count": 14
        },
        {
          "output_type": "display_data",
          "data": {
            "image/png": "[encoded data removed]",
            "text/plain": [
              "<Figure size 432x288 with 1 Axes>"
            ]
          },
          "metadata": {
            "needs_background": "light"
          }
        }
      ],
      "source": [
        "plt.plot(values_tables['test_score'], values_tables['auc_test_score'])"
      ]
    },
    {
      "cell_type": "code",
      "execution_count": 15,
      "metadata": {
        "colab": {
          "base_uri": "https://localhost:8080/"
        },
        "outputId": "374e1b02-f83a-4739-a388-e76408f2f244",
        "id": "LFTiure8p8W8"
      },
      "outputs": [
        {
          "output_type": "stream",
          "name": "stdout",
          "text": [
            "0.8633879781420765 0.8582491582491583 0.865414710485133 0.8778039424209046\n"
          ]
        }
      ],
      "source": [
        "print(values_tables['test_score'].max(),values_tables['auc_test_score'].max(), values_tables['train_score'].max(), values_tables['auc_train_score'].max())"
      ]
    },
    {
      "cell_type": "code",
      "execution_count": 16,
      "metadata": {
        "colab": {
          "base_uri": "https://localhost:8080/"
        },
        "outputId": "6679ffb7-5be8-41a6-a312-1b5222f6867c",
        "id": "h9xfa6KZp8W-"
      },
      "outputs": [
        {
          "output_type": "stream",
          "name": "stdout",
          "text": [
            "3 3 46 43\n"
          ]
        }
      ],
      "source": [
        "print(values_tables['test_score'].idxmax(),values_tables['auc_test_score'].idxmax(), values_tables['train_score'].idxmax(), values_tables['auc_train_score'].idxmax())"
      ]
    },
    {
      "cell_type": "markdown",
      "metadata": {
        "id": "17CrMXshp8XA"
      },
      "source": [
        "####Getting Hyperparameters with best scores"
      ]
    },
    {
      "cell_type": "code",
      "execution_count": 17,
      "metadata": {
        "colab": {
          "base_uri": "https://localhost:8080/"
        },
        "outputId": "1de6b6dd-55f1-4740-fa4c-144e135f90a9",
        "id": "IqVc5hpHp8XA"
      },
      "outputs": [
        {
          "output_type": "stream",
          "name": "stdout",
          "text": [
            "   max_iter       tol       C  ...  test_score  auc_train_score  auc_test_score\n",
            "3   10000.0  0.000001  1000.0  ...    0.863388         0.869384        0.858249\n",
            "\n",
            "[1 rows x 7 columns]\n",
            "    max_iter  tol        C  ...  test_score  auc_train_score  auc_test_score\n",
            "46   10000.0  1.0  10000.0  ...    0.863388         0.870242        0.858249\n",
            "\n",
            "[1 rows x 7 columns]\n",
            "    max_iter  tol     C  ...  test_score  auc_train_score  auc_test_score\n",
            "43   10000.0  1.0  10.0  ...    0.856102         0.877804        0.854209\n",
            "\n",
            "[1 rows x 7 columns]\n"
          ]
        }
      ],
      "source": [
        "for i in [3, 46, 43]:\n",
        "  print(values_tables[i:(i+1)])"
      ]
    },
    {
      "cell_type": "markdown",
      "metadata": {
        "id": "f7AwPHrxp8XB"
      },
      "source": [
        "####Final Model"
      ]
    },
    {
      "cell_type": "code",
      "execution_count": 18,
      "metadata": {
        "colab": {
          "base_uri": "https://localhost:8080/"
        },
        "outputId": "d8f1357f-cae2-4eb5-c57b-20b8591c2bf0",
        "id": "1VeN4nEUp8XC"
      },
      "outputs": [
        {
          "output_type": "stream",
          "name": "stdout",
          "text": [
            "0.863849765258216 0.8693835694481371 0.8633879781420765 0.8582491582491583\n"
          ]
        }
      ],
      "source": [
        "clf_logistic, train_score_logistic, test_score_logistic, auc_train_score_logistic, auc_test_score_logistic = Logistic_reg(X_train, Y_train, X_test, Y_test,0.000001,1000.0 ,1e+7)\n",
        "print(train_score_logistic, auc_train_score_logistic, test_score_logistic, auc_test_score_logistic)"
      ]
    },
    {
      "cell_type": "markdown",
      "source": [
        "# Support Vector Machine"
      ],
      "metadata": {
        "id": "xJ2LUNpBqgwO"
      }
    },
    {
      "cell_type": "markdown",
      "metadata": {
        "id": "lVPLd6h0rB0h"
      },
      "source": [
        "####Model"
      ]
    },
    {
      "cell_type": "code",
      "execution_count": 21,
      "metadata": {
        "id": "uIxMBQWarB0i"
      },
      "outputs": [],
      "source": [
        "from sklearn import svm\n",
        "def svm_model(X_train, Y_train, X_test, Y_test, C_val, tol_val):\n",
        "  clf = svm.SVC(C=C_val,tol=tol_val,class_weight='balanced'\n",
        "                ,random_state=0).fit(X_train, Y_train)\n",
        "  \n",
        "  train_score = clf.score(X_train, Y_train)\n",
        "  test_score = clf.score(X_test, Y_test)\n",
        "  auc_score1 = roc_auc_score(Y_train, clf.predict(X_train))\n",
        "  auc_score2 = roc_auc_score(Y_test, clf.predict(X_test))\n",
        "\n",
        "  return clf, train_score, test_score, auc_score1, auc_score2"
      ]
    },
    {
      "cell_type": "markdown",
      "metadata": {
        "id": "m0GNseG1rB0k"
      },
      "source": [
        "####Hyperparameter Tuning"
      ]
    },
    {
      "cell_type": "code",
      "execution_count": 22,
      "metadata": {
        "id": "QK6QH0m1rB0m"
      },
      "outputs": [],
      "source": [
        "tol = [1e-6, 1e-5, 1e-4, 1e-3, 1e-2, 1e-1, 1]\n",
        "C = [1, 1e+1, 1e+2, 1e+3, 1e+4, 1e+5, 1e+6]\n",
        "vals_svm = []\n",
        "for i in tol:\n",
        "  for j in C:\n",
        "    clf, train_score, test_score, auc_train_score, auc_test_score = svm_model(X_train, Y_train, X_test, Y_test, j, i)\n",
        "    vals_svm.append([i, j, train_score, auc_train_score, test_score, auc_test_score])"
      ]
    },
    {
      "cell_type": "code",
      "execution_count": 23,
      "metadata": {
        "colab": {
          "base_uri": "https://localhost:8080/",
          "height": 206
        },
        "outputId": "fb4658b3-1bc5-49a6-d108-465a768ccc55",
        "id": "ydbfvVQQrB0n"
      },
      "outputs": [
        {
          "output_type": "execute_result",
          "data": {
            "text/html": [
              "\n",
              "  <div id=\"df-9a5665a6-b506-4636-9e72-306812f9788c\">\n",
              "    <div class=\"colab-df-container\">\n",
              "      <div>\n",
              "<style scoped>\n",
              "    .dataframe tbody tr th:only-of-type {\n",
              "        vertical-align: middle;\n",
              "    }\n",
              "\n",
              "    .dataframe tbody tr th {\n",
              "        vertical-align: top;\n",
              "    }\n",
              "\n",
              "    .dataframe thead th {\n",
              "        text-align: right;\n",
              "    }\n",
              "</style>\n",
              "<table border=\"1\" class=\"dataframe\">\n",
              "  <thead>\n",
              "    <tr style=\"text-align: right;\">\n",
              "      <th></th>\n",
              "      <th>tol</th>\n",
              "      <th>C</th>\n",
              "      <th>train_score</th>\n",
              "      <th>auc_train_score</th>\n",
              "      <th>test_score</th>\n",
              "      <th>auc_test_score</th>\n",
              "    </tr>\n",
              "  </thead>\n",
              "  <tbody>\n",
              "    <tr>\n",
              "      <th>0</th>\n",
              "      <td>0.000001</td>\n",
              "      <td>1.0</td>\n",
              "      <td>0.852895</td>\n",
              "      <td>0.883353</td>\n",
              "      <td>0.839709</td>\n",
              "      <td>0.820370</td>\n",
              "    </tr>\n",
              "    <tr>\n",
              "      <th>1</th>\n",
              "      <td>0.000001</td>\n",
              "      <td>10.0</td>\n",
              "      <td>0.870110</td>\n",
              "      <td>0.908777</td>\n",
              "      <td>0.857923</td>\n",
              "      <td>0.813973</td>\n",
              "    </tr>\n",
              "    <tr>\n",
              "      <th>2</th>\n",
              "      <td>0.000001</td>\n",
              "      <td>100.0</td>\n",
              "      <td>0.902973</td>\n",
              "      <td>0.934794</td>\n",
              "      <td>0.872495</td>\n",
              "      <td>0.780808</td>\n",
              "    </tr>\n",
              "    <tr>\n",
              "      <th>3</th>\n",
              "      <td>0.000001</td>\n",
              "      <td>1000.0</td>\n",
              "      <td>0.933490</td>\n",
              "      <td>0.951533</td>\n",
              "      <td>0.883424</td>\n",
              "      <td>0.745623</td>\n",
              "    </tr>\n",
              "    <tr>\n",
              "      <th>4</th>\n",
              "      <td>0.000001</td>\n",
              "      <td>10000.0</td>\n",
              "      <td>0.967919</td>\n",
              "      <td>0.978408</td>\n",
              "      <td>0.894353</td>\n",
              "      <td>0.702189</td>\n",
              "    </tr>\n",
              "  </tbody>\n",
              "</table>\n",
              "</div>\n",
              "      <button class=\"colab-df-convert\" onclick=\"convertToInteractive('df-9a5665a6-b506-4636-9e72-306812f9788c')\"\n",
              "              title=\"Convert this dataframe to an interactive table.\"\n",
              "              style=\"display:none;\">\n",
              "        \n",
              "  <svg xmlns=\"http://www.w3.org/2000/svg\" height=\"24px\"viewBox=\"0 0 24 24\"\n",
              "       width=\"24px\">\n",
              "    <path d=\"M0 0h24v24H0V0z\" fill=\"none\"/>\n",
              "    <path d=\"M18.56 5.44l.94 2.06.94-2.06 2.06-.94-2.06-.94-.94-2.06-.94 2.06-2.06.94zm-11 1L8.5 8.5l.94-2.06 2.06-.94-2.06-.94L8.5 2.5l-.94 2.06-2.06.94zm10 10l.94 2.06.94-2.06 2.06-.94-2.06-.94-.94-2.06-.94 2.06-2.06.94z\"/><path d=\"M17.41 7.96l-1.37-1.37c-.4-.4-.92-.59-1.43-.59-.52 0-1.04.2-1.43.59L10.3 9.45l-7.72 7.72c-.78.78-.78 2.05 0 2.83L4 21.41c.39.39.9.59 1.41.59.51 0 1.02-.2 1.41-.59l7.78-7.78 2.81-2.81c.8-.78.8-2.07 0-2.86zM5.41 20L4 18.59l7.72-7.72 1.47 1.35L5.41 20z\"/>\n",
              "  </svg>\n",
              "      </button>\n",
              "      \n",
              "  <style>\n",
              "    .colab-df-container {\n",
              "      display:flex;\n",
              "      flex-wrap:wrap;\n",
              "      gap: 12px;\n",
              "    }\n",
              "\n",
              "    .colab-df-convert {\n",
              "      background-color: #E8F0FE;\n",
              "      border: none;\n",
              "      border-radius: 50%;\n",
              "      cursor: pointer;\n",
              "      display: none;\n",
              "      fill: #1967D2;\n",
              "      height: 32px;\n",
              "      padding: 0 0 0 0;\n",
              "      width: 32px;\n",
              "    }\n",
              "\n",
              "    .colab-df-convert:hover {\n",
              "      background-color: #E2EBFA;\n",
              "      box-shadow: 0px 1px 2px rgba(60, 64, 67, 0.3), 0px 1px 3px 1px rgba(60, 64, 67, 0.15);\n",
              "      fill: #174EA6;\n",
              "    }\n",
              "\n",
              "    [theme=dark] .colab-df-convert {\n",
              "      background-color: #3B4455;\n",
              "      fill: #D2E3FC;\n",
              "    }\n",
              "\n",
              "    [theme=dark] .colab-df-convert:hover {\n",
              "      background-color: #434B5C;\n",
              "      box-shadow: 0px 1px 3px 1px rgba(0, 0, 0, 0.15);\n",
              "      filter: drop-shadow(0px 1px 2px rgba(0, 0, 0, 0.3));\n",
              "      fill: #FFFFFF;\n",
              "    }\n",
              "  </style>\n",
              "\n",
              "      <script>\n",
              "        const buttonEl =\n",
              "          document.querySelector('#df-9a5665a6-b506-4636-9e72-306812f9788c button.colab-df-convert');\n",
              "        buttonEl.style.display =\n",
              "          google.colab.kernel.accessAllowed ? 'block' : 'none';\n",
              "\n",
              "        async function convertToInteractive(key) {\n",
              "          const element = document.querySelector('#df-9a5665a6-b506-4636-9e72-306812f9788c');\n",
              "          const dataTable =\n",
              "            await google.colab.kernel.invokeFunction('convertToInteractive',\n",
              "                                                     [key], {});\n",
              "          if (!dataTable) return;\n",
              "\n",
              "          const docLinkHtml = 'Like what you see? Visit the ' +\n",
              "            '<a target=\"_blank\" href=https://colab.research.google.com/notebooks/data_table.ipynb>data table notebook</a>'\n",
              "            + ' to learn more about interactive tables.';\n",
              "          element.innerHTML = '';\n",
              "          dataTable['output_type'] = 'display_data';\n",
              "          await google.colab.output.renderOutput(dataTable, element);\n",
              "          const docLink = document.createElement('div');\n",
              "          docLink.innerHTML = docLinkHtml;\n",
              "          element.appendChild(docLink);\n",
              "        }\n",
              "      </script>\n",
              "    </div>\n",
              "  </div>\n",
              "  "
            ],
            "text/plain": [
              "        tol        C  train_score  auc_train_score  test_score  auc_test_score\n",
              "0  0.000001      1.0     0.852895         0.883353    0.839709        0.820370\n",
              "1  0.000001     10.0     0.870110         0.908777    0.857923        0.813973\n",
              "2  0.000001    100.0     0.902973         0.934794    0.872495        0.780808\n",
              "3  0.000001   1000.0     0.933490         0.951533    0.883424        0.745623\n",
              "4  0.000001  10000.0     0.967919         0.978408    0.894353        0.702189"
            ]
          },
          "metadata": {},
          "execution_count": 23
        }
      ],
      "source": [
        "vals_svm_table = pd.DataFrame(vals_svm, columns = ['tol','C','train_score', 'auc_train_score', 'test_score','auc_test_score'])\n",
        "vals_svm_table.head()"
      ]
    },
    {
      "cell_type": "markdown",
      "metadata": {
        "id": "ktVuPWWzrB0p"
      },
      "source": [
        "####Accuracy Vs AUR_ROC"
      ]
    },
    {
      "cell_type": "code",
      "execution_count": 24,
      "metadata": {
        "colab": {
          "base_uri": "https://localhost:8080/",
          "height": 282
        },
        "outputId": "1a159074-b2cb-47a8-a8dc-94483216449c",
        "id": "KpVoO30MrB0p"
      },
      "outputs": [
        {
          "output_type": "execute_result",
          "data": {
            "text/plain": [
              "[<matplotlib.lines.Line2D at 0x7f75b4f2a610>]"
            ]
          },
          "metadata": {},
          "execution_count": 24
        },
        {
          "output_type": "display_data",
          "data": {
            "image/png": "[encoded data removed]",
            "text/plain": [
              "<Figure size 432x288 with 1 Axes>"
            ]
          },
          "metadata": {
            "needs_background": "light"
          }
        }
      ],
      "source": [
        "plt.plot(vals_svm_table['train_score'], vals_svm_table['auc_train_score'])"
      ]
    },
    {
      "cell_type": "code",
      "execution_count": 25,
      "metadata": {
        "colab": {
          "base_uri": "https://localhost:8080/",
          "height": 282
        },
        "outputId": "964d9889-a016-4ea4-e366-95ce5cde256d",
        "id": "iYcLYm4UrB0q"
      },
      "outputs": [
        {
          "output_type": "execute_result",
          "data": {
            "text/plain": [
              "[<matplotlib.lines.Line2D at 0x7f75b4e89110>]"
            ]
          },
          "metadata": {},
          "execution_count": 25
        },
        {
          "output_type": "display_data",
          "data": {
            "image/png": "[encoded data removed]",
            "text/plain": [
              "<Figure size 432x288 with 1 Axes>"
            ]
          },
          "metadata": {
            "needs_background": "light"
          }
        }
      ],
      "source": [
        "plt.plot(vals_svm_table['test_score'], vals_svm_table['auc_test_score'])"
      ]
    },
    {
      "cell_type": "code",
      "execution_count": 26,
      "metadata": {
        "colab": {
          "base_uri": "https://localhost:8080/"
        },
        "outputId": "ab8ffe87-11ab-4d5e-e329-e589d44441ea",
        "id": "ahGtii6wrB0r"
      },
      "outputs": [
        {
          "output_type": "stream",
          "name": "stdout",
          "text": [
            "0.8979963570127505 0.8572390572390572 0.9992175273865415 0.9995708154506439\n"
          ]
        }
      ],
      "source": [
        "print(vals_svm_table['test_score'].max(),vals_svm_table['auc_test_score'].max(), vals_svm_table['train_score'].max(), vals_svm_table['auc_train_score'].max())"
      ]
    },
    {
      "cell_type": "code",
      "execution_count": 27,
      "metadata": {
        "colab": {
          "base_uri": "https://localhost:8080/"
        },
        "outputId": "4c64cb4d-f62b-456e-a9eb-3ead1a359186",
        "id": "r-xtk_bmrB0t"
      },
      "outputs": [
        {
          "output_type": "stream",
          "name": "stdout",
          "text": [
            "6 43 6 6\n"
          ]
        }
      ],
      "source": [
        "print(vals_svm_table['test_score'].idxmax(),vals_svm_table['auc_test_score'].idxmax(), vals_svm_table['train_score'].idxmax(), vals_svm_table['auc_train_score'].idxmax())"
      ]
    },
    {
      "cell_type": "markdown",
      "metadata": {
        "id": "u-y3eRnSrB0t"
      },
      "source": [
        "####Getting Hyperparameters with best scores"
      ]
    },
    {
      "cell_type": "code",
      "execution_count": 28,
      "metadata": {
        "colab": {
          "base_uri": "https://localhost:8080/"
        },
        "outputId": "0cb8530d-a1e0-45ab-e703-e62111103c88",
        "id": "duvjanV0rB0u"
      },
      "outputs": [
        {
          "output_type": "stream",
          "name": "stdout",
          "text": [
            "    tol     C  train_score  auc_train_score  test_score  auc_test_score\n",
            "43  1.0  10.0     0.872457         0.910065    0.861566        0.857239\n",
            "        tol          C  ...  test_score  auc_test_score\n",
            "6  0.000001  1000000.0  ...    0.897996        0.712458\n",
            "\n",
            "[1 rows x 6 columns]\n"
          ]
        }
      ],
      "source": [
        "for i in [43, 6]:\n",
        "  print(vals_svm_table[i:(i+1)])"
      ]
    },
    {
      "cell_type": "markdown",
      "metadata": {
        "id": "VdTm_D4prB0v"
      },
      "source": [
        "####Final Model"
      ]
    },
    {
      "cell_type": "code",
      "execution_count": 29,
      "metadata": {
        "colab": {
          "base_uri": "https://localhost:8080/"
        },
        "outputId": "80a6b82d-174c-4bc0-e397-d3013f8f317d",
        "id": "ZHBDt1wKrB0x"
      },
      "outputs": [
        {
          "output_type": "stream",
          "name": "stdout",
          "text": [
            "0.8724569640062598 0.9100649473964071 0.8615664845173042 0.8572390572390572\n"
          ]
        }
      ],
      "source": [
        "clf_svm, train_score_svm, test_score_svm, auc_train_score_svm, auc_test_score_svm = svm_model(X_train, Y_train, X_test, Y_test,10.0,1.0)\n",
        "print(train_score_svm, auc_train_score_svm, test_score_svm, auc_test_score_svm)"
      ]
    },
    {
      "cell_type": "markdown",
      "source": [
        "# Gradient Boosting Classifier"
      ],
      "metadata": {
        "id": "-_QqSpuoqlqe"
      }
    },
    {
      "cell_type": "markdown",
      "metadata": {
        "id": "amct5SrRs51y"
      },
      "source": [
        "####Model"
      ]
    },
    {
      "cell_type": "code",
      "execution_count": 31,
      "metadata": {
        "id": "h2mVJJtps51z"
      },
      "outputs": [],
      "source": [
        "from sklearn.ensemble import GradientBoostingClassifier\n",
        "def gradient_boost(X_train, Y_train, X_test, Y_test, alpha, tol_value):\n",
        "  clf = GradientBoostingClassifier(learning_rate=alpha, random_state=0,\n",
        "                             tol=tol_value).fit(X_train, Y_train)\n",
        "                            \n",
        "  train_score = clf.score(X_train, Y_train)\n",
        "  test_score = clf.score(X_test, Y_test)\n",
        "  auc_score1 = roc_auc_score(Y_train, clf.predict(X_train))\n",
        "  auc_score2 = roc_auc_score(Y_test, clf.predict(X_test))\n",
        "\n",
        "  return clf, train_score, test_score, auc_score1, auc_score2"
      ]
    },
    {
      "cell_type": "markdown",
      "metadata": {
        "id": "MtwT4Do7s515"
      },
      "source": [
        "####Hyperparameter Tuning"
      ]
    },
    {
      "cell_type": "code",
      "execution_count": 32,
      "metadata": {
        "id": "JAhPbYFWs517"
      },
      "outputs": [],
      "source": [
        "alpha = [1e-6, 1e-5, 1e-4, 1e-3, 1e-2, 1e-1, 1]\n",
        "tol = [1e-6, 1e-5, 1e-4, 1e-3, 1e-2, 1e-1, 1]\n",
        "val_gradient = []\n",
        "for i in tol:\n",
        "  for j in alpha:\n",
        "    clf, train_score, test_score,  auc_train_score, auc_test_score = gradient_boost(X_train, Y_train, X_test, Y_test, j, i)\n",
        "    val_gradient.append([i, j, train_score, auc_train_score,  test_score,  auc_test_score])"
      ]
    },
    {
      "cell_type": "code",
      "execution_count": 33,
      "metadata": {
        "colab": {
          "base_uri": "https://localhost:8080/",
          "height": 206
        },
        "outputId": "35a3453b-6943-48df-a30e-20b2319602fa",
        "id": "Haw--Joss518"
      },
      "outputs": [
        {
          "output_type": "execute_result",
          "data": {
            "text/html": [
              "\n",
              "  <div id=\"df-a59b3afb-43fd-475d-b5ff-75653249bc69\">\n",
              "    <div class=\"colab-df-container\">\n",
              "      <div>\n",
              "<style scoped>\n",
              "    .dataframe tbody tr th:only-of-type {\n",
              "        vertical-align: middle;\n",
              "    }\n",
              "\n",
              "    .dataframe tbody tr th {\n",
              "        vertical-align: top;\n",
              "    }\n",
              "\n",
              "    .dataframe thead th {\n",
              "        text-align: right;\n",
              "    }\n",
              "</style>\n",
              "<table border=\"1\" class=\"dataframe\">\n",
              "  <thead>\n",
              "    <tr style=\"text-align: right;\">\n",
              "      <th></th>\n",
              "      <th>tol</th>\n",
              "      <th>alpha</th>\n",
              "      <th>train_score</th>\n",
              "      <th>auc_train_score</th>\n",
              "      <th>test_score</th>\n",
              "      <th>auc_test_score</th>\n",
              "    </tr>\n",
              "  </thead>\n",
              "  <tbody>\n",
              "    <tr>\n",
              "      <th>0</th>\n",
              "      <td>0.000001</td>\n",
              "      <td>0.000001</td>\n",
              "      <td>0.911581</td>\n",
              "      <td>0.500000</td>\n",
              "      <td>0.901639</td>\n",
              "      <td>0.500000</td>\n",
              "    </tr>\n",
              "    <tr>\n",
              "      <th>1</th>\n",
              "      <td>0.000001</td>\n",
              "      <td>0.000010</td>\n",
              "      <td>0.911581</td>\n",
              "      <td>0.500000</td>\n",
              "      <td>0.901639</td>\n",
              "      <td>0.500000</td>\n",
              "    </tr>\n",
              "    <tr>\n",
              "      <th>2</th>\n",
              "      <td>0.000001</td>\n",
              "      <td>0.000100</td>\n",
              "      <td>0.911581</td>\n",
              "      <td>0.500000</td>\n",
              "      <td>0.901639</td>\n",
              "      <td>0.500000</td>\n",
              "    </tr>\n",
              "    <tr>\n",
              "      <th>3</th>\n",
              "      <td>0.000001</td>\n",
              "      <td>0.001000</td>\n",
              "      <td>0.911581</td>\n",
              "      <td>0.500000</td>\n",
              "      <td>0.901639</td>\n",
              "      <td>0.500000</td>\n",
              "    </tr>\n",
              "    <tr>\n",
              "      <th>4</th>\n",
              "      <td>0.000001</td>\n",
              "      <td>0.010000</td>\n",
              "      <td>0.938185</td>\n",
              "      <td>0.662429</td>\n",
              "      <td>0.910747</td>\n",
              "      <td>0.562795</td>\n",
              "    </tr>\n",
              "  </tbody>\n",
              "</table>\n",
              "</div>\n",
              "      <button class=\"colab-df-convert\" onclick=\"convertToInteractive('df-a59b3afb-43fd-475d-b5ff-75653249bc69')\"\n",
              "              title=\"Convert this dataframe to an interactive table.\"\n",
              "              style=\"display:none;\">\n",
              "        \n",
              "  <svg xmlns=\"http://www.w3.org/2000/svg\" height=\"24px\"viewBox=\"0 0 24 24\"\n",
              "       width=\"24px\">\n",
              "    <path d=\"M0 0h24v24H0V0z\" fill=\"none\"/>\n",
              "    <path d=\"M18.56 5.44l.94 2.06.94-2.06 2.06-.94-2.06-.94-.94-2.06-.94 2.06-2.06.94zm-11 1L8.5 8.5l.94-2.06 2.06-.94-2.06-.94L8.5 2.5l-.94 2.06-2.06.94zm10 10l.94 2.06.94-2.06 2.06-.94-2.06-.94-.94-2.06-.94 2.06-2.06.94z\"/><path d=\"M17.41 7.96l-1.37-1.37c-.4-.4-.92-.59-1.43-.59-.52 0-1.04.2-1.43.59L10.3 9.45l-7.72 7.72c-.78.78-.78 2.05 0 2.83L4 21.41c.39.39.9.59 1.41.59.51 0 1.02-.2 1.41-.59l7.78-7.78 2.81-2.81c.8-.78.8-2.07 0-2.86zM5.41 20L4 18.59l7.72-7.72 1.47 1.35L5.41 20z\"/>\n",
              "  </svg>\n",
              "      </button>\n",
              "      \n",
              "  <style>\n",
              "    .colab-df-container {\n",
              "      display:flex;\n",
              "      flex-wrap:wrap;\n",
              "      gap: 12px;\n",
              "    }\n",
              "\n",
              "    .colab-df-convert {\n",
              "      background-color: #E8F0FE;\n",
              "      border: none;\n",
              "      border-radius: 50%;\n",
              "      cursor: pointer;\n",
              "      display: none;\n",
              "      fill: #1967D2;\n",
              "      height: 32px;\n",
              "      padding: 0 0 0 0;\n",
              "      width: 32px;\n",
              "    }\n",
              "\n",
              "    .colab-df-convert:hover {\n",
              "      background-color: #E2EBFA;\n",
              "      box-shadow: 0px 1px 2px rgba(60, 64, 67, 0.3), 0px 1px 3px 1px rgba(60, 64, 67, 0.15);\n",
              "      fill: #174EA6;\n",
              "    }\n",
              "\n",
              "    [theme=dark] .colab-df-convert {\n",
              "      background-color: #3B4455;\n",
              "      fill: #D2E3FC;\n",
              "    }\n",
              "\n",
              "    [theme=dark] .colab-df-convert:hover {\n",
              "      background-color: #434B5C;\n",
              "      box-shadow: 0px 1px 3px 1px rgba(0, 0, 0, 0.15);\n",
              "      filter: drop-shadow(0px 1px 2px rgba(0, 0, 0, 0.3));\n",
              "      fill: #FFFFFF;\n",
              "    }\n",
              "  </style>\n",
              "\n",
              "      <script>\n",
              "        const buttonEl =\n",
              "          document.querySelector('#df-a59b3afb-43fd-475d-b5ff-75653249bc69 button.colab-df-convert');\n",
              "        buttonEl.style.display =\n",
              "          google.colab.kernel.accessAllowed ? 'block' : 'none';\n",
              "\n",
              "        async function convertToInteractive(key) {\n",
              "          const element = document.querySelector('#df-a59b3afb-43fd-475d-b5ff-75653249bc69');\n",
              "          const dataTable =\n",
              "            await google.colab.kernel.invokeFunction('convertToInteractive',\n",
              "                                                     [key], {});\n",
              "          if (!dataTable) return;\n",
              "\n",
              "          const docLinkHtml = 'Like what you see? Visit the ' +\n",
              "            '<a target=\"_blank\" href=https://colab.research.google.com/notebooks/data_table.ipynb>data table notebook</a>'\n",
              "            + ' to learn more about interactive tables.';\n",
              "          element.innerHTML = '';\n",
              "          dataTable['output_type'] = 'display_data';\n",
              "          await google.colab.output.renderOutput(dataTable, element);\n",
              "          const docLink = document.createElement('div');\n",
              "          docLink.innerHTML = docLinkHtml;\n",
              "          element.appendChild(docLink);\n",
              "        }\n",
              "      </script>\n",
              "    </div>\n",
              "  </div>\n",
              "  "
            ],
            "text/plain": [
              "        tol     alpha  train_score  auc_train_score  test_score  auc_test_score\n",
              "0  0.000001  0.000001     0.911581         0.500000    0.901639        0.500000\n",
              "1  0.000001  0.000010     0.911581         0.500000    0.901639        0.500000\n",
              "2  0.000001  0.000100     0.911581         0.500000    0.901639        0.500000\n",
              "3  0.000001  0.001000     0.911581         0.500000    0.901639        0.500000\n",
              "4  0.000001  0.010000     0.938185         0.662429    0.910747        0.562795"
            ]
          },
          "metadata": {},
          "execution_count": 33
        }
      ],
      "source": [
        "val_gradient_table = pd.DataFrame(val_gradient, columns = ['tol','alpha','train_score', 'auc_train_score',  'test_score',  'auc_test_score'])\n",
        "val_gradient_table.head()"
      ]
    },
    {
      "cell_type": "markdown",
      "metadata": {
        "id": "DOSpYteas51_"
      },
      "source": [
        "####Accuracy Vs AUR_ROC"
      ]
    },
    {
      "cell_type": "code",
      "execution_count": 34,
      "metadata": {
        "colab": {
          "base_uri": "https://localhost:8080/",
          "height": 282
        },
        "outputId": "288ea325-0e25-47a9-b94d-d9b6dbca3fee",
        "id": "u4BO8Clzs52A"
      },
      "outputs": [
        {
          "output_type": "execute_result",
          "data": {
            "text/plain": [
              "[<matplotlib.lines.Line2D at 0x7f75b4cf09d0>]"
            ]
          },
          "metadata": {},
          "execution_count": 34
        },
        {
          "output_type": "display_data",
          "data": {
            "image/png": "[encoded data removed]",
            "text/plain": [
              "<Figure size 432x288 with 1 Axes>"
            ]
          },
          "metadata": {
            "needs_background": "light"
          }
        }
      ],
      "source": [
        "plt.plot(val_gradient_table['train_score'], val_gradient_table['auc_train_score'])"
      ]
    },
    {
      "cell_type": "code",
      "execution_count": 35,
      "metadata": {
        "colab": {
          "base_uri": "https://localhost:8080/",
          "height": 282
        },
        "outputId": "d62dda6b-498e-435a-d97d-e0e3cbe906c5",
        "id": "GPCOFHkPs52C"
      },
      "outputs": [
        {
          "output_type": "execute_result",
          "data": {
            "text/plain": [
              "[<matplotlib.lines.Line2D at 0x7f75b4d2d110>]"
            ]
          },
          "metadata": {},
          "execution_count": 35
        },
        {
          "output_type": "display_data",
          "data": {
            "image/png": "[encoded data removed]",
            "text/plain": [
              "<Figure size 432x288 with 1 Axes>"
            ]
          },
          "metadata": {
            "needs_background": "light"
          }
        }
      ],
      "source": [
        "plt.plot(val_gradient_table['test_score'], val_gradient_table['auc_test_score'])"
      ]
    },
    {
      "cell_type": "code",
      "execution_count": 36,
      "metadata": {
        "colab": {
          "base_uri": "https://localhost:8080/"
        },
        "outputId": "7284a0f9-53c6-4b88-cb3c-7106c175fa65",
        "id": "20gpMM7Es52E"
      },
      "outputs": [
        {
          "output_type": "stream",
          "name": "stdout",
          "text": [
            "0.9326047358834244 0.6904040404040402 1.0 1.0\n"
          ]
        }
      ],
      "source": [
        "print(val_gradient_table['test_score'].max(),val_gradient_table['auc_test_score'].max(), val_gradient_table['train_score'].max(), val_gradient_table['auc_train_score'].max())"
      ]
    },
    {
      "cell_type": "code",
      "execution_count": 37,
      "metadata": {
        "colab": {
          "base_uri": "https://localhost:8080/"
        },
        "outputId": "71c24cc7-d863-46c1-a5ca-b39abcba3d1a",
        "id": "DgvIG2zns52G"
      },
      "outputs": [
        {
          "output_type": "stream",
          "name": "stdout",
          "text": [
            "5 5 6 6\n"
          ]
        }
      ],
      "source": [
        "print(val_gradient_table['test_score'].idxmax(),val_gradient_table['auc_test_score'].idxmax(), val_gradient_table['train_score'].idxmax(), val_gradient_table['auc_train_score'].idxmax())"
      ]
    },
    {
      "cell_type": "markdown",
      "metadata": {
        "id": "KurAeY2Os52H"
      },
      "source": [
        "####Getting Hyperparameters with best scores"
      ]
    },
    {
      "cell_type": "code",
      "execution_count": 38,
      "metadata": {
        "colab": {
          "base_uri": "https://localhost:8080/"
        },
        "outputId": "ed3ff570-df33-47d5-85b6-157494e62f7e",
        "id": "QGhh-XL3s52J"
      },
      "outputs": [
        {
          "output_type": "stream",
          "name": "stdout",
          "text": [
            "        tol  alpha  train_score  auc_train_score  test_score  auc_test_score\n",
            "5  0.000001    0.1     0.978091         0.888093    0.932605        0.690404\n",
            "        tol  alpha  train_score  auc_train_score  test_score  auc_test_score\n",
            "6  0.000001    1.0          1.0              1.0    0.916211        0.689562\n"
          ]
        }
      ],
      "source": [
        "for i in [5, 6]:\n",
        "  print(val_gradient_table[i:(i+1)])"
      ]
    },
    {
      "cell_type": "markdown",
      "metadata": {
        "id": "D-cS9XOfs52K"
      },
      "source": [
        "####Final Model"
      ]
    },
    {
      "cell_type": "code",
      "execution_count": 39,
      "metadata": {
        "colab": {
          "base_uri": "https://localhost:8080/"
        },
        "outputId": "e5ff888f-141c-48e6-e6d3-424d068e0ef0",
        "id": "9pVsboV_s52N"
      },
      "outputs": [
        {
          "output_type": "stream",
          "name": "stdout",
          "text": [
            "0.9780907668231612 0.8880929773253827 0.9326047358834244 0.6904040404040402\n"
          ]
        }
      ],
      "source": [
        "clf_grd_boost, train_score_grd_boost, test_score_grd_boost, auc_train_score_grd_boost, auc_test_score_grd_boost = gradient_boost(X_train, Y_train, X_test, Y_test,0.1,0.000001)\n",
        "print(train_score_grd_boost, auc_train_score_grd_boost, test_score_grd_boost, auc_test_score_grd_boost)"
      ]
    },
    {
      "cell_type": "markdown",
      "source": [
        "# Random Forest"
      ],
      "metadata": {
        "id": "n40QBBk6qZsz"
      }
    },
    {
      "cell_type": "markdown",
      "metadata": {
        "id": "ojGSvXCXs9ko"
      },
      "source": [
        "####Model"
      ]
    },
    {
      "cell_type": "code",
      "execution_count": 41,
      "metadata": {
        "id": "aqWKIhY8s9kp"
      },
      "outputs": [],
      "source": [
        "from sklearn.ensemble import RandomForestClassifier\n",
        "def random_forest(X_train, Y_train, X_test, Y_test, no_of_trees_val, max_depth_val):\n",
        "      clf = RandomForestClassifier(n_estimators = no_of_trees_val, max_depth = max_depth_val,\n",
        "                                   random_state=0, class_weight= \"balanced\").fit(X_train, Y_train)\n",
        "      train_score = clf.score(X_train, Y_train)\n",
        "      test_score = clf.score(X_test, Y_test)\n",
        "      auc_score1 = roc_auc_score(Y_train, clf.predict(X_train))\n",
        "      auc_score2 = roc_auc_score(Y_test, clf.predict(X_test))\n",
        "\n",
        "      return clf, train_score, test_score, auc_score1, auc_score2"
      ]
    },
    {
      "cell_type": "markdown",
      "metadata": {
        "id": "MbrYThYJs9kp"
      },
      "source": [
        "####Hyperparameter Tuning"
      ]
    },
    {
      "cell_type": "code",
      "execution_count": 42,
      "metadata": {
        "id": "PemhjW6Rs9kq"
      },
      "outputs": [],
      "source": [
        "no_of_trees = [1, 2, 5, 10, 15, 20, 50, 100]\n",
        "max_depth = [1, 2, 5, 1e+1, 50, 100]\n",
        "val_random_forest = []\n",
        "for i in no_of_trees:\n",
        "  for j in max_depth:\n",
        "      clf, train_score, test_score, auc_train_score, auc_test_score = random_forest(X_train, Y_train, X_test, Y_test, i, j)\n",
        "      val_random_forest.append([i, j, train_score, auc_train_score, test_score, auc_test_score])"
      ]
    },
    {
      "cell_type": "code",
      "execution_count": 43,
      "metadata": {
        "colab": {
          "base_uri": "https://localhost:8080/",
          "height": 206
        },
        "outputId": "16d71814-83e3-4c27-915d-a25eacc067ae",
        "id": "KmB5FqdBs9kq"
      },
      "outputs": [
        {
          "output_type": "execute_result",
          "data": {
            "text/html": [
              "\n",
              "  <div id=\"df-9252ab99-3cef-461e-abaa-8593ae7eb51b\">\n",
              "    <div class=\"colab-df-container\">\n",
              "      <div>\n",
              "<style scoped>\n",
              "    .dataframe tbody tr th:only-of-type {\n",
              "        vertical-align: middle;\n",
              "    }\n",
              "\n",
              "    .dataframe tbody tr th {\n",
              "        vertical-align: top;\n",
              "    }\n",
              "\n",
              "    .dataframe thead th {\n",
              "        text-align: right;\n",
              "    }\n",
              "</style>\n",
              "<table border=\"1\" class=\"dataframe\">\n",
              "  <thead>\n",
              "    <tr style=\"text-align: right;\">\n",
              "      <th></th>\n",
              "      <th>no_of_trees</th>\n",
              "      <th>max_depth</th>\n",
              "      <th>train_score</th>\n",
              "      <th>auc_train_score</th>\n",
              "      <th>test_score</th>\n",
              "      <th>auc_test_score</th>\n",
              "    </tr>\n",
              "  </thead>\n",
              "  <tbody>\n",
              "    <tr>\n",
              "      <th>0</th>\n",
              "      <td>1</td>\n",
              "      <td>1.0</td>\n",
              "      <td>0.828638</td>\n",
              "      <td>0.850070</td>\n",
              "      <td>0.812386</td>\n",
              "      <td>0.805219</td>\n",
              "    </tr>\n",
              "    <tr>\n",
              "      <th>1</th>\n",
              "      <td>1</td>\n",
              "      <td>2.0</td>\n",
              "      <td>0.807512</td>\n",
              "      <td>0.846473</td>\n",
              "      <td>0.794171</td>\n",
              "      <td>0.803367</td>\n",
              "    </tr>\n",
              "    <tr>\n",
              "      <th>2</th>\n",
              "      <td>1</td>\n",
              "      <td>5.0</td>\n",
              "      <td>0.923318</td>\n",
              "      <td>0.870037</td>\n",
              "      <td>0.872495</td>\n",
              "      <td>0.756061</td>\n",
              "    </tr>\n",
              "    <tr>\n",
              "      <th>3</th>\n",
              "      <td>1</td>\n",
              "      <td>10.0</td>\n",
              "      <td>0.958529</td>\n",
              "      <td>0.873368</td>\n",
              "      <td>0.881603</td>\n",
              "      <td>0.637374</td>\n",
              "    </tr>\n",
              "    <tr>\n",
              "      <th>4</th>\n",
              "      <td>1</td>\n",
              "      <td>50.0</td>\n",
              "      <td>0.967919</td>\n",
              "      <td>0.878518</td>\n",
              "      <td>0.881603</td>\n",
              "      <td>0.653872</td>\n",
              "    </tr>\n",
              "  </tbody>\n",
              "</table>\n",
              "</div>\n",
              "      <button class=\"colab-df-convert\" onclick=\"convertToInteractive('df-9252ab99-3cef-461e-abaa-8593ae7eb51b')\"\n",
              "              title=\"Convert this dataframe to an interactive table.\"\n",
              "              style=\"display:none;\">\n",
              "        \n",
              "  <svg xmlns=\"http://www.w3.org/2000/svg\" height=\"24px\"viewBox=\"0 0 24 24\"\n",
              "       width=\"24px\">\n",
              "    <path d=\"M0 0h24v24H0V0z\" fill=\"none\"/>\n",
              "    <path d=\"M18.56 5.44l.94 2.06.94-2.06 2.06-.94-2.06-.94-.94-2.06-.94 2.06-2.06.94zm-11 1L8.5 8.5l.94-2.06 2.06-.94-2.06-.94L8.5 2.5l-.94 2.06-2.06.94zm10 10l.94 2.06.94-2.06 2.06-.94-2.06-.94-.94-2.06-.94 2.06-2.06.94z\"/><path d=\"M17.41 7.96l-1.37-1.37c-.4-.4-.92-.59-1.43-.59-.52 0-1.04.2-1.43.59L10.3 9.45l-7.72 7.72c-.78.78-.78 2.05 0 2.83L4 21.41c.39.39.9.59 1.41.59.51 0 1.02-.2 1.41-.59l7.78-7.78 2.81-2.81c.8-.78.8-2.07 0-2.86zM5.41 20L4 18.59l7.72-7.72 1.47 1.35L5.41 20z\"/>\n",
              "  </svg>\n",
              "      </button>\n",
              "      \n",
              "  <style>\n",
              "    .colab-df-container {\n",
              "      display:flex;\n",
              "      flex-wrap:wrap;\n",
              "      gap: 12px;\n",
              "    }\n",
              "\n",
              "    .colab-df-convert {\n",
              "      background-color: #E8F0FE;\n",
              "      border: none;\n",
              "      border-radius: 50%;\n",
              "      cursor: pointer;\n",
              "      display: none;\n",
              "      fill: #1967D2;\n",
              "      height: 32px;\n",
              "      padding: 0 0 0 0;\n",
              "      width: 32px;\n",
              "    }\n",
              "\n",
              "    .colab-df-convert:hover {\n",
              "      background-color: #E2EBFA;\n",
              "      box-shadow: 0px 1px 2px rgba(60, 64, 67, 0.3), 0px 1px 3px 1px rgba(60, 64, 67, 0.15);\n",
              "      fill: #174EA6;\n",
              "    }\n",
              "\n",
              "    [theme=dark] .colab-df-convert {\n",
              "      background-color: #3B4455;\n",
              "      fill: #D2E3FC;\n",
              "    }\n",
              "\n",
              "    [theme=dark] .colab-df-convert:hover {\n",
              "      background-color: #434B5C;\n",
              "      box-shadow: 0px 1px 3px 1px rgba(0, 0, 0, 0.15);\n",
              "      filter: drop-shadow(0px 1px 2px rgba(0, 0, 0, 0.3));\n",
              "      fill: #FFFFFF;\n",
              "    }\n",
              "  </style>\n",
              "\n",
              "      <script>\n",
              "        const buttonEl =\n",
              "          document.querySelector('#df-9252ab99-3cef-461e-abaa-8593ae7eb51b button.colab-df-convert');\n",
              "        buttonEl.style.display =\n",
              "          google.colab.kernel.accessAllowed ? 'block' : 'none';\n",
              "\n",
              "        async function convertToInteractive(key) {\n",
              "          const element = document.querySelector('#df-9252ab99-3cef-461e-abaa-8593ae7eb51b');\n",
              "          const dataTable =\n",
              "            await google.colab.kernel.invokeFunction('convertToInteractive',\n",
              "                                                     [key], {});\n",
              "          if (!dataTable) return;\n",
              "\n",
              "          const docLinkHtml = 'Like what you see? Visit the ' +\n",
              "            '<a target=\"_blank\" href=https://colab.research.google.com/notebooks/data_table.ipynb>data table notebook</a>'\n",
              "            + ' to learn more about interactive tables.';\n",
              "          element.innerHTML = '';\n",
              "          dataTable['output_type'] = 'display_data';\n",
              "          await google.colab.output.renderOutput(dataTable, element);\n",
              "          const docLink = document.createElement('div');\n",
              "          docLink.innerHTML = docLinkHtml;\n",
              "          element.appendChild(docLink);\n",
              "        }\n",
              "      </script>\n",
              "    </div>\n",
              "  </div>\n",
              "  "
            ],
            "text/plain": [
              "   no_of_trees  max_depth  ...  test_score  auc_test_score\n",
              "0            1        1.0  ...    0.812386        0.805219\n",
              "1            1        2.0  ...    0.794171        0.803367\n",
              "2            1        5.0  ...    0.872495        0.756061\n",
              "3            1       10.0  ...    0.881603        0.637374\n",
              "4            1       50.0  ...    0.881603        0.653872\n",
              "\n",
              "[5 rows x 6 columns]"
            ]
          },
          "metadata": {},
          "execution_count": 43
        }
      ],
      "source": [
        "table_random_forest = pd.DataFrame(val_random_forest, columns = ['no_of_trees','max_depth','train_score', 'auc_train_score', 'test_score','auc_test_score'])\n",
        "table_random_forest.head()"
      ]
    },
    {
      "cell_type": "markdown",
      "metadata": {
        "id": "ySpArshrs9kv"
      },
      "source": [
        "####Accuracy Vs AUR_ROC"
      ]
    },
    {
      "cell_type": "code",
      "execution_count": 44,
      "metadata": {
        "colab": {
          "base_uri": "https://localhost:8080/",
          "height": 282
        },
        "outputId": "587527cc-adc3-406f-c200-4be521f8c222",
        "id": "vtR6vs-Us9kw"
      },
      "outputs": [
        {
          "output_type": "execute_result",
          "data": {
            "text/plain": [
              "[<matplotlib.lines.Line2D at 0x7f75b50248d0>]"
            ]
          },
          "metadata": {},
          "execution_count": 44
        },
        {
          "output_type": "display_data",
          "data": {
            "image/png": "[encoded data removed]",
            "text/plain": [
              "<Figure size 432x288 with 1 Axes>"
            ]
          },
          "metadata": {
            "needs_background": "light"
          }
        }
      ],
      "source": [
        "plt.plot(table_random_forest['train_score'], table_random_forest['auc_train_score'])"
      ]
    },
    {
      "cell_type": "code",
      "execution_count": 45,
      "metadata": {
        "colab": {
          "base_uri": "https://localhost:8080/",
          "height": 283
        },
        "outputId": "302d5969-6e3e-4486-e0ea-8571badd8d9b",
        "id": "7DIfNYt3s9kx"
      },
      "outputs": [
        {
          "output_type": "execute_result",
          "data": {
            "text/plain": [
              "[<matplotlib.lines.Line2D at 0x7f75b4107d90>]"
            ]
          },
          "metadata": {},
          "execution_count": 45
        },
        {
          "output_type": "display_data",
          "data": {
            "image/png": "[encoded data removed]",
            "text/plain": [
              "<Figure size 432x288 with 1 Axes>"
            ]
          },
          "metadata": {
            "needs_background": "light"
          }
        }
      ],
      "source": [
        "plt.plot(table_random_forest['test_score'], table_random_forest['auc_test_score'])"
      ]
    },
    {
      "cell_type": "code",
      "execution_count": 46,
      "metadata": {
        "colab": {
          "base_uri": "https://localhost:8080/"
        },
        "outputId": "cc2de1ce-0366-42b3-9305-41c7b3e653d2",
        "id": "3evDcbBVs9kx"
      },
      "outputs": [
        {
          "output_type": "stream",
          "name": "stdout",
          "text": [
            "0.9289617486338798 0.8425925925925926 1.0 1.0\n"
          ]
        }
      ],
      "source": [
        "print(table_random_forest['test_score'].max(),table_random_forest['auc_test_score'].max(), table_random_forest['train_score'].max(), table_random_forest['auc_train_score'].max())"
      ]
    },
    {
      "cell_type": "code",
      "execution_count": 47,
      "metadata": {
        "colab": {
          "base_uri": "https://localhost:8080/"
        },
        "outputId": "9058abfd-d8ca-49bd-f9ba-0c75d490fbaf",
        "id": "XhDhJ4iUs9k1"
      },
      "outputs": [
        {
          "output_type": "stream",
          "name": "stdout",
          "text": [
            "22 44 46 46\n"
          ]
        }
      ],
      "source": [
        "print(table_random_forest['test_score'].idxmax(),table_random_forest['auc_test_score'].idxmax(), table_random_forest['train_score'].idxmax(), table_random_forest['auc_train_score'].idxmax())"
      ]
    },
    {
      "cell_type": "markdown",
      "metadata": {
        "id": "TK2SjWi8s9k2"
      },
      "source": [
        "####Getting Hyperparameters with best scores"
      ]
    },
    {
      "cell_type": "code",
      "execution_count": 48,
      "metadata": {
        "colab": {
          "base_uri": "https://localhost:8080/"
        },
        "outputId": "a153bde2-cc74-406b-e7a4-7e6741d60e1a",
        "id": "-3O135Rjs9k2"
      },
      "outputs": [
        {
          "output_type": "stream",
          "name": "stdout",
          "text": [
            "    no_of_trees  max_depth  ...  test_score  auc_test_score\n",
            "22           10       50.0  ...    0.928962        0.663636\n",
            "\n",
            "[1 rows x 6 columns]\n",
            "    no_of_trees  max_depth  ...  test_score  auc_test_score\n",
            "44          100        5.0  ...    0.879781        0.842593\n",
            "\n",
            "[1 rows x 6 columns]\n",
            "    no_of_trees  max_depth  ...  test_score  auc_test_score\n",
            "46          100       50.0  ...    0.923497        0.635859\n",
            "\n",
            "[1 rows x 6 columns]\n"
          ]
        }
      ],
      "source": [
        "for i in [22, 44, 46]:\n",
        "  print(table_random_forest[i:(i+1)])"
      ]
    },
    {
      "cell_type": "markdown",
      "metadata": {
        "id": "1jmhiXass9k3"
      },
      "source": [
        "####Final Model"
      ]
    },
    {
      "cell_type": "code",
      "execution_count": 49,
      "metadata": {
        "colab": {
          "base_uri": "https://localhost:8080/"
        },
        "outputId": "920fa881-b4fa-49fb-f41b-bf27a161dee5",
        "id": "MkgqBpkds9k3"
      },
      "outputs": [
        {
          "output_type": "stream",
          "name": "stdout",
          "text": [
            "0.918622848200313 0.9194044589616014 0.8797814207650273 0.8425925925925926\n"
          ]
        }
      ],
      "source": [
        "clf_random_forest, train_score_random_forest, test_score_random_forest, auc_train_score_random_forest, auc_test_score_random_forest = random_forest(X_train, Y_train, X_test, Y_test,100,5)\n",
        "print(train_score_random_forest, auc_train_score_random_forest, test_score_random_forest, auc_test_score_random_forest)"
      ]
    },
    {
      "cell_type": "markdown",
      "source": [
        "# Multi Layer Perceptron"
      ],
      "metadata": {
        "id": "8G-HsECtq1qO"
      }
    },
    {
      "cell_type": "markdown",
      "metadata": {
        "id": "4DG26tuBs-w8"
      },
      "source": [
        "####Model"
      ]
    },
    {
      "cell_type": "code",
      "execution_count": 51,
      "metadata": {
        "id": "Dvs2hF9ms-w9"
      },
      "outputs": [],
      "source": [
        "from sklearn.neural_network import MLPClassifier\n",
        "def MLP(X_train, Y_train, X_test, Y_test, alpha_val, max_iterations, tol_val):\n",
        "  clf = MLPClassifier(learning_rate_init=alpha_val,\n",
        "                      max_iter=max_iterations,tol=tol_val).fit(X_train, Y_train)\n",
        "\n",
        "  train_score = clf.score(X_train, Y_train)\n",
        "  test_score = clf.score(X_test, Y_test)\n",
        "  auc_score1 = roc_auc_score(Y_train, clf.predict(X_train))\n",
        "  auc_score2 = roc_auc_score(Y_test, clf.predict(X_test))\n",
        "\n",
        "  return clf, train_score, test_score, auc_score1, auc_score2"
      ]
    },
    {
      "cell_type": "markdown",
      "metadata": {
        "id": "tAiRJFp6s-w-"
      },
      "source": [
        "####Hyperparameter Tuning"
      ]
    },
    {
      "cell_type": "code",
      "execution_count": 52,
      "metadata": {
        "colab": {
          "base_uri": "https://localhost:8080/",
          "height": 296
        },
        "id": "8AT0wUSWs-w_",
        "outputId": "cad9d3d1-94e5-4aae-9bd7-a1409034afb9"
      },
      "outputs": [
        {
          "output_type": "stream",
          "name": "stderr",
          "text": [
            "/usr/local/lib/python3.7/dist-packages/sklearn/neural_network/_multilayer_perceptron.py:696: ConvergenceWarning: Stochastic Optimizer: Maximum iterations (10000) reached and the optimization hasn't converged yet.\n",
            "  ConvergenceWarning,\n",
            "/usr/local/lib/python3.7/dist-packages/sklearn/neural_network/_multilayer_perceptron.py:696: ConvergenceWarning: Stochastic Optimizer: Maximum iterations (10000) reached and the optimization hasn't converged yet.\n",
            "  ConvergenceWarning,\n"
          ]
        },
        {
          "output_type": "execute_result",
          "data": {
            "text/html": [
              "\n",
              "  <div id=\"df-4670f88e-8e5a-47c2-8ac3-2a65d269d992\">\n",
              "    <div class=\"colab-df-container\">\n",
              "      <div>\n",
              "<style scoped>\n",
              "    .dataframe tbody tr th:only-of-type {\n",
              "        vertical-align: middle;\n",
              "    }\n",
              "\n",
              "    .dataframe tbody tr th {\n",
              "        vertical-align: top;\n",
              "    }\n",
              "\n",
              "    .dataframe thead th {\n",
              "        text-align: right;\n",
              "    }\n",
              "</style>\n",
              "<table border=\"1\" class=\"dataframe\">\n",
              "  <thead>\n",
              "    <tr style=\"text-align: right;\">\n",
              "      <th></th>\n",
              "      <th>max_iter</th>\n",
              "      <th>learning_rate</th>\n",
              "      <th>tol_val</th>\n",
              "      <th>train_score</th>\n",
              "      <th>test_score</th>\n",
              "      <th>auc_score_train</th>\n",
              "      <th>auc_score_test</th>\n",
              "    </tr>\n",
              "  </thead>\n",
              "  <tbody>\n",
              "    <tr>\n",
              "      <th>0</th>\n",
              "      <td>10000</td>\n",
              "      <td>0.000001</td>\n",
              "      <td>0.000001</td>\n",
              "      <td>0.911581</td>\n",
              "      <td>0.901639</td>\n",
              "      <td>0.500000</td>\n",
              "      <td>0.500000</td>\n",
              "    </tr>\n",
              "    <tr>\n",
              "      <th>1</th>\n",
              "      <td>10000</td>\n",
              "      <td>0.000001</td>\n",
              "      <td>0.000010</td>\n",
              "      <td>0.911581</td>\n",
              "      <td>0.901639</td>\n",
              "      <td>0.500000</td>\n",
              "      <td>0.500000</td>\n",
              "    </tr>\n",
              "    <tr>\n",
              "      <th>2</th>\n",
              "      <td>10000</td>\n",
              "      <td>0.000001</td>\n",
              "      <td>0.000100</td>\n",
              "      <td>0.911581</td>\n",
              "      <td>0.901639</td>\n",
              "      <td>0.500000</td>\n",
              "      <td>0.500000</td>\n",
              "    </tr>\n",
              "    <tr>\n",
              "      <th>3</th>\n",
              "      <td>10000</td>\n",
              "      <td>0.000001</td>\n",
              "      <td>0.001000</td>\n",
              "      <td>0.128326</td>\n",
              "      <td>0.138434</td>\n",
              "      <td>0.421999</td>\n",
              "      <td>0.472727</td>\n",
              "    </tr>\n",
              "    <tr>\n",
              "      <th>4</th>\n",
              "      <td>10000</td>\n",
              "      <td>0.000001</td>\n",
              "      <td>0.010000</td>\n",
              "      <td>0.601721</td>\n",
              "      <td>0.584699</td>\n",
              "      <td>0.589757</td>\n",
              "      <td>0.555219</td>\n",
              "    </tr>\n",
              "  </tbody>\n",
              "</table>\n",
              "</div>\n",
              "      <button class=\"colab-df-convert\" onclick=\"convertToInteractive('df-4670f88e-8e5a-47c2-8ac3-2a65d269d992')\"\n",
              "              title=\"Convert this dataframe to an interactive table.\"\n",
              "              style=\"display:none;\">\n",
              "        \n",
              "  <svg xmlns=\"http://www.w3.org/2000/svg\" height=\"24px\"viewBox=\"0 0 24 24\"\n",
              "       width=\"24px\">\n",
              "    <path d=\"M0 0h24v24H0V0z\" fill=\"none\"/>\n",
              "    <path d=\"M18.56 5.44l.94 2.06.94-2.06 2.06-.94-2.06-.94-.94-2.06-.94 2.06-2.06.94zm-11 1L8.5 8.5l.94-2.06 2.06-.94-2.06-.94L8.5 2.5l-.94 2.06-2.06.94zm10 10l.94 2.06.94-2.06 2.06-.94-2.06-.94-.94-2.06-.94 2.06-2.06.94z\"/><path d=\"M17.41 7.96l-1.37-1.37c-.4-.4-.92-.59-1.43-.59-.52 0-1.04.2-1.43.59L10.3 9.45l-7.72 7.72c-.78.78-.78 2.05 0 2.83L4 21.41c.39.39.9.59 1.41.59.51 0 1.02-.2 1.41-.59l7.78-7.78 2.81-2.81c.8-.78.8-2.07 0-2.86zM5.41 20L4 18.59l7.72-7.72 1.47 1.35L5.41 20z\"/>\n",
              "  </svg>\n",
              "      </button>\n",
              "      \n",
              "  <style>\n",
              "    .colab-df-container {\n",
              "      display:flex;\n",
              "      flex-wrap:wrap;\n",
              "      gap: 12px;\n",
              "    }\n",
              "\n",
              "    .colab-df-convert {\n",
              "      background-color: #E8F0FE;\n",
              "      border: none;\n",
              "      border-radius: 50%;\n",
              "      cursor: pointer;\n",
              "      display: none;\n",
              "      fill: #1967D2;\n",
              "      height: 32px;\n",
              "      padding: 0 0 0 0;\n",
              "      width: 32px;\n",
              "    }\n",
              "\n",
              "    .colab-df-convert:hover {\n",
              "      background-color: #E2EBFA;\n",
              "      box-shadow: 0px 1px 2px rgba(60, 64, 67, 0.3), 0px 1px 3px 1px rgba(60, 64, 67, 0.15);\n",
              "      fill: #174EA6;\n",
              "    }\n",
              "\n",
              "    [theme=dark] .colab-df-convert {\n",
              "      background-color: #3B4455;\n",
              "      fill: #D2E3FC;\n",
              "    }\n",
              "\n",
              "    [theme=dark] .colab-df-convert:hover {\n",
              "      background-color: #434B5C;\n",
              "      box-shadow: 0px 1px 3px 1px rgba(0, 0, 0, 0.15);\n",
              "      filter: drop-shadow(0px 1px 2px rgba(0, 0, 0, 0.3));\n",
              "      fill: #FFFFFF;\n",
              "    }\n",
              "  </style>\n",
              "\n",
              "      <script>\n",
              "        const buttonEl =\n",
              "          document.querySelector('#df-4670f88e-8e5a-47c2-8ac3-2a65d269d992 button.colab-df-convert');\n",
              "        buttonEl.style.display =\n",
              "          google.colab.kernel.accessAllowed ? 'block' : 'none';\n",
              "\n",
              "        async function convertToInteractive(key) {\n",
              "          const element = document.querySelector('#df-4670f88e-8e5a-47c2-8ac3-2a65d269d992');\n",
              "          const dataTable =\n",
              "            await google.colab.kernel.invokeFunction('convertToInteractive',\n",
              "                                                     [key], {});\n",
              "          if (!dataTable) return;\n",
              "\n",
              "          const docLinkHtml = 'Like what you see? Visit the ' +\n",
              "            '<a target=\"_blank\" href=https://colab.research.google.com/notebooks/data_table.ipynb>data table notebook</a>'\n",
              "            + ' to learn more about interactive tables.';\n",
              "          element.innerHTML = '';\n",
              "          dataTable['output_type'] = 'display_data';\n",
              "          await google.colab.output.renderOutput(dataTable, element);\n",
              "          const docLink = document.createElement('div');\n",
              "          docLink.innerHTML = docLinkHtml;\n",
              "          element.appendChild(docLink);\n",
              "        }\n",
              "      </script>\n",
              "    </div>\n",
              "  </div>\n",
              "  "
            ],
            "text/plain": [
              "   max_iter  learning_rate  ...  auc_score_train  auc_score_test\n",
              "0     10000       0.000001  ...         0.500000        0.500000\n",
              "1     10000       0.000001  ...         0.500000        0.500000\n",
              "2     10000       0.000001  ...         0.500000        0.500000\n",
              "3     10000       0.000001  ...         0.421999        0.472727\n",
              "4     10000       0.000001  ...         0.589757        0.555219\n",
              "\n",
              "[5 rows x 7 columns]"
            ]
          },
          "metadata": {},
          "execution_count": 52
        }
      ],
      "source": [
        "max_iter = [10000]\n",
        "learning_rate = [1e-6, 1e-5, 1e-4, 1e-3, 1e-2, 1e-1, 1]\n",
        "tol_val = [1e-6, 1e-5, 1e-4, 1e-3, 1e-2, 1e-1, 1]\n",
        "vals_MLP = []\n",
        "for i in max_iter:\n",
        "  for j in learning_rate:\n",
        "    for k in tol_val:\n",
        "      clf, train_score, test_score, auc_score1, auc_score2 = MLP(X_train, Y_train, X_test, Y_test, j, i, k)\n",
        "      vals_MLP.append([i, j, k, train_score, test_score, auc_score1, auc_score2])\n",
        "MLP_table = pd.DataFrame(data = vals_MLP, columns = ['max_iter', 'learning_rate', 'tol_val', 'train_score', 'test_score', 'auc_score_train', 'auc_score_test'])\n",
        "MLP_table.head()"
      ]
    },
    {
      "cell_type": "markdown",
      "metadata": {
        "id": "iJWT8S_ws-xB"
      },
      "source": [
        "####Accuracy Vs AUR_ROC"
      ]
    },
    {
      "cell_type": "code",
      "execution_count": 53,
      "metadata": {
        "colab": {
          "base_uri": "https://localhost:8080/",
          "height": 282
        },
        "outputId": "7f192c7c-8581-4a6e-b807-8f78d1eca0df",
        "id": "zqF1QCTQs-xC"
      },
      "outputs": [
        {
          "output_type": "execute_result",
          "data": {
            "text/plain": [
              "[<matplotlib.lines.Line2D at 0x7f75b3eb8690>]"
            ]
          },
          "metadata": {},
          "execution_count": 53
        },
        {
          "output_type": "display_data",
          "data": {
            "image/png": "[encoded data removed]",
            "text/plain": [
              "<Figure size 432x288 with 1 Axes>"
            ]
          },
          "metadata": {
            "needs_background": "light"
          }
        }
      ],
      "source": [
        "plt.plot(MLP_table['train_score'], MLP_table['auc_score_train'])"
      ]
    },
    {
      "cell_type": "code",
      "execution_count": 54,
      "metadata": {
        "colab": {
          "base_uri": "https://localhost:8080/",
          "height": 282
        },
        "outputId": "a4ec9667-5cca-4107-b885-56e801bfa54f",
        "id": "pEF3CCNqs-xD"
      },
      "outputs": [
        {
          "output_type": "execute_result",
          "data": {
            "text/plain": [
              "[<matplotlib.lines.Line2D at 0x7f75b3e20150>]"
            ]
          },
          "metadata": {},
          "execution_count": 54
        },
        {
          "output_type": "display_data",
          "data": {
            "image/png": "[encoded data removed]",
            "text/plain": [
              "<Figure size 432x288 with 1 Axes>"
            ]
          },
          "metadata": {
            "needs_background": "light"
          }
        }
      ],
      "source": [
        "plt.plot(MLP_table['test_score'], MLP_table['auc_score_test'])"
      ]
    },
    {
      "cell_type": "code",
      "execution_count": 55,
      "metadata": {
        "colab": {
          "base_uri": "https://localhost:8080/"
        },
        "outputId": "51ca7825-4c54-4186-bdee-ea65a8bcb746",
        "id": "kf-dYOwMs-xE"
      },
      "outputs": [
        {
          "output_type": "stream",
          "name": "stdout",
          "text": [
            "0.9253187613843351 0.7462962962962965 0.9553990610328639 0.8134034714573284\n"
          ]
        }
      ],
      "source": [
        "print(MLP_table['test_score'].max(),MLP_table['auc_score_test'].max(), MLP_table['train_score'].max(), MLP_table['auc_score_train'].max())"
      ]
    },
    {
      "cell_type": "code",
      "execution_count": 56,
      "metadata": {
        "colab": {
          "base_uri": "https://localhost:8080/"
        },
        "outputId": "8d4ff445-33c7-4ea0-c1b2-cef2978bbaa8",
        "id": "P_kKphsFs-xF"
      },
      "outputs": [
        {
          "output_type": "stream",
          "name": "stdout",
          "text": [
            "22 35 30 35\n"
          ]
        }
      ],
      "source": [
        "print(MLP_table['test_score'].idxmax(),MLP_table['auc_score_test'].idxmax(), MLP_table['train_score'].idxmax(), MLP_table['auc_score_train'].idxmax())"
      ]
    },
    {
      "cell_type": "markdown",
      "metadata": {
        "id": "Cy--Pjhhs-xG"
      },
      "source": [
        "####Getting Hyperparameters with best scores"
      ]
    },
    {
      "cell_type": "code",
      "execution_count": 57,
      "metadata": {
        "colab": {
          "base_uri": "https://localhost:8080/"
        },
        "outputId": "9dff29ba-4be1-4ee6-8251-1f577a26b4dc",
        "id": "IVn_YAfSs-xH"
      },
      "outputs": [
        {
          "output_type": "stream",
          "name": "stdout",
          "text": [
            "    max_iter  learning_rate  ...  auc_score_train  auc_score_test\n",
            "22     10000          0.001  ...         0.751916         0.62862\n",
            "\n",
            "[1 rows x 7 columns]\n",
            "22    0.00001\n",
            "Name: tol_val, dtype: float64\n",
            "    max_iter  learning_rate  ...  auc_score_train  auc_score_test\n",
            "30     10000           0.01  ...         0.811717        0.676094\n",
            "\n",
            "[1 rows x 7 columns]\n",
            "30    0.0001\n",
            "Name: tol_val, dtype: float64\n",
            "    max_iter  learning_rate  ...  auc_score_train  auc_score_test\n",
            "35     10000            0.1  ...         0.813403        0.746296\n",
            "\n",
            "[1 rows x 7 columns]\n",
            "35    0.000001\n",
            "Name: tol_val, dtype: float64\n"
          ]
        }
      ],
      "source": [
        "for i in [22, 30, 35]:\n",
        "  print(MLP_table[i:(i+1)])\n",
        "  print(MLP_table[i:(i+1)].tol_val)"
      ]
    },
    {
      "cell_type": "markdown",
      "metadata": {
        "id": "rxh14ZyVs-xI"
      },
      "source": [
        "####Final Model"
      ]
    },
    {
      "cell_type": "code",
      "execution_count": 61,
      "metadata": {
        "colab": {
          "base_uri": "https://localhost:8080/"
        },
        "outputId": "b703c200-613b-4016-b502-52a7f1323c1f",
        "id": "LP6w1Fues-xJ"
      },
      "outputs": [
        {
          "output_type": "stream",
          "name": "stdout",
          "text": [
            "0.94679186228482 0.8069960879638421 0.9180327868852459 0.6905723905723906\n"
          ]
        }
      ],
      "source": [
        "clf_MLP, train_score_MLP, test_score_MLP, auc_train_score_MLP, auc_test_score_MLP = MLP(X_train, Y_train, X_test, Y_test,0.1, 100000, 0.000001)\n",
        "print(train_score_MLP, auc_train_score_MLP, test_score_MLP, auc_test_score_MLP)"
      ]
    },
    {
      "cell_type": "markdown",
      "source": [
        "#Best Model Confusion Matrix"
      ],
      "metadata": {
        "id": "2RMpLtw5EO16"
      }
    },
    {
      "cell_type": "code",
      "source": [
        "from sklearn.metrics import confusion_matrix, ConfusionMatrixDisplay\n",
        "from sklearn.metrics import precision_recall_fscore_support\n",
        "def represent_best(X_train, Y_train, X_test, Y_test, clf, train_score, auc_train_score, test_score, auc_test_score):\n",
        "  print(\"Train Data: \\n\\n\")\n",
        "  print(\"Accuracy:\", train_score, \"\\n\")\n",
        "  print(\"AUC_ROC Score:\", auc_train_score, \"\\n\")\n",
        "  print(\"Confusion Matrix Train\\n\")\n",
        "  cm1 = confusion_matrix(Y_train, clf.predict(X_train) , labels=clf.classes_)\n",
        "  disp1 = ConfusionMatrixDisplay(confusion_matrix=cm1,\n",
        "                           display_labels=clf.classes_)\n",
        "  disp1.plot()\n",
        "  plt.show()\n",
        "\n",
        "  print(\"Test Data: \\n\\n\")\n",
        "  print(\"Accuracy:\", test_score, \"\\n\")\n",
        "  print(\"AUC_ROC Score:\", auc_test_score, \"\\n\")\n",
        "  print(\"Confusion Matrix Train\")\n",
        "  cm2  = confusion_matrix(Y_test, clf.predict(X_test), labels=clf.classes_)\n",
        "  disp2 = ConfusionMatrixDisplay(confusion_matrix=cm2,\n",
        "                           display_labels=clf.classes_)\n",
        "  disp2.plot()\n",
        "  plt.show()"
      ],
      "metadata": {
        "id": "hJRrSI9GrB0w"
      },
      "execution_count": 19,
      "outputs": []
    },
    {
      "cell_type": "markdown",
      "source": [
        "####Logistic Regression Confusion Matrix"
      ],
      "metadata": {
        "id": "brsXs6JUNsi1"
      }
    },
    {
      "cell_type": "code",
      "source": [
        "represent_best(X_train, Y_train, X_test, Y_test, clf_logistic, train_score_logistic, auc_train_score_logistic, test_score_logistic, auc_test_score_logistic)"
      ],
      "metadata": {
        "colab": {
          "base_uri": "https://localhost:8080/",
          "height": 839
        },
        "outputId": "15f86bd9-b8fe-4443-e571-01048428bbec",
        "id": "ny3A0SO9rB0y"
      },
      "execution_count": 20,
      "outputs": [
        {
          "output_type": "stream",
          "name": "stdout",
          "text": [
            "Train Data: \n",
            "\n",
            "\n",
            "Accuracy: 0.863849765258216 \n",
            "\n",
            "AUC_ROC Score: 0.8693835694481371 \n",
            "\n",
            "Confusion Matrix Train\n",
            "\n"
          ]
        },
        {
          "output_type": "display_data",
          "data": {
            "image/png": "[encoded data removed]",
            "text/plain": [
              "<Figure size 432x288 with 2 Axes>"
            ]
          },
          "metadata": {
            "needs_background": "light"
          }
        },
        {
          "output_type": "stream",
          "name": "stdout",
          "text": [
            "Test Data: \n",
            "\n",
            "\n",
            "Accuracy: 0.8633879781420765 \n",
            "\n",
            "AUC_ROC Score: 0.8582491582491583 \n",
            "\n",
            "Confusion Matrix Train\n"
          ]
        },
        {
          "output_type": "display_data",
          "data": {
            "image/png": "[encoded data removed]",
            "text/plain": [
              "<Figure size 432x288 with 2 Axes>"
            ]
          },
          "metadata": {
            "needs_background": "light"
          }
        }
      ]
    },
    {
      "cell_type": "markdown",
      "source": [
        "####SVM Confusion Matrix"
      ],
      "metadata": {
        "id": "ftZQF_rPNz37"
      }
    },
    {
      "cell_type": "code",
      "source": [
        "represent_best(X_train, Y_train, X_test, Y_test, clf_svm, train_score_svm, auc_train_score_svm, test_score_svm, auc_test_score_svm)"
      ],
      "metadata": {
        "colab": {
          "base_uri": "https://localhost:8080/",
          "height": 839
        },
        "id": "4Hn-S3G6OVWB",
        "outputId": "8acf78d8-4448-4d72-bbf8-f459b64626c8"
      },
      "execution_count": 30,
      "outputs": [
        {
          "output_type": "stream",
          "name": "stdout",
          "text": [
            "Train Data: \n",
            "\n",
            "\n",
            "Accuracy: 0.8724569640062598 \n",
            "\n",
            "AUC_ROC Score: 0.9100649473964071 \n",
            "\n",
            "Confusion Matrix Train\n",
            "\n"
          ]
        },
        {
          "output_type": "display_data",
          "data": {
            "image/png": "[encoded data removed]",
            "text/plain": [
              "<Figure size 432x288 with 2 Axes>"
            ]
          },
          "metadata": {
            "needs_background": "light"
          }
        },
        {
          "output_type": "stream",
          "name": "stdout",
          "text": [
            "Test Data: \n",
            "\n",
            "\n",
            "Accuracy: 0.8615664845173042 \n",
            "\n",
            "AUC_ROC Score: 0.8572390572390572 \n",
            "\n",
            "Confusion Matrix Train\n"
          ]
        },
        {
          "output_type": "display_data",
          "data": {
            "image/png": "[encoded data removed]",
            "text/plain": [
              "<Figure size 432x288 with 2 Axes>"
            ]
          },
          "metadata": {
            "needs_background": "light"
          }
        }
      ]
    },
    {
      "cell_type": "markdown",
      "source": [
        "####Gradient Boost Confusion Matrix"
      ],
      "metadata": {
        "id": "SmA8AeNFN4Kg"
      }
    },
    {
      "cell_type": "code",
      "source": [
        "represent_best(X_train, Y_train, X_test, Y_test, clf_grd_boost, train_score_grd_boost, auc_train_score_grd_boost, test_score_grd_boost, auc_test_score_grd_boost)"
      ],
      "metadata": {
        "colab": {
          "base_uri": "https://localhost:8080/",
          "height": 836
        },
        "id": "ZjoNI4PAOWHj",
        "outputId": "5886862f-30ca-4520-9ef3-cda64bf6a798"
      },
      "execution_count": 40,
      "outputs": [
        {
          "output_type": "stream",
          "name": "stdout",
          "text": [
            "Train Data: \n",
            "\n",
            "\n",
            "Accuracy: 0.9780907668231612 \n",
            "\n",
            "AUC_ROC Score: 0.8880929773253827 \n",
            "\n",
            "Confusion Matrix Train\n",
            "\n"
          ]
        },
        {
          "output_type": "display_data",
          "data": {
            "image/png": "[encoded data removed]",
            "text/plain": [
              "<Figure size 432x288 with 2 Axes>"
            ]
          },
          "metadata": {
            "needs_background": "light"
          }
        },
        {
          "output_type": "stream",
          "name": "stdout",
          "text": [
            "Test Data: \n",
            "\n",
            "\n",
            "Accuracy: 0.9326047358834244 \n",
            "\n",
            "AUC_ROC Score: 0.6904040404040402 \n",
            "\n",
            "Confusion Matrix Train\n"
          ]
        },
        {
          "output_type": "display_data",
          "data": {
            "image/png": "[encoded data removed]",
            "text/plain": [
              "<Figure size 432x288 with 2 Axes>"
            ]
          },
          "metadata": {
            "needs_background": "light"
          }
        }
      ]
    },
    {
      "cell_type": "markdown",
      "source": [
        "####Random Forest Confusion Matrix"
      ],
      "metadata": {
        "id": "bRXedUbtN4N6"
      }
    },
    {
      "cell_type": "code",
      "source": [
        "represent_best(X_train, Y_train, X_test, Y_test, clf_random_forest, train_score_random_forest, auc_train_score_random_forest, test_score_random_forest, auc_test_score_random_forest)"
      ],
      "metadata": {
        "colab": {
          "base_uri": "https://localhost:8080/",
          "height": 836
        },
        "id": "B8KZacTyOXxl",
        "outputId": "ebdd57b1-d353-4e8f-add2-7f1d208d1ba2"
      },
      "execution_count": 50,
      "outputs": [
        {
          "output_type": "stream",
          "name": "stdout",
          "text": [
            "Train Data: \n",
            "\n",
            "\n",
            "Accuracy: 0.918622848200313 \n",
            "\n",
            "AUC_ROC Score: 0.9194044589616014 \n",
            "\n",
            "Confusion Matrix Train\n",
            "\n"
          ]
        },
        {
          "output_type": "display_data",
          "data": {
            "image/png": "[encoded data removed]",
            "text/plain": [
              "<Figure size 432x288 with 2 Axes>"
            ]
          },
          "metadata": {
            "needs_background": "light"
          }
        },
        {
          "output_type": "stream",
          "name": "stdout",
          "text": [
            "Test Data: \n",
            "\n",
            "\n",
            "Accuracy: 0.8797814207650273 \n",
            "\n",
            "AUC_ROC Score: 0.8425925925925926 \n",
            "\n",
            "Confusion Matrix Train\n"
          ]
        },
        {
          "output_type": "display_data",
          "data": {
            "image/png": "[encoded data removed]",
            "text/plain": [
              "<Figure size 432x288 with 2 Axes>"
            ]
          },
          "metadata": {
            "needs_background": "light"
          }
        }
      ]
    },
    {
      "cell_type": "markdown",
      "source": [
        "####MLP Confusion Matrix"
      ],
      "metadata": {
        "id": "_XpHz5mBN4HQ"
      }
    },
    {
      "cell_type": "code",
      "source": [
        "represent_best(X_train, Y_train, X_test, Y_test, clf_MLP, train_score_MLP, auc_train_score_MLP, test_score_MLP, auc_test_score_MLP)"
      ],
      "metadata": {
        "colab": {
          "base_uri": "https://localhost:8080/",
          "height": 836
        },
        "id": "mUmsZLPkN3oF",
        "outputId": "dee560d1-6636-48af-fc01-16cd9456e24c"
      },
      "execution_count": 62,
      "outputs": [
        {
          "output_type": "stream",
          "name": "stdout",
          "text": [
            "Train Data: \n",
            "\n",
            "\n",
            "Accuracy: 0.94679186228482 \n",
            "\n",
            "AUC_ROC Score: 0.8069960879638421 \n",
            "\n",
            "Confusion Matrix Train\n",
            "\n"
          ]
        },
        {
          "output_type": "display_data",
          "data": {
            "image/png": "[encoded data removed]",
            "text/plain": [
              "<Figure size 432x288 with 2 Axes>"
            ]
          },
          "metadata": {
            "needs_background": "light"
          }
        },
        {
          "output_type": "stream",
          "name": "stdout",
          "text": [
            "Test Data: \n",
            "\n",
            "\n",
            "Accuracy: 0.9180327868852459 \n",
            "\n",
            "AUC_ROC Score: 0.6905723905723906 \n",
            "\n",
            "Confusion Matrix Train\n"
          ]
        },
        {
          "output_type": "display_data",
          "data": {
            "image/png": "[encoded data removed]",
            "text/plain": [
              "<Figure size 432x288 with 2 Axes>"
            ]
          },
          "metadata": {
            "needs_background": "light"
          }
        }
      ]
    }
  ]
}